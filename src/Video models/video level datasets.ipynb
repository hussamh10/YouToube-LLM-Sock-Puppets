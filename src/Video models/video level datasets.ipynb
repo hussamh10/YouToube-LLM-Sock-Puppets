{
 "cells": [
  {
   "cell_type": "code",
   "execution_count": 10,
   "metadata": {},
   "outputs": [],
   "source": [
    "import pandas as pd\n",
    "import pickle as pkl\n",
    "import numpy as np\n",
    "\n",
    "import sys\n",
    "sys.path.append('../')\n",
    "from utils import *"
   ]
  },
  {
   "cell_type": "code",
   "execution_count": null,
   "metadata": {},
   "outputs": [],
   "source": [
    "embeddings = pd.read_pickle('../../data/embeddings/title-autoencoded')\n",
    "meta_data = pd.read_pickle('../../data/videos_raw_metadata')"
   ]
  },
  {
   "cell_type": "code",
   "execution_count": 41,
   "metadata": {},
   "outputs": [],
   "source": [
    "df = pd.read_parquet('../../logs.parquet')\n",
    "# df = df[df['is_video']]\n",
    "users = list(set(df['userId'].tolist()))"
   ]
  },
  {
   "cell_type": "code",
   "execution_count": 42,
   "metadata": {},
   "outputs": [],
   "source": [
    "videos = clean(meta_data, titles=embeddings)"
   ]
  },
  {
   "cell_type": "code",
   "execution_count": 59,
   "metadata": {},
   "outputs": [
    {
     "data": {
      "application/vnd.jupyter.widget-view+json": {
       "model_id": "4cb7ab93f00f4ca7a60924b5771bfd33",
       "version_major": 2,
       "version_minor": 0
      },
      "text/plain": [
       "  0%|          | 0/2171 [00:00<?, ?it/s]"
      ]
     },
     "metadata": {},
     "output_type": "display_data"
    }
   ],
   "source": [
    "data = dict()\n",
    "\n",
    "for user in tqdm(users):\n",
    "    data[user] = df[df['userId'] == user].sort_values('date')\n",
    "\n",
    "sessions = dict()\n",
    "for user in tqdm(users):\n",
    "    sessions[user] = []\n",
    "    sess = data[user][['date', 'url', 'is_video', 'upnext_content']].to_dict('records')\n",
    "    session = []\n",
    "    session_active = False\n",
    "    for watch in sess:\n",
    "        # when waiting for first video in a session\n",
    "        if not session_active and watch['is_video']:\n",
    "            session = []\n",
    "            session.append(watch)\n",
    "            session_active = True\n",
    "\n",
    "        # back to back videos\n",
    "        elif session_active and watch['is_video']:\n",
    "            upnexts = decode_upnext(session[-1]['upnext_content'])\n",
    "            this_url = get_id(watch['url'])\n",
    "            if this_url in upnexts:\n",
    "                session.append(watch)\n",
    "\n",
    "\n",
    "        # if next watch is not video when session active\n",
    "        elif session_active and not watch['is_video']:\n",
    "            session_active = False\n",
    "            if len(session) > 1:\n",
    "                sessions[user].append(session)\n",
    "            session = []"
   ]
  },
  {
   "cell_type": "code",
   "execution_count": 65,
   "metadata": {},
   "outputs": [],
   "source": [
    "session_users = []\n",
    "for user in sessions:\n",
    "    if len(sessions[user]) != 0:\n",
    "        session_users.append(user)"
   ]
  },
  {
   "cell_type": "code",
   "execution_count": 68,
   "metadata": {},
   "outputs": [
    {
     "data": {
      "application/vnd.jupyter.widget-view+json": {
       "model_id": "dcc94f0d09b44a08ae0c704f91802903",
       "version_major": 2,
       "version_minor": 0
      },
      "text/plain": [
       "  0%|          | 0/1289 [00:00<?, ?it/s]"
      ]
     },
     "metadata": {},
     "output_type": "display_data"
    }
   ],
   "source": [
    "watches = []\n",
    "for user in tqdm(session_users):\n",
    "    for session in sessions[user]:\n",
    "        for watching, next_watch in zip(session[:-1], session[1:]):\n",
    "            watch = dict()\n",
    "            watch['playing'] = get_id(watching['url']) \n",
    "            watch['upnext'] = decode_upnext(watching['upnext_content']) \n",
    "            watch['selected'] = get_id(next_watch['url'])\n",
    "            watches.append(watch)"
   ]
  },
  {
   "cell_type": "code",
   "execution_count": 72,
   "metadata": {},
   "outputs": [],
   "source": [
    "pkl.dump(watches, open('../../data/datasets/raw-video-level-watches', 'wb'))"
   ]
  }
 ],
 "metadata": {
  "kernelspec": {
   "display_name": "jup",
   "language": "python",
   "name": "python3"
  },
  "language_info": {
   "codemirror_mode": {
    "name": "ipython",
    "version": 3
   },
   "file_extension": ".py",
   "mimetype": "text/x-python",
   "name": "python",
   "nbconvert_exporter": "python",
   "pygments_lexer": "ipython3",
   "version": "3.10.4"
  },
  "orig_nbformat": 4
 },
 "nbformat": 4,
 "nbformat_minor": 2
}
