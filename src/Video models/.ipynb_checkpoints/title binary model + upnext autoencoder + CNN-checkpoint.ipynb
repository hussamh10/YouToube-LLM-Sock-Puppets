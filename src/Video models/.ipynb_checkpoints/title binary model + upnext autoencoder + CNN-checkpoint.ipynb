{
 "cells": [
  {
   "cell_type": "code",
   "execution_count": 1,
   "metadata": {},
   "outputs": [],
   "source": [
    "import pandas as pd\n",
    "import numpy as np\n",
    "import pickle as pkl\n",
    "\n",
    "import sys\n",
    "sys.path.append('../')\n",
    "from utils import *"
   ]
  },
  {
   "cell_type": "code",
   "execution_count": 2,
   "metadata": {},
   "outputs": [],
   "source": [
    "df = pd.read_pickle('../../data/datasets/video-level-watches+autoencoded-upnext')\n",
    "videos = pd.read_pickle('../../data/videos_raw_metadata')\n",
    "title_embeddings = pd.read_pickle('../../data/embeddings/title-autoencoded')"
   ]
  },
  {
   "cell_type": "code",
   "execution_count": 3,
   "metadata": {},
   "outputs": [
    {
     "data": {
      "application/vnd.jupyter.widget-view+json": {
       "model_id": "9bdcf98f413148a6a370bcbdff759337",
       "version_major": 2,
       "version_minor": 0
      },
      "text/plain": [
       "HBox(children=(IntProgress(value=0, max=6050), HTML(value='')))"
      ]
     },
     "metadata": {},
     "output_type": "display_data"
    },
    {
     "name": "stdout",
     "output_type": "stream",
     "text": [
      "\n"
     ]
    }
   ],
   "source": [
    "X = []\n",
    "Y = []\n",
    "for watch in tqdm(df):\n",
    "    playing = watch['playing']\n",
    "    selected = watch['selected']\n",
    "    if playing not in videos or selected not in videos or any([s not in videos for s in watch['upnext']]):\n",
    "        continue\n",
    "\n",
    "    if len(watch['upnext']) < 15:\n",
    "        continue\n",
    "        \n",
    "    upnext = watch['upnext'][:15]\n",
    "    for s in upnext:\n",
    "        playing = watch['playing']\n",
    "        selected = watch['selected']\n",
    "\n",
    "        if s == selected:\n",
    "            y = 1\n",
    "        else:\n",
    "            y = 0\n",
    "\n",
    "        playing = np.array(title_embeddings[videos[playing]['snippet']['title']])[0]\n",
    "        suggested = np.array(title_embeddings[videos[s]['snippet']['title']])[0]\n",
    "        \n",
    "        all_suggested = np.array(watch['upnext_embs'])[0]\n",
    "\n",
    "        x = np.array([playing, suggested, all_suggested])\n",
    "\n",
    "        X.append(x)\n",
    "        Y.append(y)"
   ]
  },
  {
   "cell_type": "code",
   "execution_count": 4,
   "metadata": {},
   "outputs": [],
   "source": [
    "X = np.array(X)\n",
    "Y = np.array(Y)"
   ]
  },
  {
   "cell_type": "code",
   "execution_count": 5,
   "metadata": {},
   "outputs": [],
   "source": [
    "from sklearn.model_selection import train_test_split\n",
    "X_train, X_test, y_train, y_test = train_test_split(X, Y, test_size=0.2, random_state=1, stratify=Y)"
   ]
  },
  {
   "cell_type": "code",
   "execution_count": 6,
   "metadata": {},
   "outputs": [],
   "source": [
    "X_train = np.array(X_train)\n",
    "X_test = np.array(X_test)\n",
    "y_train = np.array(y_train)\n",
    "y_test = np.array(y_test)"
   ]
  },
  {
   "cell_type": "code",
   "execution_count": 25,
   "metadata": {},
   "outputs": [
    {
     "data": {
      "text/plain": [
       "{0: 0.534742570113018, 1: 7.69578313253012}"
      ]
     },
     "execution_count": 25,
     "metadata": {},
     "output_type": "execute_result"
    }
   ],
   "source": [
    "pos = Y.sum()\n",
    "neg = len(Y) - pos\n",
    "total = neg + pos\n",
    "w0 = (1 / neg) * (total / 2.0)\n",
    "w1 = (1 / pos) * (total / 2.0)\n",
    "class_weights = {0:w0, 1:w1}\n",
    "class_weights"
   ]
  },
  {
   "cell_type": "code",
   "execution_count": null,
   "metadata": {},
   "outputs": [
    {
     "name": "stdout",
     "output_type": "stream",
     "text": [
      "Epoch 1/100\n",
      "3450/3450 [==============================] - 31s 8ms/step - loss: 0.6950 - tp: 2719.0000 - fp: 40154.0000 - tn: 11448.0000 - fn: 867.0000 - accuracy: 0.2567 - precision: 0.0634 - recall: 0.7582 - auc: 0.4957 - prc: 0.0639\n",
      "Epoch 2/100\n",
      "3450/3450 [==============================] - 29s 8ms/step - loss: 0.6933 - tp: 1564.0000 - fp: 22297.0000 - tn: 29305.0000 - fn: 2022.0000 - accuracy: 0.5593 - precision: 0.0655 - recall: 0.4361 - auc: 0.4967 - prc: 0.0641\n",
      "Epoch 3/100\n",
      "3450/3450 [==============================] - 30s 9ms/step - loss: 0.6933 - tp: 1115.0000 - fp: 16106.0000 - tn: 35496.0000 - fn: 2471.0000 - accuracy: 0.6634 - precision: 0.0647 - recall: 0.3109 - auc: 0.4948 - prc: 0.0653\n",
      "Epoch 4/100\n",
      "3450/3450 [==============================] - 30s 9ms/step - loss: 0.6935 - tp: 1466.0000 - fp: 21530.0000 - tn: 30072.0000 - fn: 2120.0000 - accuracy: 0.5715 - precision: 0.0638 - recall: 0.4088 - auc: 0.4946 - prc: 0.0638\n",
      "Epoch 5/100\n",
      "3087/3450 [=========================>....] - ETA: 3s - loss: 0.6943 - tp: 2158.0000 - fp: 31279.0000 - tn: 14895.0000 - fn: 1060.0000 - accuracy: 0.3453 - precision: 0.0645 - recall: 0.6706 - auc: 0.4960 - prc: 0.0642"
     ]
    }
   ],
   "source": [
    "# train neural network\n",
    "\n",
    "from tensorflow import keras\n",
    "from keras.models import Sequential\n",
    "from keras.layers import Dense, Dropout\n",
    "from tensorflow.keras.optimizers import SGD\n",
    "\n",
    "\n",
    "model = Sequential()\n",
    "model.add(Dense(384, activation='relu', input_dim=384))\n",
    "model.add(Dropout(0.2))\n",
    "model.add(Dense(256, activation='relu'))\n",
    "model.add(Dropout(0.2))\n",
    "model.add(Dense(128, activation='relu'))\n",
    "model.add(Dropout(0.2))\n",
    "model.add(Dense(64, activation='relu'))\n",
    "model.add(Dropout(0.2))\n",
    "model.add(Dense(32, activation='relu'))\n",
    "model.add(Dropout(0.2))\n",
    "model.add(Dense(16, activation='relu'))\n",
    "model.add(Dropout(0.2))\n",
    "model.add(Dense(8, activation='relu'))\n",
    "model.add(Dense(1, activation='sigmoid'))\n",
    "\n",
    "sgd = SGD(lr=0.01, decay=1e-6, momentum=0.9)\n",
    "\n",
    "METRICS = [keras.metrics.TruePositives(name='tp'),\n",
    "            keras.metrics.FalsePositives(name='fp'), \n",
    "            keras.metrics.TrueNegatives(name='tn'),\n",
    "            keras.metrics.FalseNegatives(name='fn'),\n",
    "            keras.metrics.BinaryAccuracy(name='accuracy'),\n",
    "            keras.metrics.Precision(name='precision'),\n",
    "            keras.metrics.Recall(name='recall'),\n",
    "            keras.metrics.AUC(name='auc'),       \n",
    "            keras.metrics.AUC(name='prc', curve='PR')]\n",
    "# import sgd\n",
    "\n",
    "model.compile(loss='binary_crossentropy',\n",
    "                optimizer='adam',\n",
    "                metrics=METRICS)\n",
    "\n",
    "model.fit(X_train, y_train,\n",
    "            epochs=100,\n",
    "            batch_size=16, \n",
    "            class_weight=class_weights)"
   ]
  },
  {
   "cell_type": "code",
   "execution_count": null,
   "metadata": {},
   "outputs": [],
   "source": [
    "from sklearn.datasets import make_classification\n",
    "from sklearn.linear_model import LogisticRegression\n",
    "from sklearn.model_selection import train_test_split\n",
    "from sklearn.metrics import roc_curve\n",
    "from matplotlib import pyplot\n",
    "\n",
    "yhat = model.predict_proba(testX)\n",
    "pos_probs = yhat[:, 1]\n",
    "pyplot.plot([0, 1], [0, 1], linestyle='--', label='No Skill')\n",
    "fpr, tpr, _ = roc_curve(testy, pos_probs)\n",
    "pyplot.plot(fpr, tpr, marker='.', label='Logistic')\n",
    "# axis labels\n",
    "pyplot.ylabel('True Positive Rate')\n",
    "# show the legend\n",
    "pyplot.legend()\n",
    "# show the plot\n",
    "pyplot.show()"
   ]
  }
 ],
 "metadata": {
  "kernelspec": {
   "display_name": "Python 3 (ipykernel)",
   "language": "python",
   "name": "python3"
  },
  "language_info": {
   "codemirror_mode": {
    "name": "ipython",
    "version": 3
   },
   "file_extension": ".py",
   "mimetype": "text/x-python",
   "name": "python",
   "nbconvert_exporter": "python",
   "pygments_lexer": "ipython3",
   "version": "3.6.9"
  }
 },
 "nbformat": 4,
 "nbformat_minor": 2
}
