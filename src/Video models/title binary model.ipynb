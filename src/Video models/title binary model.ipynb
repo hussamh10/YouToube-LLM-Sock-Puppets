{
 "cells": [
  {
   "cell_type": "code",
   "execution_count": 1,
   "metadata": {},
   "outputs": [],
   "source": [
    "import pandas as pd\n",
    "import numpy as np\n",
    "import pickle as pkl\n",
    "\n",
    "import sys\n",
    "sys.path.append('../')\n",
    "from utils import *"
   ]
  },
  {
   "cell_type": "code",
   "execution_count": 2,
   "metadata": {},
   "outputs": [],
   "source": [
    "df = pd.read_pickle('../../data/datasets/raw-video-level-watches')\n",
    "videos = pd.read_pickle('../../data/videos_raw_metadata')\n",
    "title_embeddings = pd.read_pickle('../../data/embeddings/title-autoencoded')"
   ]
  },
  {
   "cell_type": "code",
   "execution_count": 3,
   "metadata": {},
   "outputs": [
    {
     "data": {
      "application/vnd.jupyter.widget-view+json": {
       "model_id": "45961b8f287c4cdd873366d32c2bec3b",
       "version_major": 2,
       "version_minor": 0
      },
      "text/plain": [
       "HBox(children=(IntProgress(value=0, max=8563), HTML(value='')))"
      ]
     },
     "metadata": {},
     "output_type": "display_data"
    },
    {
     "name": "stdout",
     "output_type": "stream",
     "text": [
      "\n"
     ]
    }
   ],
   "source": [
    "X = []\n",
    "Y = []\n",
    "for watch in tqdm(df):\n",
    "    playing = watch['playing']\n",
    "    selected = watch['selected']\n",
    "    if playing not in videos or selected not in videos or any([s not in videos for s in watch['upnext']]):\n",
    "        continue\n",
    "\n",
    "    if len(watch['upnext']) < 15:\n",
    "        continue\n",
    "        \n",
    "    upnext = watch['upnext'][:15]\n",
    "    for s in upnext:\n",
    "        playing = watch['playing']\n",
    "        selected = watch['selected']\n",
    "\n",
    "        if s == selected:\n",
    "            y = 1\n",
    "        else:\n",
    "            y = 0\n",
    "\n",
    "        playing = np.array(title_embeddings[videos[playing]['snippet']['title']])[0]\n",
    "        suggested = np.array(title_embeddings[videos[s]['snippet']['title']])[0]\n",
    "        all_suggested = [np.array(title_embeddings[videos[s]['snippet']['title']])[0] for s in upnext]\n",
    "\n",
    "        all_suggested = np.array(all_suggested).flatten()\n",
    "        \n",
    "        x = np.concatenate([playing, suggested, all_suggested])\n",
    "\n",
    "        X.append(x)\n",
    "        Y.append(y)"
   ]
  },
  {
   "cell_type": "code",
   "execution_count": 4,
   "metadata": {},
   "outputs": [],
   "source": [
    "X = np.array(X)\n",
    "Y = np.array(Y)"
   ]
  },
  {
   "cell_type": "code",
   "execution_count": 5,
   "metadata": {},
   "outputs": [],
   "source": [
    "from sklearn.model_selection import train_test_split\n",
    "X_train, X_test, y_train, y_test = train_test_split(X, Y, test_size=0.2, random_state=1, stratify=Y)"
   ]
  },
  {
   "cell_type": "code",
   "execution_count": 6,
   "metadata": {},
   "outputs": [],
   "source": [
    "X_train = np.array(X_train)\n",
    "X_test = np.array(X_test)\n",
    "y_train = np.array(y_train)\n",
    "y_test = np.array(y_test)"
   ]
  },
  {
   "cell_type": "code",
   "execution_count": 7,
   "metadata": {},
   "outputs": [
    {
     "data": {
      "text/plain": [
       "(55188, 2176)"
      ]
     },
     "execution_count": 7,
     "metadata": {},
     "output_type": "execute_result"
    }
   ],
   "source": [
    "X_train.shape"
   ]
  },
  {
   "cell_type": "code",
   "execution_count": 17,
   "metadata": {},
   "outputs": [
    {
     "data": {
      "text/plain": [
       "{0: 0.534742570113018, 1: 7.69578313253012}"
      ]
     },
     "execution_count": 17,
     "metadata": {},
     "output_type": "execute_result"
    }
   ],
   "source": [
    "pos = Y.sum()\n",
    "neg = len(Y) - pos\n",
    "total = neg + pos\n",
    "w0 = (1 / neg) * (total / 2.0)\n",
    "w1 = (1 / pos) * (total / 2.0)\n",
    "class_weights = {0:w0, 1:w1}\n",
    "class_weights"
   ]
  },
  {
   "cell_type": "code",
   "execution_count": null,
   "metadata": {},
   "outputs": [
    {
     "name": "stderr",
     "output_type": "stream",
     "text": [
      "/home/hussam/.local/lib/python3.6/site-packages/keras/optimizer_v2/optimizer_v2.py:356: UserWarning: The `lr` argument is deprecated, use `learning_rate` instead.\n",
      "  \"The `lr` argument is deprecated, use `learning_rate` instead.\")\n"
     ]
    },
    {
     "name": "stdout",
     "output_type": "stream",
     "text": [
      "Epoch 1/100\n",
      "863/863 [==============================] - 73s 81ms/step - loss: 0.6937 - tp: 1459.0000 - fp: 21576.0000 - tn: 30026.0000 - fn: 2127.0000 - accuracy: 0.5705 - precision: 0.0633 - recall: 0.4069 - auc: 0.4914 - prc: 0.0633\n",
      "Epoch 2/100\n",
      "863/863 [==============================] - 71s 82ms/step - loss: 0.6933 - tp: 2490.0000 - fp: 35944.0000 - tn: 15658.0000 - fn: 1096.0000 - accuracy: 0.3288 - precision: 0.0648 - recall: 0.6944 - auc: 0.4915 - prc: 0.0629\n",
      "Epoch 3/100\n",
      "863/863 [==============================] - 71s 82ms/step - loss: 0.6933 - tp: 2901.0000 - fp: 42405.0000 - tn: 9197.0000 - fn: 685.0000 - accuracy: 0.2192 - precision: 0.0640 - recall: 0.8090 - auc: 0.4916 - prc: 0.0633\n",
      "Epoch 4/100\n",
      "863/863 [==============================] - 71s 82ms/step - loss: 0.6932 - tp: 846.0000 - fp: 12416.0000 - tn: 39186.0000 - fn: 2740.0000 - accuracy: 0.7254 - precision: 0.0638 - recall: 0.2359 - auc: 0.4968 - prc: 0.0645\n",
      "Epoch 5/100\n",
      "863/863 [==============================] - 71s 82ms/step - loss: 0.6932 - tp: 3111.0000 - fp: 44861.0000 - tn: 6741.0000 - fn: 475.0000 - accuracy: 0.1785 - precision: 0.0649 - recall: 0.8675 - auc: 0.4969 - prc: 0.0643\n",
      "Epoch 6/100\n",
      "863/863 [==============================] - 71s 82ms/step - loss: 0.6932 - tp: 866.0000 - fp: 13212.0000 - tn: 38390.0000 - fn: 2720.0000 - accuracy: 0.7113 - precision: 0.0615 - recall: 0.2415 - auc: 0.4972 - prc: 0.0646\n",
      "Epoch 7/100\n",
      "863/863 [==============================] - 71s 82ms/step - loss: 0.6932 - tp: 2931.0000 - fp: 42381.0000 - tn: 9221.0000 - fn: 655.0000 - accuracy: 0.2202 - precision: 0.0647 - recall: 0.8173 - auc: 0.4985 - prc: 0.0646\n",
      "Epoch 8/100\n",
      "299/863 [=========>....................] - ETA: 47s - loss: 0.6952 - tp: 234.0000 - fp: 3542.0000 - tn: 14343.0000 - fn: 1017.0000 - accuracy: 0.7618 - precision: 0.0620 - recall: 0.1871 - auc: 0.4971 - prc: 0.0649"
     ]
    }
   ],
   "source": [
    "# train neural network\n",
    "\n",
    "from tensorflow import keras\n",
    "from keras.models import Sequential\n",
    "from keras.layers import Dense, Dropout\n",
    "from tensorflow.keras.optimizers import SGD\n",
    "\n",
    "\n",
    "model = Sequential()\n",
    "model.add(Dense(1600, activation='relu', input_dim=2176))\n",
    "model.add(Dropout(0.2))\n",
    "model.add(Dense(800, activation='relu'))\n",
    "model.add(Dropout(0.2))\n",
    "model.add(Dense(800, activation='relu'))\n",
    "model.add(Dropout(0.2))\n",
    "model.add(Dense(800, activation='relu'))\n",
    "model.add(Dropout(0.2))\n",
    "model.add(Dense(800, activation='relu'))\n",
    "model.add(Dropout(0.2))\n",
    "model.add(Dense(800, activation='relu'))\n",
    "model.add(Dropout(0.2))\n",
    "model.add(Dense(800, activation='relu'))\n",
    "model.add(Dropout(0.2))\n",
    "model.add(Dense(800, activation='relu'))\n",
    "model.add(Dropout(0.2))\n",
    "model.add(Dense(800, activation='relu'))\n",
    "model.add(Dropout(0.2))\n",
    "model.add(Dense(400, activation='relu'))\n",
    "model.add(Dropout(0.2))\n",
    "model.add(Dense(200, activation='relu'))\n",
    "model.add(Dropout(0.2))\n",
    "model.add(Dense(100, activation='relu'))\n",
    "model.add(Dense(1, activation='sigmoid'))\n",
    "\n",
    "sgd = SGD(lr=0.01, decay=1e-6, momentum=0.9)\n",
    "\n",
    "METRICS = [keras.metrics.TruePositives(name='tp'),\n",
    "            keras.metrics.FalsePositives(name='fp'), \n",
    "            keras.metrics.TrueNegatives(name='tn'),\n",
    "            keras.metrics.FalseNegatives(name='fn'),\n",
    "            keras.metrics.BinaryAccuracy(name='accuracy'),\n",
    "            keras.metrics.Precision(name='precision'),\n",
    "            keras.metrics.Recall(name='recall'),\n",
    "            keras.metrics.AUC(name='auc'),       \n",
    "            keras.metrics.AUC(name='prc', curve='PR')]\n",
    "# import sgd\n",
    "\n",
    "model.compile(loss='binary_crossentropy',\n",
    "                optimizer='adam',\n",
    "                metrics=METRICS)\n",
    "\n",
    "model.fit(X_train, y_train,\n",
    "            epochs=100,\n",
    "            batch_size=64, \n",
    "            class_weight=class_weights)"
   ]
  },
  {
   "cell_type": "code",
   "execution_count": 19,
   "metadata": {},
   "outputs": [
    {
     "data": {
      "image/png": "[encoded data removed]",
      "text/plain": [
       "<Figure size 720x720 with 1 Axes>"
      ]
     },
     "metadata": {
      "needs_background": "light"
     },
     "output_type": "display_data"
    }
   ],
   "source": [
    "# plot auc curve for test\n",
    "\n",
    "from sklearn.metrics import roc_curve, auc\n",
    "import matplotlib.pyplot as plt\n",
    "\n",
    "y_pred_keras = model.predict(X_test).ravel()\n",
    "fpr_keras, tpr_keras, thresholds_keras = roc_curve(y_test, y_pred_keras)\n",
    "auc_keras = auc(fpr_keras, tpr_keras)\n",
    "\n",
    "plt.figure(figsize=(10,10))\n",
    "plt.plot(fpr_keras, tpr_keras, label='(AUC = {:.3f})'.format(auc_keras))\n",
    "plt.xlabel('False positive rate')\n",
    "plt.ylabel('True positive rate')\n",
    "plt.title('ROC curve')\n",
    "plt.legend(loc='best')\n",
    "plt.show()"
   ]
  }
 ],
 "metadata": {
  "kernelspec": {
   "display_name": "Python 3 (ipykernel)",
   "language": "python",
   "name": "python3"
  },
  "language_info": {
   "codemirror_mode": {
    "name": "ipython",
    "version": 3
   },
   "file_extension": ".py",
   "mimetype": "text/x-python",
   "name": "python",
   "nbconvert_exporter": "python",
   "pygments_lexer": "ipython3",
   "version": "3.10.4"
  }
 },
 "nbformat": 4,
 "nbformat_minor": 2
}
