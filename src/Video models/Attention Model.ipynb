{
 "cells": [
  {
   "cell_type": "code",
   "execution_count": 1,
   "id": "7e689467-3276-44cc-a07c-fef50b6e9ea8",
   "metadata": {},
   "outputs": [],
   "source": [
    "import pandas as pd\n",
    "import numpy as np\n",
    "import pickle as pkl\n",
    "\n",
    "import sys\n",
    "sys.path.append('../')\n",
    "from utils import *"
   ]
  },
  {
   "cell_type": "code",
   "execution_count": null,
   "id": "05818863-bb81-42f6-a32d-63e1eed966f0",
   "metadata": {},
   "outputs": [],
   "source": [
    "watches = pd.read_pickle('../../data/user-level-data')\n",
    "videos = pd.read_pickle('../../data/videos_raw_metadata')"
   ]
  },
  {
   "cell_type": "code",
   "execution_count": null,
   "id": "7c1b31db-899a-4dc2-b421-9be96c18c089",
   "metadata": {},
   "outputs": [],
   "source": []
  }
 ],
 "metadata": {
  "kernelspec": {
   "display_name": "Python 3 (ipykernel)",
   "language": "python",
   "name": "python3"
  },
  "language_info": {
   "codemirror_mode": {
    "name": "ipython",
    "version": 3
   },
   "file_extension": ".py",
   "mimetype": "text/x-python",
   "name": "python",
   "nbconvert_exporter": "python",
   "pygments_lexer": "ipython3",
   "version": "3.9.12"
  }
 },
 "nbformat": 4,
 "nbformat_minor": 5
}
