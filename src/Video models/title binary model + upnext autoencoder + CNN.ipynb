{
 "cells": [
  {
   "cell_type": "code",
   "execution_count": 1,
   "metadata": {},
   "outputs": [],
   "source": [
    "import pandas as pd\n",
    "import numpy as np\n",
    "import pickle as pkl\n",
    "\n",
    "import sys\n",
    "sys.path.append('../')\n",
    "from utils import *"
   ]
  },
  {
   "cell_type": "code",
   "execution_count": 2,
   "metadata": {},
   "outputs": [
    {
     "name": "stderr",
     "output_type": "stream",
     "text": [
      "2023-07-15 22:03:51.629559: W tensorflow/stream_executor/platform/default/dso_loader.cc:64] Could not load dynamic library 'libcudart.so.11.0'; dlerror: libcudart.so.11.0: cannot open shared object file: No such file or directory\n",
      "2023-07-15 22:03:51.629606: I tensorflow/stream_executor/cuda/cudart_stub.cc:29] Ignore above cudart dlerror if you do not have a GPU set up on your machine.\n",
      "2023-07-15 22:03:54.103824: W tensorflow/stream_executor/platform/default/dso_loader.cc:64] Could not load dynamic library 'libcuda.so.1'; dlerror: libcuda.so.1: cannot open shared object file: No such file or directory\n",
      "2023-07-15 22:03:54.103878: W tensorflow/stream_executor/cuda/cuda_driver.cc:269] failed call to cuInit: UNKNOWN ERROR (303)\n",
      "2023-07-15 22:03:54.103927: I tensorflow/stream_executor/cuda/cuda_diagnostics.cc:156] kernel driver does not appear to be running on this host (toutatis): /proc/driver/nvidia/version does not exist\n",
      "2023-07-15 22:03:54.104516: I tensorflow/core/platform/cpu_feature_guard.cc:151] This TensorFlow binary is optimized with oneAPI Deep Neural Network Library (oneDNN) to use the following CPU instructions in performance-critical operations:  AVX2 FMA\n",
      "To enable them in other operations, rebuild TensorFlow with the appropriate compiler flags.\n"
     ]
    }
   ],
   "source": [
    "df = pd.read_pickle('../../data/datasets/video-level-watches+autoencoded-upnext')\n",
    "videos = pd.read_pickle('../../data/videos_raw_metadata')\n",
    "title_embeddings = pd.read_pickle('../../data/embeddings/title-')"
   ]
  },
  {
   "cell_type": "code",
   "execution_count": 3,
   "metadata": {},
   "outputs": [
    {
     "data": {
      "application/vnd.jupyter.widget-view+json": {
       "model_id": "37b5223555904a479d64e834faf7c750",
       "version_major": 2,
       "version_minor": 0
      },
      "text/plain": [
       "  0%|          | 0/6050 [00:00<?, ?it/s]"
      ]
     },
     "metadata": {},
     "output_type": "display_data"
    }
   ],
   "source": [
    "X = []\n",
    "Y = []\n",
    "for watch in tqdm(df):\n",
    "    playing = watch['playing']\n",
    "    selected = watch['selected']\n",
    "    if playing not in videos or selected not in videos or any([s not in videos for s in watch['upnext']]):\n",
    "        continue\n",
    "\n",
    "    if len(watch['upnext']) < 15:\n",
    "        continue\n",
    "        \n",
    "    upnext = watch['upnext'][:15]\n",
    "    for s in upnext:\n",
    "        playing = watch['playing']\n",
    "        selected = watch['selected']\n",
    "\n",
    "        if s == selected:\n",
    "            y = 1\n",
    "        else:\n",
    "            y = 0\n",
    "\n",
    "        playing = np.array(title_embeddings[videos[playing]['snippet']['title']])[0]\n",
    "        suggested = np.array(title_embeddings[videos[s]['snippet']['title']])[0]\n",
    "        all_suggested = [np.array(title_embeddings[videos[s]['snippet']['title']])[0] for s in upnext]\n",
    "        \n",
    "        # all_suggested = np.array(watch['upnext_embs'])[0]\n",
    "\n",
    "        x = np.array([playing, suggested, all_suggested]).T\n",
    "\n",
    "        X.append(x)\n",
    "        Y.append(y)"
   ]
  },
  {
   "cell_type": "code",
   "execution_count": 4,
   "metadata": {},
   "outputs": [],
   "source": [
    "X = np.array(X)\n",
    "Y = np.array(Y)"
   ]
  },
  {
   "cell_type": "code",
   "execution_count": 5,
   "metadata": {},
   "outputs": [],
   "source": [
    "from sklearn.model_selection import train_test_split\n",
    "X_train, X_test, y_train, y_test = train_test_split(X, Y, test_size=0.2, random_state=1, stratify=Y)"
   ]
  },
  {
   "cell_type": "code",
   "execution_count": 6,
   "metadata": {},
   "outputs": [],
   "source": [
    "X_train = np.array(X_train)\n",
    "X_test = np.array(X_test)\n",
    "y_train = np.array(y_train)\n",
    "y_test = np.array(y_test)"
   ]
  },
  {
   "cell_type": "code",
   "execution_count": 7,
   "metadata": {},
   "outputs": [
    {
     "data": {
      "text/plain": [
       "{0: 0.534742570113018, 1: 7.69578313253012}"
      ]
     },
     "execution_count": 7,
     "metadata": {},
     "output_type": "execute_result"
    }
   ],
   "source": [
    "pos = Y.sum()\n",
    "neg = len(Y) - pos\n",
    "total = neg + pos\n",
    "w0 = (1 / neg) * (total / 2.0)\n",
    "w1 = (1 / pos) * (total / 2.0)\n",
    "class_weights = {0:w0, 1:w1}\n",
    "class_weights"
   ]
  },
  {
   "cell_type": "code",
   "execution_count": 8,
   "metadata": {},
   "outputs": [
    {
     "data": {
      "text/plain": [
       "(55188, 128, 3)"
      ]
     },
     "execution_count": 8,
     "metadata": {},
     "output_type": "execute_result"
    }
   ],
   "source": [
    "X_train.shape"
   ]
  },
  {
   "cell_type": "code",
   "execution_count": 10,
   "metadata": {},
   "outputs": [
    {
     "name": "stdout",
     "output_type": "stream",
     "text": [
      "Epoch 1/10\n",
      "863/863 [==============================] - 28s 31ms/step - loss: 0.6948 - accuracy: 0.4725 - auc: 0.5016\n",
      "Epoch 2/10\n",
      "863/863 [==============================] - 25s 29ms/step - loss: 0.6935 - accuracy: 0.4516 - auc: 0.4929\n",
      "Epoch 3/10\n",
      "863/863 [==============================] - 25s 29ms/step - loss: 0.6934 - accuracy: 0.4117 - auc: 0.4938\n",
      "Epoch 4/10\n",
      "863/863 [==============================] - 24s 28ms/step - loss: 0.6934 - accuracy: 0.4941 - auc: 0.4966\n",
      "Epoch 5/10\n",
      "863/863 [==============================] - 24s 28ms/step - loss: 0.6934 - accuracy: 0.3992 - auc: 0.4949\n",
      "Epoch 6/10\n",
      "863/863 [==============================] - 24s 27ms/step - loss: 0.6935 - accuracy: 0.6826 - auc: 0.4905\n",
      "Epoch 7/10\n",
      "863/863 [==============================] - 24s 28ms/step - loss: 0.6933 - accuracy: 0.6735 - auc: 0.4946\n",
      "Epoch 8/10\n",
      "863/863 [==============================] - 24s 27ms/step - loss: 0.6933 - accuracy: 0.2900 - auc: 0.4932\n",
      "Epoch 9/10\n",
      "863/863 [==============================] - 24s 27ms/step - loss: 0.6933 - accuracy: 0.4785 - auc: 0.4987\n",
      "Epoch 10/10\n",
      "863/863 [==============================] - 24s 28ms/step - loss: 0.6932 - accuracy: 0.7959 - auc: 0.4987\n"
     ]
    },
    {
     "data": {
      "text/plain": [
       "<keras.callbacks.History at 0x7f0cc82cb670>"
      ]
     },
     "execution_count": 10,
     "metadata": {},
     "output_type": "execute_result"
    }
   ],
   "source": [
    "# CNN model to predict if a video is selected from the upnext list\n",
    "from keras.models import Sequential\n",
    "from keras.layers import Dense, Dropout, Flatten, Conv1D, MaxPooling1D, GlobalMaxPooling1D, Input, concatenate\n",
    "from keras.layers.embeddings import Embedding\n",
    "from keras.models import Model\n",
    "from keras import optimizers\n",
    "from keras import regularizers\n",
    "import keras\n",
    "\n",
    "# CNN model\n",
    "\n",
    "# Input\n",
    "input_shape = (128, 3)\n",
    "input_layer = Input(shape=input_shape)\n",
    "\n",
    "# Convolutional layers\n",
    "conv1 = Conv1D(filters=32, kernel_size=3, activation='relu')(input_layer)\n",
    "conv1 = MaxPooling1D(pool_size=2)(conv1)\n",
    "conv1 = Dropout(0.2)(conv1)\n",
    "\n",
    "conv2 = Conv1D(filters=64, kernel_size=3, activation='relu')(conv1)\n",
    "conv2 = MaxPooling1D(pool_size=2)(conv2)\n",
    "conv2 = Dropout(0.2)(conv2)\n",
    "\n",
    "conv3 = Conv1D(filters=128, kernel_size=3, activation='relu')(conv2)\n",
    "conv3 = MaxPooling1D(pool_size=2)(conv3)\n",
    "conv3 = Dropout(0.2)(conv3)\n",
    "\n",
    "# Flatten\n",
    "flat = Flatten()(conv3)\n",
    "\n",
    "# Dense layers\n",
    "hidden1 = Dense(128, activation='relu')(flat)\n",
    "hidden1 = Dropout(0.2)(hidden1)\n",
    "\n",
    "hidden2 = Dense(64, activation='relu')(hidden1)\n",
    "hidden2 = Dropout(0.2)(hidden2)\n",
    "\n",
    "# Output\n",
    "output = Dense(1, activation='sigmoid')(hidden2)\n",
    "\n",
    "METRICS = [keras.metrics.BinaryAccuracy(name='accuracy'), keras.metrics.AUC(name='auc')]\n",
    "\n",
    "model = Model(inputs=input_layer, outputs=output)\n",
    "model.compile(loss='binary_crossentropy', optimizer='adam', metrics=METRICS)\n",
    "\n",
    "model.fit(X_train, y_train, epochs=10, batch_size=64, class_weight=class_weights)"
   ]
  },
  {
   "cell_type": "code",
   "execution_count": null,
   "metadata": {},
   "outputs": [],
   "source": [
    "from sklearn.datasets import make_classification\n",
    "from sklearn.linear_model import LogisticRegression\n",
    "from sklearn.model_selection import train_test_split\n",
    "from sklearn.metrics import roc_curve\n",
    "from matplotlib import pyplot\n",
    "\n",
    "yhat = model.predict_proba(testX)\n",
    "pos_probs = yhat[:, 1]\n",
    "pyplot.plot([0, 1], [0, 1], linestyle='--', label='No Skill')\n",
    "fpr, tpr, _ = roc_curve(testy, pos_probs)\n",
    "pyplot.plot(fpr, tpr, marker='.', label='Logistic')\n",
    "# axis labels\n",
    "pyplot.ylabel('True Positive Rate')\n",
    "# show the legend\n",
    "pyplot.legend()\n",
    "# show the plot\n",
    "pyplot.show()"
   ]
  }
 ],
 "metadata": {
  "kernelspec": {
   "display_name": "Python 3 (ipykernel)",
   "language": "python",
   "name": "python3"
  },
  "language_info": {
   "codemirror_mode": {
    "name": "ipython",
    "version": 3
   },
   "file_extension": ".py",
   "mimetype": "text/x-python",
   "name": "python",
   "nbconvert_exporter": "python",
   "pygments_lexer": "ipython3",
   "version": "3.10.4"
  }
 },
 "nbformat": 4,
 "nbformat_minor": 2
}
