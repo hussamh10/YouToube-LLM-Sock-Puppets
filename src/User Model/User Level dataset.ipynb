{
 "cells": [
  {
   "cell_type": "code",
   "execution_count": 2,
   "metadata": {},
   "outputs": [
    {
     "data": {
      "text/plain": [
       "<module 'utils' from '/home/data/hussam/sparta/youtube-sim/src/utils.py'>"
      ]
     },
     "execution_count": 2,
     "metadata": {},
     "output_type": "execute_result"
    }
   ],
   "source": [
    "#imports\n",
    "import string\n",
    "import pandas as pd\n",
    "import pickle as pkl\n",
    "from collections import Counter\n",
    "from matplotlib import pyplot as plt\n",
    "\n",
    "import numpy as np\n",
    "from random import sample\n",
    "\n",
    "import fasttext\n",
    "from sentence_transformers import SentenceTransformer\n",
    "from gensim.models.fasttext import load_facebook_model\n",
    "\n",
    "import re\n",
    "from nltk.stem import WordNetLemmatizer\n",
    "from nltk.corpus import stopwords\n",
    "from sklearn.feature_extraction.text import TfidfVectorizer\n",
    "\n",
    "from tqdm import tqdm\n",
    "import utils\n",
    "\n",
    "# reload import utils\n",
    "from importlib import reload\n",
    "reload(utils)\n"
   ]
  },
  {
   "cell_type": "code",
   "execution_count": 35,
   "metadata": {},
   "outputs": [],
   "source": [
    "df = pd.read_parquet('../data/logs.parquet')\n",
    "meta_data = pd.read_pickle('../data/videos_raw_metadata')\n",
    "embeddings = pd.read_pickle('../data/embeddings/openai-title')"
   ]
  },
  {
   "cell_type": "code",
   "execution_count": 71,
   "metadata": {},
   "outputs": [],
   "source": [
    "videos = utils.clean(meta_data, titles=embeddings)"
   ]
  },
  {
   "cell_type": "code",
   "execution_count": 52,
   "metadata": {},
   "outputs": [
    {
     "name": "stderr",
     "output_type": "stream",
     "text": [
      "100%|██████████| 1863/1863 [00:35<00:00, 52.77it/s]\n"
     ]
    }
   ],
   "source": [
    "df = df[df['is_video']]\n",
    "data = dict()\n",
    "users = list(set(df['userId']))\n",
    "for user in tqdm(users):\n",
    "    data[user] = df[df['userId'] == user].sort_values('date')"
   ]
  },
  {
   "cell_type": "code",
   "execution_count": 72,
   "metadata": {},
   "outputs": [
    {
     "name": "stderr",
     "output_type": "stream",
     "text": [
      "100%|██████████| 1863/1863 [00:25<00:00, 73.81it/s] \n"
     ]
    }
   ],
   "source": [
    "watches = dict()\n",
    "for user in tqdm(users):\n",
    "    watches[user] = []\n",
    "    user_data = data[user][['date', 'url', 'is_video', 'upnext_content']].to_dict('records')\n",
    "    for wd in user_data:\n",
    "        watch = dict()\n",
    "        watch['playing'] = videos.get(utils.get_id(wd['url']), None)\n",
    "        if wd['upnext_content'] is not None:\n",
    "            watch['suggested'] = [videos.get(u, None) for u in utils.decode_upnext(wd['upnext_content'])]\n",
    "        else:\n",
    "            watch['suggested'] = []\n",
    "        watches[user].append(watch)"
   ]
  },
  {
   "cell_type": "code",
   "execution_count": 164,
   "metadata": {},
   "outputs": [],
   "source": [
    "for user in watches:\n",
    "    if len(watches[user]) == 1:\n",
    "        watches[user][0]['selected'] = None\n",
    "        continue\n",
    "    w = 0\n",
    "    for w in range(len(watches[user]) - 1):\n",
    "        nw = w + 1\n",
    "        if watches[user][w]['playing'] is None or watches[user][nw]['playing'] is None or watches[user][w]['suggested'] == []:\n",
    "            watches[user][w]['selected'] = None\n",
    "            continue\n",
    "\n",
    "        if watches[user][w]['suggested'] != None:\n",
    "            suggested = []\n",
    "            for s in watches[user][w]['suggested']:\n",
    "                if s is not None:\n",
    "                    suggested.append(s.get('id', None))\n",
    "        else:\n",
    "            watches[user][w]['selected'] = None\n",
    "            continue\n",
    "\n",
    "        if watches[user][nw]['playing']['id'] in suggested:\n",
    "            watches[user][w]['selected'] = watches[user][nw]['playing']['id']\n",
    "        else:\n",
    "            watches[user][w]['selected'] = None\n",
    "\n",
    "    watches[user][nw]['selected'] = None\n"
   ]
  },
  {
   "cell_type": "code",
   "execution_count": 170,
   "metadata": {},
   "outputs": [],
   "source": [
    "pkl.dump(watches, open('../data/user-level-data', 'wb'))"
   ]
  },
  {
   "cell_type": "code",
   "execution_count": 4,
   "metadata": {},
   "outputs": [],
   "source": [
    "watches = pd.read_pickle('../data/user-level-data')"
   ]
  }
 ],
 "metadata": {
  "kernelspec": {
   "display_name": "jup",
   "language": "python",
   "name": "python3"
  },
  "language_info": {
   "codemirror_mode": {
    "name": "ipython",
    "version": 3
   },
   "file_extension": ".py",
   "mimetype": "text/x-python",
   "name": "python",
   "nbconvert_exporter": "python",
   "pygments_lexer": "ipython3",
   "version": "3.10.4"
  }
 },
 "nbformat": 4,
 "nbformat_minor": 4
}
