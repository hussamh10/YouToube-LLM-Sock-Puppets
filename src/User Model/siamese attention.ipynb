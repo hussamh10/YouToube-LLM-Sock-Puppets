{
 "cells": [
  {
   "cell_type": "code",
   "execution_count": 137,
   "metadata": {},
   "outputs": [],
   "source": [
    "import pandas as pd\n",
    "import tensorflow as tf\n",
    "from tensorflow.keras.layers import Input, Dense, Dot, Softmax, Concatenate, Flatten\n",
    "from tensorflow.keras.models import Model"
   ]
  },
  {
   "cell_type": "code",
   "execution_count": 10,
   "metadata": {},
   "outputs": [],
   "source": [
    "import numpy as np"
   ]
  },
  {
   "cell_type": "code",
   "execution_count": 142,
   "metadata": {},
   "outputs": [],
   "source": [
    "df = pd.read_pickle('../../data/datasets/raw-video-level-watches')\n",
    "videos = pd.read_pickle('../../data/videos_raw_metadata')\n",
    "title_embeddings = pd.read_pickle('../../data/embeddings/title-autoencoded')\n",
    "tag_embeddings = pd.read_pickle('../../data/embeddings/tag_embeddings.pkl')\n",
    "topic_embeddings = pd.read_pickle('../../data/embeddings/topic_embeddings.pkl')"
   ]
  },
  {
   "cell_type": "code",
   "execution_count": 143,
   "metadata": {},
   "outputs": [],
   "source": [
    "class SiameseWithAttention(tf.keras.Model):\n",
    "    def __init__(self, embedding_size, num_suggested_videos):\n",
    "        super(SiameseWithAttention, self).__init__()\n",
    "        \n",
    "        self.shared_fc = tf.keras.Sequential([\n",
    "            Dense(1024, activation='relu'),\n",
    "            # Dense(512, activation='relu'),\n",
    "            # Dense(256, activation='relu')\n",
    "        ])       \n",
    "\n",
    "        self.hidden_fc = Dense(256, activation='relu')\n",
    "        self.flatten = Flatten()\n",
    "        self.attention_weights = Dense(num_suggested_videos, activation='softmax')\n",
    "        self.predictor = Dense(num_suggested_videos, activation='softmax')\n",
    "        \n",
    "    def call(self, inputs):\n",
    "        playing_video = inputs[0]\n",
    "        suggested_videos = inputs[1]\n",
    "        \n",
    "        playing_video_emb = self.shared_fc(playing_video)\n",
    "        suggested_videos_emb = self.shared_fc(suggested_videos)\n",
    "        \n",
    "        attention_scores = self.attention_weights(playing_video_emb)\n",
    "        weighted_suggested_videos = Dot(axes=1)([attention_scores, suggested_videos_emb])\n",
    "        \n",
    "        combined_emb = Concatenate()([playing_video_emb, weighted_suggested_videos])\n",
    "        hidden = self.hidden_fc(self.flatten(combined_emb))\n",
    "        predicted_scores = self.predictor(hidden)\n",
    "        \n",
    "        return predicted_scores"
   ]
  },
  {
   "cell_type": "code",
   "execution_count": 144,
   "metadata": {},
   "outputs": [],
   "source": [
    "def trim(vec, element, length=15):\n",
    "    #  a vector to length and keep the element\n",
    "    if len(vec) > length:\n",
    "        vec = vec[:length]\n",
    "    if element not in vec:\n",
    "        vec = vec[:-1] + [element]\n",
    "\n",
    "    return vec"
   ]
  },
  {
   "cell_type": "code",
   "execution_count": 110,
   "metadata": {},
   "outputs": [],
   "source": [
    "from sklearn.model_selection import train_test_split\n",
    "df_train, df_test = train_test_split(df, test_size=0.2)"
   ]
  },
  {
   "cell_type": "code",
   "execution_count": 131,
   "metadata": {},
   "outputs": [],
   "source": [
    "def get_data(df):\n",
    "    playings = []\n",
    "    SG = []\n",
    "    selecteds = []\n",
    "\n",
    "    for watch in df_train:\n",
    "        y = []\n",
    "        playing = watch['playing']\n",
    "        selected = watch['selected']\n",
    "        suggesteds = watch['upnext']\n",
    "\n",
    "        suggesteds = trim(suggesteds, selected)\n",
    "        \n",
    "        try:\n",
    "            if playing not in videos or selected not in videos or any([s not in videos for s in suggesteds]):\n",
    "                continue\n",
    "\n",
    "            p = np.array(title_embeddings[videos[playing]['snippet']['title']])\n",
    "            sx = []\n",
    "            for s in suggesteds:\n",
    "                title = np.array(title_embeddings[videos[s]['snippet']['title']])\n",
    "                sx.append(title)\n",
    "\n",
    "            if len(sx) < 15:\n",
    "                continue\n",
    "\n",
    "            for s in suggesteds:\n",
    "                if s == selected:\n",
    "                    y.append(1)\n",
    "                else:\n",
    "                    y.append(0)\n",
    "\n",
    "            playings.append(p)\n",
    "            SG.append(sx)\n",
    "            selecteds.append(y)\n",
    "            \n",
    "        except:\n",
    "            continue\n",
    "\n",
    "    # return playings, SG, selecteds\n",
    "    return np.array(playings), np.array(SG), np.array(selecteds)"
   ]
  },
  {
   "cell_type": "code",
   "execution_count": 132,
   "metadata": {},
   "outputs": [],
   "source": [
    "p, s, y = get_data(df_train)"
   ]
  },
  {
   "cell_type": "code",
   "execution_count": null,
   "metadata": {},
   "outputs": [],
   "source": [
    "pp = tf.convert_to_tensor(p)\n",
    "ss = tf.convert_to_tensor(s)\n",
    "yy = tf.convert_to_tensor(y)"
   ]
  },
  {
   "cell_type": "code",
   "execution_count": 140,
   "metadata": {},
   "outputs": [
    {
     "data": {
      "text/plain": [
       "TensorShape([4059, 1536])"
      ]
     },
     "execution_count": 140,
     "metadata": {},
     "output_type": "execute_result"
    }
   ],
   "source": [
    "pp.shape"
   ]
  },
  {
   "cell_type": "code",
   "execution_count": 141,
   "metadata": {},
   "outputs": [
    {
     "name": "stdout",
     "output_type": "stream",
     "text": [
      "Epoch 1/100\n",
      "58/58 [==============================] - 2s 10ms/step - loss: 2.3524 - accuracy: 0.3208 - val_loss: 2.3657 - val_accuracy: 0.3079\n",
      "Epoch 2/100\n",
      "58/58 [==============================] - 0s 7ms/step - loss: 2.3129 - accuracy: 0.3260 - val_loss: 2.4468 - val_accuracy: 0.3079\n",
      "Epoch 3/100\n",
      "58/58 [==============================] - 0s 7ms/step - loss: 2.2941 - accuracy: 0.3260 - val_loss: 2.3771 - val_accuracy: 0.3079\n",
      "Epoch 4/100\n",
      "58/58 [==============================] - 0s 7ms/step - loss: 2.2884 - accuracy: 0.3260 - val_loss: 2.4924 - val_accuracy: 0.3079\n",
      "Epoch 5/100\n",
      "58/58 [==============================] - 0s 7ms/step - loss: 2.2603 - accuracy: 0.3258 - val_loss: 2.3920 - val_accuracy: 0.3079\n",
      "Epoch 6/100\n",
      "58/58 [==============================] - 0s 7ms/step - loss: 2.2245 - accuracy: 0.3247 - val_loss: 2.4056 - val_accuracy: 0.2882\n",
      "Epoch 7/100\n",
      "58/58 [==============================] - 0s 7ms/step - loss: 2.1743 - accuracy: 0.3408 - val_loss: 2.4340 - val_accuracy: 0.2660\n",
      "Epoch 8/100\n",
      "58/58 [==============================] - 0s 7ms/step - loss: 2.0767 - accuracy: 0.3665 - val_loss: 2.4954 - val_accuracy: 0.2340\n",
      "Epoch 9/100\n",
      "58/58 [==============================] - 0s 7ms/step - loss: 1.9641 - accuracy: 0.4098 - val_loss: 2.6461 - val_accuracy: 0.1946\n",
      "Epoch 10/100\n",
      "58/58 [==============================] - 0s 8ms/step - loss: 1.8283 - accuracy: 0.4479 - val_loss: 2.8741 - val_accuracy: 0.1946\n",
      "Epoch 11/100\n",
      "58/58 [==============================] - 0s 7ms/step - loss: 1.7021 - accuracy: 0.4917 - val_loss: 3.1924 - val_accuracy: 0.1724\n",
      "Epoch 12/100\n",
      "58/58 [==============================] - 0s 7ms/step - loss: 1.5507 - accuracy: 0.5434 - val_loss: 3.7270 - val_accuracy: 0.1798\n",
      "Epoch 13/100\n",
      "58/58 [==============================] - 0s 7ms/step - loss: 1.4970 - accuracy: 0.5650 - val_loss: 4.1296 - val_accuracy: 0.1724\n",
      "Epoch 14/100\n",
      "58/58 [==============================] - 0s 7ms/step - loss: 1.4696 - accuracy: 0.5803 - val_loss: 4.5581 - val_accuracy: 0.1626\n",
      "Epoch 15/100\n",
      "58/58 [==============================] - 0s 7ms/step - loss: 1.5816 - accuracy: 0.6061 - val_loss: 6.3281 - val_accuracy: 0.1281\n",
      "Epoch 16/100\n",
      "58/58 [==============================] - 0s 7ms/step - loss: 3.1084 - accuracy: 0.4780 - val_loss: 8.0900 - val_accuracy: 0.2217\n",
      "Epoch 17/100\n",
      "58/58 [==============================] - 0s 8ms/step - loss: 7.8115 - accuracy: 0.3882 - val_loss: 4.1917 - val_accuracy: 0.2291\n",
      "Epoch 18/100\n",
      "58/58 [==============================] - 0s 7ms/step - loss: 3.4491 - accuracy: 0.4112 - val_loss: 9.7392 - val_accuracy: 0.1823\n",
      "Epoch 19/100\n",
      "58/58 [==============================] - 0s 8ms/step - loss: 13.3326 - accuracy: 0.3071 - val_loss: 20.9780 - val_accuracy: 0.2315\n",
      "Epoch 20/100\n",
      "58/58 [==============================] - 0s 6ms/step - loss: 48.3401 - accuracy: 0.2384 - val_loss: 121.6520 - val_accuracy: 0.0443\n",
      "Epoch 21/100\n",
      "58/58 [==============================] - 0s 7ms/step - loss: 230.3890 - accuracy: 0.1881 - val_loss: 202.9945 - val_accuracy: 0.3079\n",
      "Epoch 22/100\n",
      "58/58 [==============================] - 0s 7ms/step - loss: 755.1411 - accuracy: 0.1883 - val_loss: 642.6754 - val_accuracy: 0.0837\n",
      "Epoch 23/100\n",
      "58/58 [==============================] - 0s 8ms/step - loss: 2506.0454 - accuracy: 0.1503 - val_loss: 3388.1736 - val_accuracy: 0.1256\n",
      "Epoch 24/100\n",
      "58/58 [==============================] - 0s 7ms/step - loss: 8210.3311 - accuracy: 0.1785 - val_loss: 24755.4023 - val_accuracy: 0.0591\n",
      "Epoch 25/100\n",
      "58/58 [==============================] - 0s 7ms/step - loss: 11311.6963 - accuracy: 0.1448 - val_loss: 9234.9922 - val_accuracy: 0.0739\n",
      "Epoch 26/100\n",
      "58/58 [==============================] - 0s 8ms/step - loss: 19372.7695 - accuracy: 0.1558 - val_loss: 48046.0977 - val_accuracy: 0.1650\n",
      "Epoch 27/100\n",
      "58/58 [==============================] - 0s 7ms/step - loss: 33056.8047 - accuracy: 0.1582 - val_loss: 80054.0312 - val_accuracy: 0.0665\n",
      "Epoch 28/100\n",
      "58/58 [==============================] - 0s 7ms/step - loss: 80685.5312 - accuracy: 0.1530 - val_loss: 181925.4531 - val_accuracy: 0.1650\n",
      "Epoch 29/100\n",
      "58/58 [==============================] - 0s 8ms/step - loss: 96494.6562 - accuracy: 0.1612 - val_loss: 190270.1406 - val_accuracy: 0.2709\n",
      "Epoch 30/100\n",
      "58/58 [==============================] - 0s 7ms/step - loss: 269909.1875 - accuracy: 0.1632 - val_loss: 109834.1250 - val_accuracy: 0.2660\n",
      "Epoch 31/100\n",
      "58/58 [==============================] - 0s 7ms/step - loss: 242079.0469 - accuracy: 0.1560 - val_loss: 415792.6562 - val_accuracy: 0.0246\n",
      "Epoch 32/100\n",
      "58/58 [==============================] - 0s 7ms/step - loss: 430848.5000 - accuracy: 0.1574 - val_loss: 685974.3125 - val_accuracy: 0.1823\n",
      "Epoch 33/100\n",
      "26/58 [============>.................] - ETA: 0s - loss: 497445.1875 - accuracy: 0.1406"
     ]
    },
    {
     "ename": "KeyboardInterrupt",
     "evalue": "",
     "output_type": "error",
     "traceback": [
      "\u001b[0;31m---------------------------------------------------------------------------\u001b[0m",
      "\u001b[0;31mKeyboardInterrupt\u001b[0m                         Traceback (most recent call last)",
      "Cell \u001b[0;32mIn[141], line 20\u001b[0m\n\u001b[1;32m     17\u001b[0m batch_size \u001b[39m=\u001b[39m \u001b[39m64\u001b[39m\n\u001b[1;32m     18\u001b[0m epochs \u001b[39m=\u001b[39m \u001b[39m100\u001b[39m\n\u001b[0;32m---> 20\u001b[0m model\u001b[39m.\u001b[39;49mfit([pp, ss],\n\u001b[1;32m     21\u001b[0m           yy,\n\u001b[1;32m     22\u001b[0m           batch_size\u001b[39m=\u001b[39;49mbatch_size,\n\u001b[1;32m     23\u001b[0m           epochs\u001b[39m=\u001b[39;49mepochs,\n\u001b[1;32m     24\u001b[0m           validation_split\u001b[39m=\u001b[39;49m\u001b[39m0.1\u001b[39;49m)\n",
      "File \u001b[0;32m~/.conda/envs/ytbase/lib/python3.9/site-packages/keras/src/utils/traceback_utils.py:65\u001b[0m, in \u001b[0;36mfilter_traceback.<locals>.error_handler\u001b[0;34m(*args, **kwargs)\u001b[0m\n\u001b[1;32m     63\u001b[0m filtered_tb \u001b[39m=\u001b[39m \u001b[39mNone\u001b[39;00m\n\u001b[1;32m     64\u001b[0m \u001b[39mtry\u001b[39;00m:\n\u001b[0;32m---> 65\u001b[0m     \u001b[39mreturn\u001b[39;00m fn(\u001b[39m*\u001b[39;49margs, \u001b[39m*\u001b[39;49m\u001b[39m*\u001b[39;49mkwargs)\n\u001b[1;32m     66\u001b[0m \u001b[39mexcept\u001b[39;00m \u001b[39mException\u001b[39;00m \u001b[39mas\u001b[39;00m e:\n\u001b[1;32m     67\u001b[0m     filtered_tb \u001b[39m=\u001b[39m _process_traceback_frames(e\u001b[39m.\u001b[39m__traceback__)\n",
      "File \u001b[0;32m~/.conda/envs/ytbase/lib/python3.9/site-packages/keras/src/engine/training.py:1742\u001b[0m, in \u001b[0;36mModel.fit\u001b[0;34m(self, x, y, batch_size, epochs, verbose, callbacks, validation_split, validation_data, shuffle, class_weight, sample_weight, initial_epoch, steps_per_epoch, validation_steps, validation_batch_size, validation_freq, max_queue_size, workers, use_multiprocessing)\u001b[0m\n\u001b[1;32m   1734\u001b[0m \u001b[39mwith\u001b[39;00m tf\u001b[39m.\u001b[39mprofiler\u001b[39m.\u001b[39mexperimental\u001b[39m.\u001b[39mTrace(\n\u001b[1;32m   1735\u001b[0m     \u001b[39m\"\u001b[39m\u001b[39mtrain\u001b[39m\u001b[39m\"\u001b[39m,\n\u001b[1;32m   1736\u001b[0m     epoch_num\u001b[39m=\u001b[39mepoch,\n\u001b[0;32m   (...)\u001b[0m\n\u001b[1;32m   1739\u001b[0m     _r\u001b[39m=\u001b[39m\u001b[39m1\u001b[39m,\n\u001b[1;32m   1740\u001b[0m ):\n\u001b[1;32m   1741\u001b[0m     callbacks\u001b[39m.\u001b[39mon_train_batch_begin(step)\n\u001b[0;32m-> 1742\u001b[0m     tmp_logs \u001b[39m=\u001b[39m \u001b[39mself\u001b[39;49m\u001b[39m.\u001b[39;49mtrain_function(iterator)\n\u001b[1;32m   1743\u001b[0m     \u001b[39mif\u001b[39;00m data_handler\u001b[39m.\u001b[39mshould_sync:\n\u001b[1;32m   1744\u001b[0m         context\u001b[39m.\u001b[39masync_wait()\n",
      "File \u001b[0;32m~/.conda/envs/ytbase/lib/python3.9/site-packages/tensorflow/python/util/traceback_utils.py:150\u001b[0m, in \u001b[0;36mfilter_traceback.<locals>.error_handler\u001b[0;34m(*args, **kwargs)\u001b[0m\n\u001b[1;32m    148\u001b[0m filtered_tb \u001b[39m=\u001b[39m \u001b[39mNone\u001b[39;00m\n\u001b[1;32m    149\u001b[0m \u001b[39mtry\u001b[39;00m:\n\u001b[0;32m--> 150\u001b[0m   \u001b[39mreturn\u001b[39;00m fn(\u001b[39m*\u001b[39;49margs, \u001b[39m*\u001b[39;49m\u001b[39m*\u001b[39;49mkwargs)\n\u001b[1;32m    151\u001b[0m \u001b[39mexcept\u001b[39;00m \u001b[39mException\u001b[39;00m \u001b[39mas\u001b[39;00m e:\n\u001b[1;32m    152\u001b[0m   filtered_tb \u001b[39m=\u001b[39m _process_traceback_frames(e\u001b[39m.\u001b[39m__traceback__)\n",
      "File \u001b[0;32m~/.conda/envs/ytbase/lib/python3.9/site-packages/tensorflow/python/eager/polymorphic_function/polymorphic_function.py:825\u001b[0m, in \u001b[0;36mFunction.__call__\u001b[0;34m(self, *args, **kwds)\u001b[0m\n\u001b[1;32m    822\u001b[0m compiler \u001b[39m=\u001b[39m \u001b[39m\"\u001b[39m\u001b[39mxla\u001b[39m\u001b[39m\"\u001b[39m \u001b[39mif\u001b[39;00m \u001b[39mself\u001b[39m\u001b[39m.\u001b[39m_jit_compile \u001b[39melse\u001b[39;00m \u001b[39m\"\u001b[39m\u001b[39mnonXla\u001b[39m\u001b[39m\"\u001b[39m\n\u001b[1;32m    824\u001b[0m \u001b[39mwith\u001b[39;00m OptionalXlaContext(\u001b[39mself\u001b[39m\u001b[39m.\u001b[39m_jit_compile):\n\u001b[0;32m--> 825\u001b[0m   result \u001b[39m=\u001b[39m \u001b[39mself\u001b[39;49m\u001b[39m.\u001b[39;49m_call(\u001b[39m*\u001b[39;49margs, \u001b[39m*\u001b[39;49m\u001b[39m*\u001b[39;49mkwds)\n\u001b[1;32m    827\u001b[0m new_tracing_count \u001b[39m=\u001b[39m \u001b[39mself\u001b[39m\u001b[39m.\u001b[39mexperimental_get_tracing_count()\n\u001b[1;32m    828\u001b[0m without_tracing \u001b[39m=\u001b[39m (tracing_count \u001b[39m==\u001b[39m new_tracing_count)\n",
      "File \u001b[0;32m~/.conda/envs/ytbase/lib/python3.9/site-packages/tensorflow/python/eager/polymorphic_function/polymorphic_function.py:857\u001b[0m, in \u001b[0;36mFunction._call\u001b[0;34m(self, *args, **kwds)\u001b[0m\n\u001b[1;32m    854\u001b[0m   \u001b[39mself\u001b[39m\u001b[39m.\u001b[39m_lock\u001b[39m.\u001b[39mrelease()\n\u001b[1;32m    855\u001b[0m   \u001b[39m# In this case we have created variables on the first call, so we run the\u001b[39;00m\n\u001b[1;32m    856\u001b[0m   \u001b[39m# defunned version which is guaranteed to never create variables.\u001b[39;00m\n\u001b[0;32m--> 857\u001b[0m   \u001b[39mreturn\u001b[39;00m \u001b[39mself\u001b[39;49m\u001b[39m.\u001b[39;49m_no_variable_creation_fn(\u001b[39m*\u001b[39;49margs, \u001b[39m*\u001b[39;49m\u001b[39m*\u001b[39;49mkwds)  \u001b[39m# pylint: disable=not-callable\u001b[39;00m\n\u001b[1;32m    858\u001b[0m \u001b[39melif\u001b[39;00m \u001b[39mself\u001b[39m\u001b[39m.\u001b[39m_variable_creation_fn \u001b[39mis\u001b[39;00m \u001b[39mnot\u001b[39;00m \u001b[39mNone\u001b[39;00m:\n\u001b[1;32m    859\u001b[0m   \u001b[39m# Release the lock early so that multiple threads can perform the call\u001b[39;00m\n\u001b[1;32m    860\u001b[0m   \u001b[39m# in parallel.\u001b[39;00m\n\u001b[1;32m    861\u001b[0m   \u001b[39mself\u001b[39m\u001b[39m.\u001b[39m_lock\u001b[39m.\u001b[39mrelease()\n",
      "File \u001b[0;32m~/.conda/envs/ytbase/lib/python3.9/site-packages/tensorflow/python/eager/polymorphic_function/tracing_compiler.py:148\u001b[0m, in \u001b[0;36mTracingCompiler.__call__\u001b[0;34m(self, *args, **kwargs)\u001b[0m\n\u001b[1;32m    145\u001b[0m \u001b[39mwith\u001b[39;00m \u001b[39mself\u001b[39m\u001b[39m.\u001b[39m_lock:\n\u001b[1;32m    146\u001b[0m   (concrete_function,\n\u001b[1;32m    147\u001b[0m    filtered_flat_args) \u001b[39m=\u001b[39m \u001b[39mself\u001b[39m\u001b[39m.\u001b[39m_maybe_define_function(args, kwargs)\n\u001b[0;32m--> 148\u001b[0m \u001b[39mreturn\u001b[39;00m concrete_function\u001b[39m.\u001b[39;49m_call_flat(\n\u001b[1;32m    149\u001b[0m     filtered_flat_args, captured_inputs\u001b[39m=\u001b[39;49mconcrete_function\u001b[39m.\u001b[39;49mcaptured_inputs)\n",
      "File \u001b[0;32m~/.conda/envs/ytbase/lib/python3.9/site-packages/tensorflow/python/eager/polymorphic_function/monomorphic_function.py:1349\u001b[0m, in \u001b[0;36mConcreteFunction._call_flat\u001b[0;34m(self, args, captured_inputs)\u001b[0m\n\u001b[1;32m   1345\u001b[0m possible_gradient_type \u001b[39m=\u001b[39m gradients_util\u001b[39m.\u001b[39mPossibleTapeGradientTypes(args)\n\u001b[1;32m   1346\u001b[0m \u001b[39mif\u001b[39;00m (possible_gradient_type \u001b[39m==\u001b[39m gradients_util\u001b[39m.\u001b[39mPOSSIBLE_GRADIENT_TYPES_NONE\n\u001b[1;32m   1347\u001b[0m     \u001b[39mand\u001b[39;00m executing_eagerly):\n\u001b[1;32m   1348\u001b[0m   \u001b[39m# No tape is watching; skip to running the function.\u001b[39;00m\n\u001b[0;32m-> 1349\u001b[0m   \u001b[39mreturn\u001b[39;00m \u001b[39mself\u001b[39m\u001b[39m.\u001b[39m_build_call_outputs(\u001b[39mself\u001b[39;49m\u001b[39m.\u001b[39;49m_inference_function(\u001b[39m*\u001b[39;49margs))\n\u001b[1;32m   1350\u001b[0m forward_backward \u001b[39m=\u001b[39m \u001b[39mself\u001b[39m\u001b[39m.\u001b[39m_select_forward_and_backward_functions(\n\u001b[1;32m   1351\u001b[0m     args,\n\u001b[1;32m   1352\u001b[0m     possible_gradient_type,\n\u001b[1;32m   1353\u001b[0m     executing_eagerly)\n\u001b[1;32m   1354\u001b[0m forward_function, args_with_tangents \u001b[39m=\u001b[39m forward_backward\u001b[39m.\u001b[39mforward()\n",
      "File \u001b[0;32m~/.conda/envs/ytbase/lib/python3.9/site-packages/tensorflow/python/eager/polymorphic_function/atomic_function.py:196\u001b[0m, in \u001b[0;36mAtomicFunction.__call__\u001b[0;34m(self, *args)\u001b[0m\n\u001b[1;32m    194\u001b[0m \u001b[39mwith\u001b[39;00m record\u001b[39m.\u001b[39mstop_recording():\n\u001b[1;32m    195\u001b[0m   \u001b[39mif\u001b[39;00m \u001b[39mself\u001b[39m\u001b[39m.\u001b[39m_bound_context\u001b[39m.\u001b[39mexecuting_eagerly():\n\u001b[0;32m--> 196\u001b[0m     outputs \u001b[39m=\u001b[39m \u001b[39mself\u001b[39;49m\u001b[39m.\u001b[39;49m_bound_context\u001b[39m.\u001b[39;49mcall_function(\n\u001b[1;32m    197\u001b[0m         \u001b[39mself\u001b[39;49m\u001b[39m.\u001b[39;49mname,\n\u001b[1;32m    198\u001b[0m         \u001b[39mlist\u001b[39;49m(args),\n\u001b[1;32m    199\u001b[0m         \u001b[39mlen\u001b[39;49m(\u001b[39mself\u001b[39;49m\u001b[39m.\u001b[39;49mfunction_type\u001b[39m.\u001b[39;49mflat_outputs),\n\u001b[1;32m    200\u001b[0m     )\n\u001b[1;32m    201\u001b[0m   \u001b[39melse\u001b[39;00m:\n\u001b[1;32m    202\u001b[0m     outputs \u001b[39m=\u001b[39m make_call_op_in_graph(\u001b[39mself\u001b[39m, \u001b[39mlist\u001b[39m(args))\n",
      "File \u001b[0;32m~/.conda/envs/ytbase/lib/python3.9/site-packages/tensorflow/python/eager/context.py:1457\u001b[0m, in \u001b[0;36mContext.call_function\u001b[0;34m(self, name, tensor_inputs, num_outputs)\u001b[0m\n\u001b[1;32m   1455\u001b[0m cancellation_context \u001b[39m=\u001b[39m cancellation\u001b[39m.\u001b[39mcontext()\n\u001b[1;32m   1456\u001b[0m \u001b[39mif\u001b[39;00m cancellation_context \u001b[39mis\u001b[39;00m \u001b[39mNone\u001b[39;00m:\n\u001b[0;32m-> 1457\u001b[0m   outputs \u001b[39m=\u001b[39m execute\u001b[39m.\u001b[39;49mexecute(\n\u001b[1;32m   1458\u001b[0m       name\u001b[39m.\u001b[39;49mdecode(\u001b[39m\"\u001b[39;49m\u001b[39mutf-8\u001b[39;49m\u001b[39m\"\u001b[39;49m),\n\u001b[1;32m   1459\u001b[0m       num_outputs\u001b[39m=\u001b[39;49mnum_outputs,\n\u001b[1;32m   1460\u001b[0m       inputs\u001b[39m=\u001b[39;49mtensor_inputs,\n\u001b[1;32m   1461\u001b[0m       attrs\u001b[39m=\u001b[39;49mattrs,\n\u001b[1;32m   1462\u001b[0m       ctx\u001b[39m=\u001b[39;49m\u001b[39mself\u001b[39;49m,\n\u001b[1;32m   1463\u001b[0m   )\n\u001b[1;32m   1464\u001b[0m \u001b[39melse\u001b[39;00m:\n\u001b[1;32m   1465\u001b[0m   outputs \u001b[39m=\u001b[39m execute\u001b[39m.\u001b[39mexecute_with_cancellation(\n\u001b[1;32m   1466\u001b[0m       name\u001b[39m.\u001b[39mdecode(\u001b[39m\"\u001b[39m\u001b[39mutf-8\u001b[39m\u001b[39m\"\u001b[39m),\n\u001b[1;32m   1467\u001b[0m       num_outputs\u001b[39m=\u001b[39mnum_outputs,\n\u001b[0;32m   (...)\u001b[0m\n\u001b[1;32m   1471\u001b[0m       cancellation_manager\u001b[39m=\u001b[39mcancellation_context,\n\u001b[1;32m   1472\u001b[0m   )\n",
      "File \u001b[0;32m~/.conda/envs/ytbase/lib/python3.9/site-packages/tensorflow/python/eager/execute.py:53\u001b[0m, in \u001b[0;36mquick_execute\u001b[0;34m(op_name, num_outputs, inputs, attrs, ctx, name)\u001b[0m\n\u001b[1;32m     51\u001b[0m \u001b[39mtry\u001b[39;00m:\n\u001b[1;32m     52\u001b[0m   ctx\u001b[39m.\u001b[39mensure_initialized()\n\u001b[0;32m---> 53\u001b[0m   tensors \u001b[39m=\u001b[39m pywrap_tfe\u001b[39m.\u001b[39;49mTFE_Py_Execute(ctx\u001b[39m.\u001b[39;49m_handle, device_name, op_name,\n\u001b[1;32m     54\u001b[0m                                       inputs, attrs, num_outputs)\n\u001b[1;32m     55\u001b[0m \u001b[39mexcept\u001b[39;00m core\u001b[39m.\u001b[39m_NotOkStatusException \u001b[39mas\u001b[39;00m e:\n\u001b[1;32m     56\u001b[0m   \u001b[39mif\u001b[39;00m name \u001b[39mis\u001b[39;00m \u001b[39mnot\u001b[39;00m \u001b[39mNone\u001b[39;00m:\n",
      "\u001b[0;31mKeyboardInterrupt\u001b[0m: "
     ]
    }
   ],
   "source": [
    "import tensorflow as tf\n",
    "from tensorflow.keras.layers import Input, Dense, Dot, Softmax, Concatenate\n",
    "from tensorflow.keras.models import Model\n",
    "from tensorflow.keras.losses import SparseCategoricalCrossentropy\n",
    "from tensorflow.keras.optimizers import Adam\n",
    "\n",
    "embedding_size = 1536\n",
    "num_suggested_videos = 15\n",
    "model = SiameseWithAttention(embedding_size, num_suggested_videos)\n",
    "\n",
    "# Compile the model\n",
    "model.compile(optimizer=Adam(learning_rate=0.001),\n",
    "              loss='categorical_crossentropy',\n",
    "              metrics=['accuracy'])\n",
    "\n",
    "# Train the model\n",
    "batch_size = 64\n",
    "epochs = 100\n",
    "\n",
    "model.fit([pp, ss],\n",
    "          yy,\n",
    "          batch_size=batch_size,\n",
    "          epochs=epochs,\n",
    "          validation_split=0.1)\n"
   ]
  },
  {
   "cell_type": "code",
   "execution_count": 133,
   "metadata": {},
   "outputs": [],
   "source": []
  },
  {
   "cell_type": "code",
   "execution_count": 76,
   "metadata": {},
   "outputs": [
    {
     "data": {
      "text/plain": [
       "(4043, 128)"
      ]
     },
     "execution_count": 76,
     "metadata": {},
     "output_type": "execute_result"
    }
   ],
   "source": [
    "p.shape"
   ]
  },
  {
   "cell_type": "code",
   "execution_count": 77,
   "metadata": {},
   "outputs": [
    {
     "data": {
      "text/plain": [
       "(4043, 15, 128)"
      ]
     },
     "execution_count": 77,
     "metadata": {},
     "output_type": "execute_result"
    }
   ],
   "source": [
    "s.shape"
   ]
  }
 ],
 "metadata": {
  "kernelspec": {
   "display_name": "ytbase",
   "language": "python",
   "name": "python3"
  },
  "language_info": {
   "codemirror_mode": {
    "name": "ipython",
    "version": 3
   },
   "file_extension": ".py",
   "mimetype": "text/x-python",
   "name": "python",
   "nbconvert_exporter": "python",
   "pygments_lexer": "ipython3",
   "version": "3.9.17"
  },
  "orig_nbformat": 4
 },
 "nbformat": 4,
 "nbformat_minor": 2
}
