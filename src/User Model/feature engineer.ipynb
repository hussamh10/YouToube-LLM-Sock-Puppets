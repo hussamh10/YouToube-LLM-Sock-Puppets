{
 "cells": [
  {
   "cell_type": "code",
   "execution_count": 4,
   "metadata": {},
   "outputs": [
    {
     "name": "stderr",
     "output_type": "stream",
     "text": [
      "2023-08-11 12:53:13.364376: I tensorflow/core/platform/cpu_feature_guard.cc:182] This TensorFlow binary is optimized to use available CPU instructions in performance-critical operations.\n",
      "To enable the following instructions: AVX2 FMA, in other operations, rebuild TensorFlow with the appropriate compiler flags.\n",
      "2023-08-11 12:53:13.930976: W tensorflow/compiler/tf2tensorrt/utils/py_utils.cc:38] TF-TRT Warning: Could not find TensorRT\n"
     ]
    }
   ],
   "source": [
    "import pandas as pd\n",
    "import numpy as np\n",
    "import pickle as pkl\n",
    "import tensorflow as tf\n",
    "\n",
    "import fasttext as ft\n",
    "from sklearn.metrics.pairwise import cosine_similarity\n",
    "\n",
    "\n",
    "\n",
    "import sys\n",
    "sys.path.append('../')\n",
    "from utils import *"
   ]
  },
  {
   "cell_type": "code",
   "execution_count": 5,
   "metadata": {},
   "outputs": [],
   "source": [
    "watches = pd.read_pickle('../../data/user-level-data')\n",
    "videos = pd.read_pickle('../../data/videos_raw_metadata')"
   ]
  },
  {
   "cell_type": "code",
   "execution_count": 6,
   "metadata": {},
   "outputs": [],
   "source": [
    "watches_df = dict()\n",
    "\n",
    "def convert(watch):\n",
    "    d = dict()\n",
    "    d['playing'] = watch['playing']['id']\n",
    "    suggested = []\n",
    "    for s in watch['suggested']:\n",
    "        if s != None:\n",
    "            suggested.append(s['id'])\n",
    "    d['suggested'] = suggested\n",
    "    d['selected'] = watch['selected']\n",
    "    return d\n",
    "\n",
    "for user in watches:\n",
    "    watches_df[user] = []\n",
    "    for watch in watches[user]:\n",
    "        if watch['playing'] == None:\n",
    "            continue\n",
    "        watch = convert(watch)\n",
    "        watches_df[user].append(watch)"
   ]
  },
  {
   "cell_type": "code",
   "execution_count": 42,
   "metadata": {},
   "outputs": [],
   "source": [
    "from collections import Counter\n",
    "\n",
    "all_channels = []\n",
    "\n",
    "for video in videos:\n",
    "    video = videos[video]\n",
    "    channel = video['snippet']['channelTitle']\n",
    "    all_channels.append(channel)\n",
    "\n",
    "all_channels = Counter(all_channels)\n",
    "all_channels = pd.DataFrame.from_dict(all_channels, 'index', columns=['count'])\n",
    "all_channels = all_channels.sort_values(['count'], ascending=False).head(1000)\n",
    "# all_channels = list(set(all_channels))\n",
    "all_channels = list(all_channels.index)\n",
    "\n",
    "def get_one_hot_channel(channel):\n",
    "    if channel in all_channels:\n",
    "        i = all_channels.index(channel)\n",
    "        one_hot = [0] * len(all_channels)\n",
    "        one_hot[i] = 1\n",
    "    else:\n",
    "        i = 1000\n",
    "        one_hot = [0] * len(all_channels)\n",
    "    return one_hot"
   ]
  },
  {
   "cell_type": "code",
   "execution_count": 43,
   "metadata": {},
   "outputs": [],
   "source": [
    "from collections import Counter\n",
    "\n",
    "\n",
    "all_topics = []\n",
    "all_tags = []\n",
    "\n",
    "for video in videos:\n",
    "    video = videos[video]\n",
    "    \n",
    "    try:\n",
    "        topics = video['topicDetails']['topicCategories']\n",
    "        topics = [topic.split('/')[-1].lower() for topic in topics]\n",
    "    except:\n",
    "        topics = []\n",
    "\n",
    "    all_topics += topics\n",
    "    \n",
    "    try:\n",
    "        tags = video['snippet']['tags']\n",
    "        tags = [tag.lower() for tag in tags]\n",
    "    except:\n",
    "        tags = []\n",
    "\n",
    "    all_tags += tags\n",
    "\n",
    "all_topics = list(set(all_topics))\n",
    "\n",
    "atc = Counter(all_tags)\n",
    "atc = pd.DataFrame.from_dict(atc, 'index', columns=['count'])\n",
    "atc = atc.sort_values(['count'], ascending=False).head(5000)\n",
    "all_tags = list(atc.index)\n",
    "\n",
    "def get_one_hot_vector(topics, tags):\n",
    "    oh_topics = np.zeros(len(all_topics))\n",
    "    for topic in topics:\n",
    "        oh_topics[all_topics.index(topic)] = 1\n",
    "        \n",
    "    oh_tags = np.zeros(len(all_tags))\n",
    "    for tag in tags:\n",
    "        if tag in all_tags:\n",
    "            oh_tags[all_tags.index(tag)] = 1\n",
    "        \n",
    "    oh = np.concatenate([oh_topics , oh_tags])\n",
    "    \n",
    "    return oh\n",
    "\n",
    "\n",
    "def get_all_vector(video):\n",
    "    video = videos[video]\n",
    "    try:\n",
    "        topics = video['topicDetails']['topicCategories']\n",
    "        topics = [topic.split('/')[-1].lower() for topic in topics]\n",
    "    except:\n",
    "        topics = []\n",
    "\n",
    "    try:\n",
    "        tags = video['snippet']['tags']\n",
    "        tags = [tag.lower() for tag in tags]\n",
    "    except:\n",
    "        tags = []\n",
    "\n",
    "    channel = video['snippet']['channelTitle']\n",
    "\n",
    "\n",
    "    topics = get_one_hot_vector(topics, tags)\n",
    "    channel = get_one_hot_channel(channel)\n",
    "\n",
    "    return np.concatenate([topics, channel])"
   ]
  },
  {
   "cell_type": "code",
   "execution_count": 46,
   "metadata": {},
   "outputs": [],
   "source": [
    "history = dict()\n",
    "users = list(watches_df.keys())\n",
    "data = dict()\n",
    "\n",
    "for user in users:\n",
    "    if len(watches_df[user]) < 10:\n",
    "        continue\n",
    "    history[user] = watches_df[user][:10]\n",
    "\n",
    "    for watch in watches_df[user][10:]:\n",
    "        if watch['selected'] != None:\n",
    "            if user not in data:\n",
    "                data[user] = []\n",
    "            data[user].append(watch)\n",
    "\n",
    "for user in list(history.keys()):\n",
    "    if user not in data:\n",
    "        history.pop(user)"
   ]
  },
  {
   "cell_type": "code",
   "execution_count": 47,
   "metadata": {},
   "outputs": [],
   "source": [
    "for user in history:\n",
    "    history[user] = [s['playing'] for s in history[user]]\n",
    "    history[user] = [get_all_vector(s) for s in history[user]]\n",
    "    history[user] = np.array(history[user]).mean(axis=0)"
   ]
  },
  {
   "cell_type": "code",
   "execution_count": 19,
   "metadata": {},
   "outputs": [
    {
     "data": {
      "application/vnd.jupyter.widget-view+json": {
       "model_id": "9bfb6237331946ff99d803a4f29c40ab",
       "version_major": 2,
       "version_minor": 0
      },
      "text/plain": [
       "  0%|          | 0/1266 [00:00<?, ?it/s]"
      ]
     },
     "metadata": {},
     "output_type": "display_data"
    }
   ],
   "source": [
    "topic_vector = dict()\n",
    "SG, P, SX, H = [], [], [], []\n",
    "Y = []\n",
    "\n",
    "topic_vectors = dict()\n",
    "\n",
    "for user in tqdm(data):\n",
    "    user_history = history[user]\n",
    "    user_history = np.concatenate([user_history, [0]])\n",
    "    for watch in data[user]:\n",
    "        \n",
    "        playing = watch['playing']\n",
    "        selected = watch['selected']\n",
    "        upnext = watch['suggested'][:15]\n",
    "\n",
    "        if playing not in videos or selected not in videos or any([s not in videos for s in watch['suggested']]):\n",
    "            continue\n",
    "        if len(watch['suggested']) < 15:\n",
    "            continue\n",
    "\n",
    "\n",
    "        playing = get_all_vector(watch['playing'])\n",
    "        playing = np.concatenate([playing, [0]])\n",
    "\n",
    "        suggesteds = []\n",
    "        \n",
    "        for i, s in enumerate(upnext):\n",
    "            if s not in topic_vectors:\n",
    "                topic_vectors[s] = get_all_vector(s)\n",
    "            sv = topic_vectors[s]\n",
    "            sv = np.concatenate([sv, [i]])\n",
    "            suggesteds.append(sv)\n",
    "        \n",
    "        suggesteds = np.array(suggesteds)\n",
    "        # suggesteds = np.mean(suggesteds, axis=0)\n",
    "\n",
    "        for i, s in enumerate(upnext):\n",
    "            selected = watch['selected']\n",
    "\n",
    "            if s == selected:\n",
    "                y = 1\n",
    "            else:\n",
    "                y = 0\n",
    "\n",
    "            sv = topic_vectors[s]\n",
    "\n",
    "            sv = np.concatenate([sv, [i]])\n",
    "            SG.append(suggesteds)\n",
    "            P.append(playing)\n",
    "            SX.append(sv)\n",
    "            H.append(user_history)\n",
    "            Y.append(y)"
   ]
  },
  {
   "cell_type": "code",
   "execution_count": 10,
   "metadata": {},
   "outputs": [],
   "source": [
    "# [SG, P, SX, H, Y] = pkl.load(open('temp-SG_P_SX_H_Y.pkl', 'rb'))\n"
   ]
  },
  {
   "cell_type": "code",
   "execution_count": 22,
   "metadata": {},
   "outputs": [],
   "source": [
    "SG = np.array(SG)\n",
    "P = np.array(P)\n",
    "SX = np.array(SX)\n",
    "H = np.array(H)\n",
    "Y = np.array(Y)"
   ]
  },
  {
   "cell_type": "code",
   "execution_count": 23,
   "metadata": {},
   "outputs": [],
   "source": [
    "from sklearn.model_selection import train_test_split\n",
    "\n",
    "SG_train, SG_test, P_train, P_test, SX_train, SX_test, H_train, H_test, Y_train, Y_test = train_test_split(SG, P, SX, H, Y, test_size=0.2, random_state=42)"
   ]
  },
  {
   "cell_type": "code",
   "execution_count": null,
   "metadata": {},
   "outputs": [
    {
     "ename": "AttributeError",
     "evalue": "'list' object has no attribute 'sum'",
     "output_type": "error",
     "traceback": [
      "\u001b[0;31m---------------------------------------------------------------------------\u001b[0m",
      "\u001b[0;31mAttributeError\u001b[0m                            Traceback (most recent call last)",
      "Cell \u001b[0;32mIn[21], line 1\u001b[0m\n\u001b[0;32m----> 1\u001b[0m pos \u001b[39m=\u001b[39m Y\u001b[39m.\u001b[39;49msum()\n\u001b[1;32m      2\u001b[0m neg \u001b[39m=\u001b[39m \u001b[39mlen\u001b[39m(Y) \u001b[39m-\u001b[39m pos\n\u001b[1;32m      3\u001b[0m total \u001b[39m=\u001b[39m neg \u001b[39m+\u001b[39m pos\n",
      "\u001b[0;31mAttributeError\u001b[0m: 'list' object has no attribute 'sum'"
     ]
    }
   ],
   "source": [
    "pos = Y.sum()\n",
    "neg = len(Y) - pos\n",
    "total = neg + pos\n",
    "w0 = (1 / neg) * (total / 2.0)\n",
    "w1 = (1 / pos) * (total / 2.0)\n",
    "class_weights = {0:w0, 1:w1}\n",
    "class_weights"
   ]
  },
  {
   "cell_type": "code",
   "execution_count": 14,
   "metadata": {},
   "outputs": [],
   "source": [
    "# pkl.dump([SG, P, SX, H, Y], open('temp-SG_P_SX_H_Y.pkl', 'wb'))"
   ]
  },
  {
   "cell_type": "code",
   "execution_count": null,
   "metadata": {},
   "outputs": [],
   "source": [
    "from tensorflow import keras\n",
    "from keras import Model\n",
    "from keras.models import Sequential\n",
    "from keras.metrics import AUC, BinaryAccuracy\n",
    "from keras.layers import Dense, Dropout, Flatten, Concatenate, Input\n",
    "from tensorflow.keras.optimizers import SGD"
   ]
  },
  {
   "cell_type": "code",
   "execution_count": null,
   "metadata": {},
   "outputs": [
    {
     "name": "stderr",
     "output_type": "stream",
     "text": [
      "2023-08-11 12:35:47.113216: I tensorflow/core/common_runtime/gpu/gpu_device.cc:1639] Created device /job:localhost/replica:0/task:0/device:GPU:0 with 46692 MB memory:  -> device: 0, name: NVIDIA RTX A6000, pci bus id: 0000:01:00.0, compute capability: 8.6\n",
      "2023-08-11 12:35:47.113786: I tensorflow/core/common_runtime/gpu/gpu_device.cc:1639] Created device /job:localhost/replica:0/task:0/device:GPU:1 with 46692 MB memory:  -> device: 1, name: NVIDIA RTX A6000, pci bus id: 0000:81:00.0, compute capability: 8.6\n"
     ]
    }
   ],
   "source": [
    "DP = 0.5\n",
    "\n",
    "suggested_tensor = Input(shape=[15, 5063])\n",
    "playing_tensor = Input(shape=[5063])\n",
    "selected_tensor = Input(shape=[5063])\n",
    "history_tensor = Input(shape=[5063])\n",
    "\n",
    "\n",
    "sg_dense = Dense(64, activation='relu')(suggested_tensor)\n",
    "sg_dense = Dropout(DP)(sg_dense)\n",
    "# sg_dense = Dense(256, activation='relu')(sg_dense)\n",
    "# sg_dense = Dropout(DP)(sg_dense)\n",
    "# sg_dense = Dense(64, activation='relu')(sg_dense)\n",
    "# sg_dense = Dropout(DP)(sg_dense)\n",
    "sg = Flatten()(sg_dense)\n",
    "\n",
    "pl_dense = Dense(64, activation='relu')(playing_tensor)\n",
    "pl_dense = Dropout(DP)(pl_dense)\n",
    "# pl_dense = Dense(256, activation='relu')(pl_dense)\n",
    "# pl_dense = Dropout(DP)(pl_dense)\n",
    "# pl_dense = Dense(64, activation='relu')(pl_dense)\n",
    "# pl_dense = Dropout(DP)(pl_dense)\n",
    "pl = Flatten()(pl_dense)\n",
    "\n",
    "sl_dense = Dense(64, activation='relu')(selected_tensor)\n",
    "sl_dense = Dropout(DP)(sl_dense)\n",
    "# sl_dense = Dense(256, activation='relu')(sl_dense)\n",
    "# sl_dense = Dropout(DP)(sl_dense)\n",
    "# sl_dense = Dense(64, activation='relu')(sl_dense)\n",
    "# sl_dense = Dropout(DP)(sl_dense)\n",
    "sl = Flatten()(sl_dense)\n",
    "\n",
    "hl_dense = Dense(64, activation='relu')(history_tensor)\n",
    "hl_dense = Dropout(DP)(hl_dense)\n",
    "# hl_dense = Dense(256, activation='relu')(hl_dense)\n",
    "# hl_dense = Dropout(DP)(hl_dense)\n",
    "# hl_dense = Dense(64, activation='relu')(hl_dense)\n",
    "# hl_dense = Dropout(DP)(hl_dense)\n",
    "hl = Flatten()(hl_dense)\n",
    "\n",
    "merged = Concatenate()([sg, pl, sl, hl])\n",
    "# x = Dense(1025, activation='relu')(merged)\n",
    "# x = Dropout(DP)(x)\n",
    "# x = Dense(256, activation='relu')(merged)\n",
    "# x = Dropout(DP)(x)\n",
    "x = Dense(64, activation='relu')(merged)\n",
    "\n",
    "final = Dense(1, activation='sigmoid')(x)\n",
    "\n",
    "\n",
    "METRICS = [BinaryAccuracy(name='accuracy'),\n",
    "           AUC(name='auc'),       \n",
    "           keras.metrics.AUC(name='prc', curve='PR')]\n",
    "\n",
    "model = Model(inputs=[suggested_tensor, playing_tensor, selected_tensor, history_tensor], outputs=final)\n",
    "model.compile(optimizer='adam', loss='binary_focal_crossentropy', metrics=['accuracy', 'AUC'])"
   ]
  },
  {
   "cell_type": "code",
   "execution_count": 17,
   "metadata": {},
   "outputs": [
    {
     "name": "stdout",
     "output_type": "stream",
     "text": [
      "Model: \"model\"\n",
      "__________________________________________________________________________________________________\n",
      " Layer (type)                Output Shape                 Param #   Connected to                  \n",
      "==================================================================================================\n",
      " input_1 (InputLayer)        [(None, 15, 5063)]           0         []                            \n",
      "                                                                                                  \n",
      " input_2 (InputLayer)        [(None, 5063)]               0         []                            \n",
      "                                                                                                  \n",
      " input_3 (InputLayer)        [(None, 5063)]               0         []                            \n",
      "                                                                                                  \n",
      " input_4 (InputLayer)        [(None, 5063)]               0         []                            \n",
      "                                                                                                  \n",
      " dense (Dense)               (None, 15, 64)               324096    ['input_1[0][0]']             \n",
      "                                                                                                  \n",
      " dense_1 (Dense)             (None, 64)                   324096    ['input_2[0][0]']             \n",
      "                                                                                                  \n",
      " dense_2 (Dense)             (None, 64)                   324096    ['input_3[0][0]']             \n",
      "                                                                                                  \n",
      " dense_3 (Dense)             (None, 64)                   324096    ['input_4[0][0]']             \n",
      "                                                                                                  \n",
      " dropout (Dropout)           (None, 15, 64)               0         ['dense[0][0]']               \n",
      "                                                                                                  \n",
      " dropout_1 (Dropout)         (None, 64)                   0         ['dense_1[0][0]']             \n",
      "                                                                                                  \n",
      " dropout_2 (Dropout)         (None, 64)                   0         ['dense_2[0][0]']             \n",
      "                                                                                                  \n",
      " dropout_3 (Dropout)         (None, 64)                   0         ['dense_3[0][0]']             \n",
      "                                                                                                  \n",
      " flatten (Flatten)           (None, 960)                  0         ['dropout[0][0]']             \n",
      "                                                                                                  \n",
      " flatten_1 (Flatten)         (None, 64)                   0         ['dropout_1[0][0]']           \n",
      "                                                                                                  \n",
      " flatten_2 (Flatten)         (None, 64)                   0         ['dropout_2[0][0]']           \n",
      "                                                                                                  \n",
      " flatten_3 (Flatten)         (None, 64)                   0         ['dropout_3[0][0]']           \n",
      "                                                                                                  \n",
      " concatenate (Concatenate)   (None, 1152)                 0         ['flatten[0][0]',             \n",
      "                                                                     'flatten_1[0][0]',           \n",
      "                                                                     'flatten_2[0][0]',           \n",
      "                                                                     'flatten_3[0][0]']           \n",
      "                                                                                                  \n",
      " dense_4 (Dense)             (None, 64)                   73792     ['concatenate[0][0]']         \n",
      "                                                                                                  \n",
      " dense_5 (Dense)             (None, 1)                    65        ['dense_4[0][0]']             \n",
      "                                                                                                  \n",
      "==================================================================================================\n",
      "Total params: 1370241 (5.23 MB)\n",
      "Trainable params: 1370241 (5.23 MB)\n",
      "Non-trainable params: 0 (0.00 Byte)\n",
      "__________________________________________________________________________________________________\n"
     ]
    }
   ],
   "source": [
    "model.summary()"
   ]
  },
  {
   "cell_type": "code",
   "execution_count": 18,
   "metadata": {},
   "outputs": [
    {
     "name": "stdout",
     "output_type": "stream",
     "text": [
      "Epoch 1/30\n"
     ]
    },
    {
     "ename": "ValueError",
     "evalue": "in user code:\n\n    File \"/home/hsmhabib/.conda/envs/ytbase/lib/python3.9/site-packages/keras/src/engine/training.py\", line 1338, in train_function  *\n        return step_function(self, iterator)\n    File \"/home/hsmhabib/.conda/envs/ytbase/lib/python3.9/site-packages/keras/src/engine/training.py\", line 1322, in step_function  **\n        outputs = model.distribute_strategy.run(run_step, args=(data,))\n    File \"/home/hsmhabib/.conda/envs/ytbase/lib/python3.9/site-packages/keras/src/engine/training.py\", line 1303, in run_step  **\n        outputs = model.train_step(data)\n    File \"/home/hsmhabib/.conda/envs/ytbase/lib/python3.9/site-packages/keras/src/engine/training.py\", line 1080, in train_step\n        y_pred = self(x, training=True)\n    File \"/home/hsmhabib/.conda/envs/ytbase/lib/python3.9/site-packages/keras/src/utils/traceback_utils.py\", line 70, in error_handler\n        raise e.with_traceback(filtered_tb) from None\n    File \"/home/hsmhabib/.conda/envs/ytbase/lib/python3.9/site-packages/keras/src/engine/input_spec.py\", line 298, in assert_input_compatibility\n        raise ValueError(\n\n    ValueError: Input 0 of layer \"model\" is incompatible with the layer: expected shape=(None, 15, 5063), found shape=(None, 5063)\n",
     "output_type": "error",
     "traceback": [
      "\u001b[0;31m---------------------------------------------------------------------------\u001b[0m",
      "\u001b[0;31mValueError\u001b[0m                                Traceback (most recent call last)",
      "Cell \u001b[0;32mIn[18], line 1\u001b[0m\n\u001b[0;32m----> 1\u001b[0m model\u001b[39m.\u001b[39;49mfit([SG_train, P_train, SX_train, H_train], Y_train,\n\u001b[1;32m      2\u001b[0m             epochs\u001b[39m=\u001b[39;49m\u001b[39m30\u001b[39;49m,\n\u001b[1;32m      3\u001b[0m             batch_size\u001b[39m=\u001b[39;49m\u001b[39m32\u001b[39;49m,\n\u001b[1;32m      4\u001b[0m             validation_split\u001b[39m=\u001b[39;49m\u001b[39m0.2\u001b[39;49m)\n",
      "File \u001b[0;32m~/.conda/envs/ytbase/lib/python3.9/site-packages/keras/src/utils/traceback_utils.py:70\u001b[0m, in \u001b[0;36mfilter_traceback.<locals>.error_handler\u001b[0;34m(*args, **kwargs)\u001b[0m\n\u001b[1;32m     67\u001b[0m     filtered_tb \u001b[39m=\u001b[39m _process_traceback_frames(e\u001b[39m.\u001b[39m__traceback__)\n\u001b[1;32m     68\u001b[0m     \u001b[39m# To get the full stack trace, call:\u001b[39;00m\n\u001b[1;32m     69\u001b[0m     \u001b[39m# `tf.debugging.disable_traceback_filtering()`\u001b[39;00m\n\u001b[0;32m---> 70\u001b[0m     \u001b[39mraise\u001b[39;00m e\u001b[39m.\u001b[39mwith_traceback(filtered_tb) \u001b[39mfrom\u001b[39;00m \u001b[39mNone\u001b[39;00m\n\u001b[1;32m     71\u001b[0m \u001b[39mfinally\u001b[39;00m:\n\u001b[1;32m     72\u001b[0m     \u001b[39mdel\u001b[39;00m filtered_tb\n",
      "File \u001b[0;32m/tmp/__autograph_generated_filelpk57k94.py:15\u001b[0m, in \u001b[0;36mouter_factory.<locals>.inner_factory.<locals>.tf__train_function\u001b[0;34m(iterator)\u001b[0m\n\u001b[1;32m     13\u001b[0m \u001b[39mtry\u001b[39;00m:\n\u001b[1;32m     14\u001b[0m     do_return \u001b[39m=\u001b[39m \u001b[39mTrue\u001b[39;00m\n\u001b[0;32m---> 15\u001b[0m     retval_ \u001b[39m=\u001b[39m ag__\u001b[39m.\u001b[39mconverted_call(ag__\u001b[39m.\u001b[39mld(step_function), (ag__\u001b[39m.\u001b[39mld(\u001b[39mself\u001b[39m), ag__\u001b[39m.\u001b[39mld(iterator)), \u001b[39mNone\u001b[39;00m, fscope)\n\u001b[1;32m     16\u001b[0m \u001b[39mexcept\u001b[39;00m:\n\u001b[1;32m     17\u001b[0m     do_return \u001b[39m=\u001b[39m \u001b[39mFalse\u001b[39;00m\n",
      "\u001b[0;31mValueError\u001b[0m: in user code:\n\n    File \"/home/hsmhabib/.conda/envs/ytbase/lib/python3.9/site-packages/keras/src/engine/training.py\", line 1338, in train_function  *\n        return step_function(self, iterator)\n    File \"/home/hsmhabib/.conda/envs/ytbase/lib/python3.9/site-packages/keras/src/engine/training.py\", line 1322, in step_function  **\n        outputs = model.distribute_strategy.run(run_step, args=(data,))\n    File \"/home/hsmhabib/.conda/envs/ytbase/lib/python3.9/site-packages/keras/src/engine/training.py\", line 1303, in run_step  **\n        outputs = model.train_step(data)\n    File \"/home/hsmhabib/.conda/envs/ytbase/lib/python3.9/site-packages/keras/src/engine/training.py\", line 1080, in train_step\n        y_pred = self(x, training=True)\n    File \"/home/hsmhabib/.conda/envs/ytbase/lib/python3.9/site-packages/keras/src/utils/traceback_utils.py\", line 70, in error_handler\n        raise e.with_traceback(filtered_tb) from None\n    File \"/home/hsmhabib/.conda/envs/ytbase/lib/python3.9/site-packages/keras/src/engine/input_spec.py\", line 298, in assert_input_compatibility\n        raise ValueError(\n\n    ValueError: Input 0 of layer \"model\" is incompatible with the layer: expected shape=(None, 15, 5063), found shape=(None, 5063)\n"
     ]
    }
   ],
   "source": [
    "model.fit([SG_train, P_train, SX_train, H_train], Y_train,\n",
    "            epochs=30,\n",
    "            batch_size=32,\n",
    "            validation_split=0.2)"
   ]
  },
  {
   "cell_type": "code",
   "execution_count": 17,
   "metadata": {},
   "outputs": [
    {
     "name": "stdout",
     "output_type": "stream",
     "text": [
      "1466/1466 [==============================] - 4s 2ms/step\n",
      "              precision    recall  f1-score   support\n",
      "\n",
      "           0       0.94      0.99      0.97     43834\n",
      "           1       0.41      0.05      0.09      3053\n",
      "\n",
      "    accuracy                           0.93     46887\n",
      "   macro avg       0.68      0.52      0.53     46887\n",
      "weighted avg       0.90      0.93      0.91     46887\n",
      "\n"
     ]
    }
   ],
   "source": [
    "#f1 score\n",
    "from sklearn.metrics import classification_report\n",
    "\n",
    "y_pred_keras = model.predict([SG_test, P_test, SX_test, H_test]).ravel()\n",
    "y_pred = np.round(y_pred_keras)\n",
    "print(classification_report(Y_test, y_pred))"
   ]
  },
  {
   "cell_type": "code",
   "execution_count": null,
   "metadata": {},
   "outputs": [],
   "source": []
  },
  {
   "cell_type": "code",
   "execution_count": null,
   "metadata": {},
   "outputs": [],
   "source": [
    "y_pred_kes"
   ]
  },
  {
   "cell_type": "code",
   "execution_count": 18,
   "metadata": {},
   "outputs": [
    {
     "data": {
      "image/png": "[encoded data removed]",
      "text/plain": [
       "<Figure size 1000x1000 with 1 Axes>"
      ]
     },
     "metadata": {},
     "output_type": "display_data"
    }
   ],
   "source": [
    "from sklearn.metrics import roc_curve, auc\n",
    "import matplotlib.pyplot as plt\n",
    "\n",
    "# y_pred_keras = model.predict([SG_test, P_test, SX_test, H_test]).ravel()\n",
    "fpr_keras, tpr_keras, thresholds_keras = roc_curve(Y_test, y_pred_keras)\n",
    "auc_keras = auc(fpr_keras, tpr_keras)\n",
    "\n",
    "plt.figure(figsize=(10,10))\n",
    "plt.plot(fpr_keras, tpr_keras, label='(AUC = {:.3f})'.format(auc_keras))\n",
    "plt.xlabel('False positive rate')\n",
    "plt.ylabel('True positive rate')\n",
    "plt.title('ROC curve')\n",
    "plt.legend(loc='best')\n",
    "plt.show()\n"
   ]
  },
  {
   "cell_type": "code",
   "execution_count": null,
   "metadata": {},
   "outputs": [],
   "source": []
  }
 ],
 "metadata": {
  "kernelspec": {
   "display_name": "ytbase",
   "language": "python",
   "name": "python3"
  },
  "language_info": {
   "codemirror_mode": {
    "name": "ipython",
    "version": 3
   },
   "file_extension": ".py",
   "mimetype": "text/x-python",
   "name": "python",
   "nbconvert_exporter": "python",
   "pygments_lexer": "ipython3",
   "version": "3.9.17"
  }
 },
 "nbformat": 4,
 "nbformat_minor": 4
}
