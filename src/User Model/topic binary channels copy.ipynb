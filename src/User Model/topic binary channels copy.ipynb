{
 "cells": [
  {
   "cell_type": "code",
   "execution_count": 4,
   "metadata": {},
   "outputs": [],
   "source": [
    "import pandas as pd\n",
    "import numpy as np\n",
    "import pickle as pkl\n",
    "import tensorflow as tf\n",
    "\n",
    "import fasttext as ft\n",
    "from sklearn.metrics.pairwise import cosine_similarity\n",
    "\n",
    "\n",
    "\n",
    "import sys\n",
    "sys.path.append('../')\n",
    "from utils import *"
   ]
  },
  {
   "cell_type": "code",
   "execution_count": 2,
   "metadata": {},
   "outputs": [],
   "source": [
    "watches = pd.read_pickle('../../data/user-level-data')\n",
    "videos = pd.read_pickle('../../data/videos_raw_metadata')"
   ]
  },
  {
   "cell_type": "code",
   "execution_count": 17,
   "metadata": {},
   "outputs": [
    {
     "name": "stderr",
     "output_type": "stream",
     "text": [
      "Warning : `load_model` does not return WordVectorModel or SupervisedModel any more, but a `FastText` object which is very similar.\n"
     ]
    }
   ],
   "source": [
    "import fasttext.util\n",
    "fasttext.util.download_model('en', if_exists='ignore')\n",
    "ft = fasttext.load_model('cc.en.300.bin')\n",
    "\n",
    "def get_embedding(word):\n",
    "    return ft.get_word_vector(word)\n",
    "\n",
    "\n",
    "def get_embeddings(topics, tags):\n",
    "    topic_embs = []\n",
    "    for topic in topics:\n",
    "        topic_embs.append(get_embedding(topic))\n",
    "    \n",
    "    tag_embs = []\n",
    "    for tag in tags:\n",
    "        tag_embs.append(get_embedding(tag))\n",
    "\n",
    "    if len(topic_embs) == 0:\n",
    "        topic_embs = np.zeros((1, 300))\n",
    "\n",
    "    if len(tag_embs) == 0:\n",
    "        tag_embs = np.zeros((1, 300))\n",
    "\n",
    "    topic_embs = np.mean(np.array(topic_embs), axis=0)\n",
    "    tag_embs = np.mean(np.array(tag_embs), axis=0)\n",
    "\n",
    "    embs = np.concatenate((topic_embs, tag_embs), axis=0)\n",
    "\n",
    "    return embs"
   ]
  },
  {
   "cell_type": "code",
   "execution_count": 18,
   "metadata": {},
   "outputs": [],
   "source": [
    "watches_df = dict()\n",
    "\n",
    "def convert(watch):\n",
    "    d = dict()\n",
    "    d['playing'] = watch['playing']['id']\n",
    "    suggested = []\n",
    "    for s in watch['suggested']:\n",
    "        if s != None:\n",
    "            suggested.append(s['id'])\n",
    "    d['suggested'] = suggested\n",
    "    d['selected'] = watch['selected']\n",
    "    return d\n",
    "\n",
    "for user in watches:\n",
    "    watches_df[user] = []\n",
    "    for watch in watches[user]:\n",
    "        if watch['playing'] == None:\n",
    "            continue\n",
    "        watch = convert(watch)\n",
    "        watches_df[user].append(watch)"
   ]
  },
  {
   "cell_type": "code",
   "execution_count": 20,
   "metadata": {},
   "outputs": [],
   "source": [
    "history = dict()\n",
    "users = list(watches_df.keys())\n",
    "data = dict()\n",
    "\n",
    "for user in users:\n",
    "    if len(watches_df[user]) < 10:\n",
    "        continue\n",
    "    history[user] = watches_df[user][:10]\n",
    "\n",
    "    for watch in watches_df[user][10:]:\n",
    "        if watch['selected'] != None:\n",
    "            if user not in data:\n",
    "                data[user] = []\n",
    "            data[user].append(watch)\n",
    "\n",
    "for user in list(history.keys()):\n",
    "    if user not in data:\n",
    "        history.pop(user)"
   ]
  },
  {
   "cell_type": "code",
   "execution_count": 21,
   "metadata": {},
   "outputs": [],
   "source": [
    "for user in history:\n",
    "    history[user] = [s['playing'] for s in history[user]]\n",
    "    history[user] = [get_topic_vector(s) for s in history[user]]\n",
    "    history[user] = np.array(history[user]).mean(axis=0)"
   ]
  },
  {
   "cell_type": "code",
   "execution_count": 12,
   "metadata": {},
   "outputs": [],
   "source": [
    "from collections import Counter\n",
    "\n",
    "\n",
    "all_topics = []\n",
    "all_tags = []\n",
    "\n",
    "for video in videos:\n",
    "    video = videos[video]\n",
    "    \n",
    "    try:\n",
    "        topics = video['topicDetails']['topicCategories']\n",
    "        topics = [topic.split('/')[-1].lower() for topic in topics]\n",
    "    except:\n",
    "        topics = []\n",
    "\n",
    "    all_topics += topics\n",
    "    \n",
    "    try:\n",
    "        tags = video['snippet']['tags']\n",
    "        tags = [tag.lower() for tag in tags]\n",
    "    except:\n",
    "        tags = []\n",
    "\n",
    "    all_tags += tags\n",
    "\n",
    "all_topics = list(set(all_topics))\n",
    "\n",
    "atc = Counter(all_tags)\n",
    "atc = pd.DataFrame.from_dict(atc, 'index', columns=['count'])\n",
    "atc = atc.sort_values(['count'], ascending=False).head(5000)\n",
    "all_tags = list(atc.index)\n",
    "\n",
    "def get_one_hot_vector(topics, tags):\n",
    "    oh_topics = np.zeros(len(all_topics))\n",
    "    for topic in topics:\n",
    "        oh_topics[all_topics.index(topic)] = 1\n",
    "        \n",
    "    oh_tags = np.zeros(len(all_tags))\n",
    "    for tag in tags:\n",
    "        if tag in all_tags:\n",
    "            oh_tags[all_tags.index(tag)] = 1\n",
    "        \n",
    "    oh = np.concatenate([oh_topics , oh_tags])\n",
    "    \n",
    "    return oh\n",
    "\n",
    "\n",
    "def get_topic_vector(video):\n",
    "    video = videos[video]\n",
    "    try:\n",
    "        topics = video['topicDetails']['topicCategories']\n",
    "        topics = [topic.split('/')[-1].lower() for topic in topics]\n",
    "    except:\n",
    "        topics = []\n",
    "\n",
    "    try:\n",
    "        tags = video['snippet']['tags']\n",
    "        tags = [tag.lower() for tag in tags]\n",
    "    except:\n",
    "        tags = []\n",
    "\n",
    "    return get_embeddings(topics, tags)\n"
   ]
  },
  {
   "cell_type": "code",
   "execution_count": 22,
   "metadata": {},
   "outputs": [
    {
     "data": {
      "application/vnd.jupyter.widget-view+json": {
       "model_id": "750ab1640e6c4b71a015b6e837bee466",
       "version_major": 2,
       "version_minor": 0
      },
      "text/plain": [
       "  0%|          | 0/1266 [00:00<?, ?it/s]"
      ]
     },
     "metadata": {},
     "output_type": "display_data"
    }
   ],
   "source": [
    "SG, P, SX, H = [], [], [], []\n",
    "Y = []\n",
    "\n",
    "topic_vectors = dict()\n",
    "\n",
    "for user in tqdm(data):\n",
    "    user_history = history[user]\n",
    "    user_history = np.concatenate([user_history, [0]])\n",
    "    for watch in data[user]:\n",
    "        \n",
    "        playing = watch['playing']\n",
    "        selected = watch['selected']\n",
    "        upnext = watch['suggested'][:15]\n",
    "\n",
    "        if playing not in videos or selected not in videos or any([s not in videos for s in watch['suggested']]):\n",
    "            continue\n",
    "        if len(watch['suggested']) < 15:\n",
    "            continue\n",
    "\n",
    "\n",
    "        playing = get_topic_vector(watch['playing'])\n",
    "        playing = np.concatenate([playing, [0]])\n",
    "\n",
    "        suggesteds = []\n",
    "        \n",
    "        for i, s in enumerate(upnext):\n",
    "            if s not in topic_vectors:\n",
    "                topic_vectors[s] = get_topic_vector(s)\n",
    "            sv = topic_vectors[s]\n",
    "            sv = np.concatenate([sv, [i]])\n",
    "            suggesteds.append(sv)\n",
    "        \n",
    "        suggesteds = np.array(suggesteds)\n",
    "        suggesteds = np.mean(suggesteds, axis=0)\n",
    "\n",
    "        for i, s in enumerate(upnext):\n",
    "            selected = watch['selected']\n",
    "\n",
    "            if s == selected:\n",
    "                y = 1\n",
    "            else:\n",
    "                y = 0\n",
    "\n",
    "            sv = topic_vectors[s]\n",
    "\n",
    "            sv = np.concatenate([sv, [i]])\n",
    "            SG.append(suggesteds)\n",
    "            P.append(playing)\n",
    "            SX.append(sv)\n",
    "            H.append(user_history)\n",
    "            Y.append(y)"
   ]
  },
  {
   "cell_type": "code",
   "execution_count": 10,
   "metadata": {},
   "outputs": [],
   "source": [
    "# [SG, P, SX, H, Y] = pkl.load(open('temp-SG_P_SX_H_Y.pkl', 'rb'))\n"
   ]
  },
  {
   "cell_type": "code",
   "execution_count": 23,
   "metadata": {},
   "outputs": [],
   "source": [
    "SG = np.array(SG)\n",
    "P = np.array(P)\n",
    "SX = np.array(SX)\n",
    "H = np.array(H)\n",
    "Y = np.array(Y)"
   ]
  },
  {
   "cell_type": "code",
   "execution_count": 24,
   "metadata": {},
   "outputs": [],
   "source": [
    "from sklearn.model_selection import train_test_split\n",
    "\n",
    "SG_train, SG_test, P_train, P_test, SX_train, SX_test, H_train, H_test, Y_train, Y_test = train_test_split(SG, P, SX, H, Y, test_size=0.2, random_state=42)"
   ]
  },
  {
   "cell_type": "code",
   "execution_count": 25,
   "metadata": {},
   "outputs": [
    {
     "data": {
      "text/plain": [
       "{0: 0.5345587128726417, 1: 7.734065716547902}"
      ]
     },
     "execution_count": 25,
     "metadata": {},
     "output_type": "execute_result"
    }
   ],
   "source": [
    "pos = Y.sum()\n",
    "neg = len(Y) - pos\n",
    "total = neg + pos\n",
    "w0 = (1 / neg) * (total / 2.0)\n",
    "w1 = (1 / pos) * (total / 2.0)\n",
    "class_weights = {0:w0, 1:w1}\n",
    "class_weights"
   ]
  },
  {
   "cell_type": "code",
   "execution_count": 14,
   "metadata": {},
   "outputs": [],
   "source": [
    "# pkl.dump([SG, P, SX, H, Y], open('temp-SG_P_SX_H_Y.pkl', 'wb'))"
   ]
  },
  {
   "cell_type": "code",
   "execution_count": 26,
   "metadata": {},
   "outputs": [],
   "source": [
    "from tensorflow import keras\n",
    "from keras import Model\n",
    "from keras.models import Sequential\n",
    "from keras.metrics import AUC, BinaryAccuracy\n",
    "from keras.layers import Dense, Dropout, Flatten, Concatenate, Input\n",
    "from tensorflow.keras.optimizers import SGD"
   ]
  },
  {
   "cell_type": "code",
   "execution_count": 28,
   "metadata": {},
   "outputs": [
    {
     "data": {
      "text/plain": [
       "(234435, 601)"
      ]
     },
     "execution_count": 28,
     "metadata": {},
     "output_type": "execute_result"
    }
   ],
   "source": [
    "SX.shape"
   ]
  },
  {
   "cell_type": "code",
   "execution_count": 30,
   "metadata": {},
   "outputs": [
    {
     "data": {
      "text/plain": [
       "(234435, 601)"
      ]
     },
     "execution_count": 30,
     "metadata": {},
     "output_type": "execute_result"
    }
   ],
   "source": [
    "P.shape"
   ]
  },
  {
   "cell_type": "code",
   "execution_count": 34,
   "metadata": {},
   "outputs": [],
   "source": [
    "DP = 0.2\n",
    "\n",
    "suggested_tensor = Input(shape=[601])\n",
    "playing_tensor = Input(shape=[601])\n",
    "selected_tensor = Input(shape=[601])\n",
    "history_tensor = Input(shape=[601])\n",
    "\n",
    "\n",
    "sg_dense = Dense(256, activation='relu')(suggested_tensor)\n",
    "sg_dense = Dropout(DP)(sg_dense)\n",
    "sg_dense = Dense(128, activation='relu')(sg_dense)\n",
    "sg_dense = Dropout(DP)(sg_dense)\n",
    "sg_dense = Dense(64, activation='relu')(sg_dense)\n",
    "sg_dense = Dropout(DP)(sg_dense)\n",
    "sg = Flatten()(sg_dense)\n",
    "\n",
    "pl_dense = Dense(256, activation='relu')(playing_tensor)\n",
    "pl_dense = Dropout(DP)(pl_dense)\n",
    "pl_dense = Dense(128, activation='relu')(pl_dense)\n",
    "pl_dense = Dropout(DP)(pl_dense)\n",
    "pl_dense = Dense(64, activation='relu')(pl_dense)\n",
    "pl_dense = Dropout(DP)(pl_dense)\n",
    "pl = Flatten()(pl_dense)\n",
    "\n",
    "sl_dense = Dense(256, activation='relu')(selected_tensor)\n",
    "sl_dense = Dropout(DP)(sl_dense)\n",
    "sl_dense = Dense(128, activation='relu')(sl_dense)\n",
    "sl_dense = Dropout(DP)(sl_dense)\n",
    "sl_dense = Dense(64, activation='relu')(sl_dense)\n",
    "sl_dense = Dropout(DP)(sl_dense)\n",
    "sl = Flatten()(sl_dense)\n",
    "\n",
    "hl_dense = Dense(256, activation='relu')(history_tensor)\n",
    "hl_dense = Dropout(DP)(hl_dense)\n",
    "hl_dense = Dense(128, activation='relu')(hl_dense)\n",
    "hl_dense = Dropout(DP)(hl_dense)\n",
    "hl_dense = Dense(64, activation='relu')(hl_dense)\n",
    "hl_dense = Dropout(DP)(hl_dense)\n",
    "hl = Flatten()(hl_dense)\n",
    "\n",
    "merged = Concatenate()([sg, pl, sl, hl])\n",
    "# x = Dense(1025, activation='relu')(merged)\n",
    "# x = Dropout(DP)(x)\n",
    "x = Dense(256, activation='relu')(merged)\n",
    "x = Dropout(DP)(x)\n",
    "x = Dense(64, activation='relu')(merged)\n",
    "\n",
    "final = Dense(1, activation='sigmoid')(x)\n",
    "\n",
    "\n",
    "METRICS = [BinaryAccuracy(name='accuracy'),\n",
    "           AUC(name='auc'),       \n",
    "           keras.metrics.AUC(name='prc', curve='PR')]\n",
    "\n",
    "model = Model(inputs=[suggested_tensor, playing_tensor, selected_tensor, history_tensor], outputs=final)\n",
    "model.compile(optimizer='adam', loss='binary_crossentropy', metrics=['accuracy', 'AUC'])"
   ]
  },
  {
   "cell_type": "code",
   "execution_count": 35,
   "metadata": {},
   "outputs": [
    {
     "name": "stdout",
     "output_type": "stream",
     "text": [
      "Model: \"model_1\"\n",
      "__________________________________________________________________________________________________\n",
      " Layer (type)                Output Shape                 Param #   Connected to                  \n",
      "==================================================================================================\n",
      " input_5 (InputLayer)        [(None, 601)]                0         []                            \n",
      "                                                                                                  \n",
      " input_6 (InputLayer)        [(None, 601)]                0         []                            \n",
      "                                                                                                  \n",
      " input_7 (InputLayer)        [(None, 601)]                0         []                            \n",
      "                                                                                                  \n",
      " input_8 (InputLayer)        [(None, 601)]                0         []                            \n",
      "                                                                                                  \n",
      " dense_10 (Dense)            (None, 256)                  154112    ['input_5[0][0]']             \n",
      "                                                                                                  \n",
      " dense_13 (Dense)            (None, 256)                  154112    ['input_6[0][0]']             \n",
      "                                                                                                  \n",
      " dense_16 (Dense)            (None, 256)                  154112    ['input_7[0][0]']             \n",
      "                                                                                                  \n",
      " dense_19 (Dense)            (None, 256)                  154112    ['input_8[0][0]']             \n",
      "                                                                                                  \n",
      " dropout_8 (Dropout)         (None, 256)                  0         ['dense_10[0][0]']            \n",
      "                                                                                                  \n",
      " dropout_11 (Dropout)        (None, 256)                  0         ['dense_13[0][0]']            \n",
      "                                                                                                  \n",
      " dropout_14 (Dropout)        (None, 256)                  0         ['dense_16[0][0]']            \n",
      "                                                                                                  \n",
      " dropout_17 (Dropout)        (None, 256)                  0         ['dense_19[0][0]']            \n",
      "                                                                                                  \n",
      " dense_11 (Dense)            (None, 128)                  32896     ['dropout_8[0][0]']           \n",
      "                                                                                                  \n",
      " dense_14 (Dense)            (None, 128)                  32896     ['dropout_11[0][0]']          \n",
      "                                                                                                  \n",
      " dense_17 (Dense)            (None, 128)                  32896     ['dropout_14[0][0]']          \n",
      "                                                                                                  \n",
      " dense_20 (Dense)            (None, 128)                  32896     ['dropout_17[0][0]']          \n",
      "                                                                                                  \n",
      " dropout_9 (Dropout)         (None, 128)                  0         ['dense_11[0][0]']            \n",
      "                                                                                                  \n",
      " dropout_12 (Dropout)        (None, 128)                  0         ['dense_14[0][0]']            \n",
      "                                                                                                  \n",
      " dropout_15 (Dropout)        (None, 128)                  0         ['dense_17[0][0]']            \n",
      "                                                                                                  \n",
      " dropout_18 (Dropout)        (None, 128)                  0         ['dense_20[0][0]']            \n",
      "                                                                                                  \n",
      " dense_12 (Dense)            (None, 64)                   8256      ['dropout_9[0][0]']           \n",
      "                                                                                                  \n",
      " dense_15 (Dense)            (None, 64)                   8256      ['dropout_12[0][0]']          \n",
      "                                                                                                  \n",
      " dense_18 (Dense)            (None, 64)                   8256      ['dropout_15[0][0]']          \n",
      "                                                                                                  \n",
      " dense_21 (Dense)            (None, 64)                   8256      ['dropout_18[0][0]']          \n",
      "                                                                                                  \n",
      " dropout_10 (Dropout)        (None, 64)                   0         ['dense_12[0][0]']            \n",
      "                                                                                                  \n",
      " dropout_13 (Dropout)        (None, 64)                   0         ['dense_15[0][0]']            \n",
      "                                                                                                  \n",
      " dropout_16 (Dropout)        (None, 64)                   0         ['dense_18[0][0]']            \n",
      "                                                                                                  \n",
      " dropout_19 (Dropout)        (None, 64)                   0         ['dense_21[0][0]']            \n",
      "                                                                                                  \n",
      " flatten_4 (Flatten)         (None, 64)                   0         ['dropout_10[0][0]']          \n",
      "                                                                                                  \n",
      " flatten_5 (Flatten)         (None, 64)                   0         ['dropout_13[0][0]']          \n",
      "                                                                                                  \n",
      " flatten_6 (Flatten)         (None, 64)                   0         ['dropout_16[0][0]']          \n",
      "                                                                                                  \n",
      " flatten_7 (Flatten)         (None, 64)                   0         ['dropout_19[0][0]']          \n",
      "                                                                                                  \n",
      " concatenate_1 (Concatenate  (None, 256)                  0         ['flatten_4[0][0]',           \n",
      " )                                                                   'flatten_5[0][0]',           \n",
      "                                                                     'flatten_6[0][0]',           \n",
      "                                                                     'flatten_7[0][0]']           \n",
      "                                                                                                  \n",
      " dense_23 (Dense)            (None, 64)                   16448     ['concatenate_1[0][0]']       \n",
      "                                                                                                  \n",
      " dense_24 (Dense)            (None, 1)                    65        ['dense_23[0][0]']            \n",
      "                                                                                                  \n",
      "==================================================================================================\n",
      "Total params: 797569 (3.04 MB)\n",
      "Trainable params: 797569 (3.04 MB)\n",
      "Non-trainable params: 0 (0.00 Byte)\n",
      "__________________________________________________________________________________________________\n"
     ]
    }
   ],
   "source": [
    "model.summary()"
   ]
  },
  {
   "cell_type": "code",
   "execution_count": 36,
   "metadata": {},
   "outputs": [
    {
     "name": "stdout",
     "output_type": "stream",
     "text": [
      "Epoch 1/30\n",
      "2345/2345 [==============================] - 23s 8ms/step - loss: 0.5820 - accuracy: 0.7584 - auc: 0.7606 - val_loss: 0.5546 - val_accuracy: 0.7541 - val_auc: 0.7625\n",
      "Epoch 2/30\n",
      "2345/2345 [==============================] - 19s 8ms/step - loss: 0.5756 - accuracy: 0.7528 - auc: 0.7655 - val_loss: 0.5248 - val_accuracy: 0.7971 - val_auc: 0.7632\n",
      "Epoch 3/30\n",
      "2345/2345 [==============================] - 19s 8ms/step - loss: 0.5738 - accuracy: 0.7610 - auc: 0.7679 - val_loss: 0.5842 - val_accuracy: 0.7584 - val_auc: 0.7622\n",
      "Epoch 4/30\n",
      "2345/2345 [==============================] - 19s 8ms/step - loss: 0.5718 - accuracy: 0.7600 - auc: 0.7695 - val_loss: 0.6027 - val_accuracy: 0.7527 - val_auc: 0.7603\n",
      "Epoch 5/30\n",
      "2345/2345 [==============================] - 19s 8ms/step - loss: 0.5706 - accuracy: 0.7589 - auc: 0.7709 - val_loss: 0.5748 - val_accuracy: 0.7051 - val_auc: 0.7627\n",
      "Epoch 6/30\n",
      "2345/2345 [==============================] - 17s 7ms/step - loss: 0.5684 - accuracy: 0.7510 - auc: 0.7733 - val_loss: 0.6284 - val_accuracy: 0.7171 - val_auc: 0.7619\n",
      "Epoch 7/30\n",
      "2345/2345 [==============================] - 17s 7ms/step - loss: 0.5655 - accuracy: 0.7582 - auc: 0.7764 - val_loss: 0.5632 - val_accuracy: 0.7619 - val_auc: 0.7625\n",
      "Epoch 8/30\n",
      "2345/2345 [==============================] - 18s 8ms/step - loss: 0.5637 - accuracy: 0.7585 - auc: 0.7782 - val_loss: 0.4513 - val_accuracy: 0.7998 - val_auc: 0.7590\n",
      "Epoch 9/30\n",
      "2345/2345 [==============================] - 17s 7ms/step - loss: 0.5611 - accuracy: 0.7592 - auc: 0.7803 - val_loss: 0.6041 - val_accuracy: 0.7538 - val_auc: 0.7557\n",
      "Epoch 10/30\n",
      "2345/2345 [==============================] - 18s 8ms/step - loss: 0.5586 - accuracy: 0.7602 - auc: 0.7830 - val_loss: 0.5853 - val_accuracy: 0.7303 - val_auc: 0.7554\n",
      "Epoch 11/30\n",
      "2345/2345 [==============================] - 31s 13ms/step - loss: 0.5558 - accuracy: 0.7623 - auc: 0.7855 - val_loss: 0.5552 - val_accuracy: 0.7640 - val_auc: 0.7549\n",
      "Epoch 12/30\n",
      "2345/2345 [==============================] - 20s 8ms/step - loss: 0.5518 - accuracy: 0.7623 - auc: 0.7896 - val_loss: 0.6126 - val_accuracy: 0.6967 - val_auc: 0.7519\n",
      "Epoch 13/30\n",
      "2345/2345 [==============================] - 21s 9ms/step - loss: 0.5503 - accuracy: 0.7549 - auc: 0.7914 - val_loss: 0.6066 - val_accuracy: 0.7396 - val_auc: 0.7480\n",
      "Epoch 14/30\n",
      "2345/2345 [==============================] - 19s 8ms/step - loss: 0.5476 - accuracy: 0.7569 - auc: 0.7937 - val_loss: 0.5760 - val_accuracy: 0.7384 - val_auc: 0.7521\n",
      "Epoch 15/30\n",
      "2345/2345 [==============================] - 21s 9ms/step - loss: 0.5452 - accuracy: 0.7572 - auc: 0.7961 - val_loss: 0.5100 - val_accuracy: 0.7880 - val_auc: 0.7475\n",
      "Epoch 16/30\n",
      "2345/2345 [==============================] - 21s 9ms/step - loss: 0.5427 - accuracy: 0.7530 - auc: 0.7980 - val_loss: 0.5534 - val_accuracy: 0.7464 - val_auc: 0.7462\n",
      "Epoch 17/30\n",
      "2345/2345 [==============================] - 22s 9ms/step - loss: 0.5400 - accuracy: 0.7504 - auc: 0.8001 - val_loss: 0.5973 - val_accuracy: 0.7032 - val_auc: 0.7422\n",
      "Epoch 18/30\n",
      "2345/2345 [==============================] - 19s 8ms/step - loss: 0.5378 - accuracy: 0.7500 - auc: 0.8027 - val_loss: 0.5511 - val_accuracy: 0.7260 - val_auc: 0.7428\n",
      "Epoch 19/30\n",
      "2345/2345 [==============================] - 19s 8ms/step - loss: 0.5340 - accuracy: 0.7514 - auc: 0.8057 - val_loss: 0.5108 - val_accuracy: 0.7634 - val_auc: 0.7407\n",
      "Epoch 20/30\n",
      "2345/2345 [==============================] - 20s 8ms/step - loss: 0.5321 - accuracy: 0.7428 - auc: 0.8078 - val_loss: 0.5539 - val_accuracy: 0.7434 - val_auc: 0.7385\n",
      "Epoch 21/30\n",
      "2345/2345 [==============================] - 17s 7ms/step - loss: 0.5296 - accuracy: 0.7323 - auc: 0.8091 - val_loss: 0.5597 - val_accuracy: 0.7185 - val_auc: 0.7314\n",
      "Epoch 22/30\n",
      "2345/2345 [==============================] - 19s 8ms/step - loss: 0.5271 - accuracy: 0.7428 - auc: 0.8113 - val_loss: 0.4851 - val_accuracy: 0.7856 - val_auc: 0.7377\n",
      "Epoch 23/30\n",
      "2345/2345 [==============================] - 19s 8ms/step - loss: 0.5246 - accuracy: 0.7511 - auc: 0.8138 - val_loss: 0.5493 - val_accuracy: 0.7290 - val_auc: 0.7384\n",
      "Epoch 24/30\n",
      "2345/2345 [==============================] - 20s 8ms/step - loss: 0.5214 - accuracy: 0.7324 - auc: 0.8158 - val_loss: 0.5041 - val_accuracy: 0.7516 - val_auc: 0.7373\n",
      "Epoch 25/30\n",
      "2345/2345 [==============================] - 19s 8ms/step - loss: 0.5200 - accuracy: 0.7357 - auc: 0.8173 - val_loss: 0.5173 - val_accuracy: 0.7730 - val_auc: 0.7250\n",
      "Epoch 26/30\n",
      "2345/2345 [==============================] - 20s 8ms/step - loss: 0.5191 - accuracy: 0.7335 - auc: 0.8178 - val_loss: 0.5272 - val_accuracy: 0.7287 - val_auc: 0.7270\n",
      "Epoch 27/30\n",
      "2345/2345 [==============================] - 19s 8ms/step - loss: 0.5168 - accuracy: 0.7307 - auc: 0.8208 - val_loss: 0.5276 - val_accuracy: 0.7429 - val_auc: 0.7254\n",
      "Epoch 28/30\n",
      "2345/2345 [==============================] - 18s 7ms/step - loss: 0.5122 - accuracy: 0.7308 - auc: 0.8231 - val_loss: 0.5685 - val_accuracy: 0.7050 - val_auc: 0.7231\n",
      "Epoch 29/30\n",
      "2345/2345 [==============================] - 19s 8ms/step - loss: 0.5105 - accuracy: 0.7429 - auc: 0.8258 - val_loss: 0.5692 - val_accuracy: 0.7172 - val_auc: 0.7211\n",
      "Epoch 30/30\n",
      "2345/2345 [==============================] - 18s 8ms/step - loss: 0.5098 - accuracy: 0.7370 - auc: 0.8257 - val_loss: 0.5451 - val_accuracy: 0.7287 - val_auc: 0.7279\n"
     ]
    },
    {
     "data": {
      "text/plain": [
       "<keras.src.callbacks.History at 0x7faf3c7b5d90>"
      ]
     },
     "execution_count": 36,
     "metadata": {},
     "output_type": "execute_result"
    }
   ],
   "source": [
    "model.fit([SG_train, P_train, SX_train, H_train], Y_train,\n",
    "            epochs=30,\n",
    "            batch_size=32,\n",
    "            validation_split=0.2, \n",
    "            class_weight=class_weights)"
   ]
  },
  {
   "cell_type": "code",
   "execution_count": 37,
   "metadata": {},
   "outputs": [
    {
     "name": "stdout",
     "output_type": "stream",
     "text": [
      "1466/1466 [==============================] - 2s 961us/step\n",
      "              precision    recall  f1-score   support\n",
      "\n",
      "           0       0.97      0.74      0.84     43834\n",
      "           1       0.14      0.62      0.23      3053\n",
      "\n",
      "    accuracy                           0.73     46887\n",
      "   macro avg       0.55      0.68      0.53     46887\n",
      "weighted avg       0.91      0.73      0.80     46887\n",
      "\n"
     ]
    }
   ],
   "source": [
    "#f1 score\n",
    "from sklearn.metrics import classification_report\n",
    "\n",
    "y_pred_keras = model.predict([SG_test, P_test, SX_test, H_test]).ravel()\n",
    "y_pred = np.round(y_pred_keras)\n",
    "print(classification_report(Y_test, y_pred))"
   ]
  },
  {
   "cell_type": "code",
   "execution_count": null,
   "metadata": {},
   "outputs": [],
   "source": [
    "y_pred_kes"
   ]
  },
  {
   "cell_type": "code",
   "execution_count": 38,
   "metadata": {},
   "outputs": [
    {
     "data": {
      "image/png": "[encoded data removed]",
      "text/plain": [
       "<Figure size 1000x1000 with 1 Axes>"
      ]
     },
     "metadata": {},
     "output_type": "display_data"
    }
   ],
   "source": [
    "from sklearn.metrics import roc_curve, auc\n",
    "import matplotlib.pyplot as plt\n",
    "\n",
    "# y_pred_keras = model.predict([SG_test, P_test, SX_test, H_test]).ravel()\n",
    "fpr_keras, tpr_keras, thresholds_keras = roc_curve(Y_test, y_pred_keras)\n",
    "auc_keras = auc(fpr_keras, tpr_keras)\n",
    "\n",
    "plt.figure(figsize=(10,10))\n",
    "plt.plot(fpr_keras, tpr_keras, label='(AUC = {:.3f})'.format(auc_keras))\n",
    "plt.xlabel('False positive rate')\n",
    "plt.ylabel('True positive rate')\n",
    "plt.title('ROC curve')\n",
    "plt.legend(loc='best')\n",
    "plt.show()\n"
   ]
  },
  {
   "cell_type": "code",
   "execution_count": null,
   "metadata": {},
   "outputs": [],
   "source": []
  }
 ],
 "metadata": {
  "kernelspec": {
   "display_name": "ytbase",
   "language": "python",
   "name": "python3"
  },
  "language_info": {
   "codemirror_mode": {
    "name": "ipython",
    "version": 3
   },
   "file_extension": ".py",
   "mimetype": "text/x-python",
   "name": "python",
   "nbconvert_exporter": "python",
   "pygments_lexer": "ipython3",
   "version": "3.9.17"
  }
 },
 "nbformat": 4,
 "nbformat_minor": 4
}
