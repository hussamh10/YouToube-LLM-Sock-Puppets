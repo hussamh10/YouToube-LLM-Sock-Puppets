{
 "cells": [
  {
   "cell_type": "code",
   "execution_count": 1,
   "metadata": {},
   "outputs": [
    {
     "name": "stderr",
     "output_type": "stream",
     "text": [
      "2023-09-05 16:04:41.672737: I tensorflow/core/platform/cpu_feature_guard.cc:193] This TensorFlow binary is optimized with oneAPI Deep Neural Network Library (oneDNN) to use the following CPU instructions in performance-critical operations:  AVX2 FMA\n",
      "To enable them in other operations, rebuild TensorFlow with the appropriate compiler flags.\n",
      "2023-09-05 16:04:42.400499: W tensorflow/compiler/xla/stream_executor/platform/default/dso_loader.cc:64] Could not load dynamic library 'libnvinfer.so.7'; dlerror: libnvinfer.so.7: cannot open shared object file: No such file or directory; LD_LIBRARY_PATH: /home/hsmhabib/.conda/envs/ytbase/lib/:/home/hsmhabib/.conda/envs/ytbase/lib/python3.9/site-packages/nvidia/cudnn/lib:\n",
      "2023-09-05 16:04:42.400588: W tensorflow/compiler/xla/stream_executor/platform/default/dso_loader.cc:64] Could not load dynamic library 'libnvinfer_plugin.so.7'; dlerror: libnvinfer_plugin.so.7: cannot open shared object file: No such file or directory; LD_LIBRARY_PATH: /home/hsmhabib/.conda/envs/ytbase/lib/:/home/hsmhabib/.conda/envs/ytbase/lib/python3.9/site-packages/nvidia/cudnn/lib:\n",
      "2023-09-05 16:04:42.400593: W tensorflow/compiler/tf2tensorrt/utils/py_utils.cc:38] TF-TRT Warning: Cannot dlopen some TensorRT libraries. If you would like to use Nvidia GPU with TensorRT, please make sure the missing libraries mentioned above are installed properly.\n"
     ]
    }
   ],
   "source": [
    "import pandas as pd\n",
    "import numpy as np\n",
    "import pickle as pkl\n",
    "import tensorflow as tf\n",
    "\n",
    "import sys\n",
    "sys.path.append('../')\n",
    "from utils import *"
   ]
  },
  {
   "cell_type": "code",
   "execution_count": 2,
   "metadata": {},
   "outputs": [],
   "source": [
    "# sessions = pd.read_pickle('../../data/new_age/sessions')\n",
    "# history = pd.read_pickle('../../data/new_age/history')\n",
    "# videos = pd.read_pickle('../../data/new_age/video_data')\n",
    "# embeddings = pd.read_pickle('../../src/metadata & embeddings/embeddings-temp')"
   ]
  },
  {
   "cell_type": "code",
   "execution_count": 3,
   "metadata": {},
   "outputs": [],
   "source": [
    "from random import shuffle\n",
    "\n",
    "def trim(vec, element, length=15):\n",
    "    #  a vector to length and keep the element\n",
    "    if len(vec) > length:\n",
    "        vec = vec[:length]\n",
    "    if element not in vec:\n",
    "        vec = vec[:-1] + [element]\n",
    "\n",
    "    return vec"
   ]
  },
  {
   "cell_type": "code",
   "execution_count": 4,
   "metadata": {},
   "outputs": [],
   "source": [
    "def get_history(u):\n",
    "    h = history[u]\n",
    "    title = h['title']\n",
    "    tags = h['tags']\n",
    "    topics = h['topics']\n",
    "\n",
    "    tags = np.pad(tags, (0, len(title) - len(tags)), 'constant', constant_values=0)\n",
    "    topics = np.pad(topics, (0, len(title) - len(topics)), 'constant', constant_values=0)\n",
    "\n",
    "    return np.vstack([title, tags, topics])\n",
    "\n",
    "def get_emb(video):\n",
    "    if video not in embeddings:\n",
    "        return np.zeros(384)\n",
    "    else:\n",
    "        e = embeddings[video]\n",
    "    if len(e) == 768:\n",
    "        e = e[:384]\n",
    "    return e\n",
    "\n",
    "def get_video(v):\n",
    "    title = videos[v]['title']\n",
    "    tags = videos[v]['bigger_tags'].flatten()\n",
    "    topics = videos[v]['topics']\n",
    "    transcript = get_emb(v)\n",
    "\n",
    "    # pad tags to make it the same length as title\n",
    "    tags = np.pad(tags, (0, len(title) - len(tags)), 'constant', constant_values=0)\n",
    "    topics = np.pad(topics, (0, len(title) - len(topics)), 'constant', constant_values=0)\n",
    "    transcript = np.pad(transcript, (0, len(title) - len(transcript)), 'constant', constant_values=0)\n",
    "\n",
    "    # return np.vstack([title, tags, topics])\n",
    "    return np.vstack([title, tags, topics, transcript])"
   ]
  },
  {
   "cell_type": "code",
   "execution_count": 5,
   "metadata": {},
   "outputs": [],
   "source": [
    "# from sklearn.model_selection import train_test_split\n",
    "# training, testing = train_test_split(sessions, test_size=0.2)"
   ]
  },
  {
   "cell_type": "code",
   "execution_count": 6,
   "metadata": {},
   "outputs": [],
   "source": [
    "def get_data(data):\n",
    "    anchor = []\n",
    "    positive = []\n",
    "    negatives = []\n",
    "\n",
    "    for i in range(14):\n",
    "        negatives.append([])\n",
    "\n",
    "    for session in data:\n",
    "        playing = session['playing']\n",
    "        selected = session['selected']\n",
    "        suggesteds = session['suggesteds']\n",
    "        user = session['user']\n",
    "        smean = []\n",
    "\n",
    "        suggesteds = trim(suggesteds, selected)\n",
    "        \n",
    "        if playing not in videos or selected not in videos or any([s not in videos for s in suggesteds]):\n",
    "            continue\n",
    "\n",
    "        h = get_history(user)\n",
    "\n",
    "\n",
    "        for i, s in enumerate(suggesteds):\n",
    "            s = get_video(s)\n",
    "            smean.append(s)\n",
    "        \n",
    "        smean = np.mean(smean, axis=0)\n",
    "\n",
    "\n",
    "        P = get_video(playing)\n",
    "        P = np.vstack([P, h, smean])\n",
    "\n",
    "        S = []\n",
    "        for i, s in enumerate(suggesteds):\n",
    "            if s != selected:\n",
    "                s = get_video(s)\n",
    "                s = np.vstack([s, h, smean])\n",
    "                # s[-1][-1] = i\n",
    "                S.append(s)\n",
    "            else:\n",
    "                Y = get_video(selected)\n",
    "                # Y[-1][-1] = i\n",
    "                Y = np.vstack([Y, h, smean])\n",
    "\n",
    "        if len(S) < 14:\n",
    "            continue\n",
    "\n",
    "        anchor.append(P)\n",
    "        positive.append(Y)\n",
    "\n",
    "        for i in range(14):\n",
    "            negatives[i].append(S[i])\n",
    "        \n",
    "    return anchor, positive, negatives"
   ]
  },
  {
   "cell_type": "code",
   "execution_count": 7,
   "metadata": {},
   "outputs": [
    {
     "ename": "NameError",
     "evalue": "name 'training' is not defined",
     "output_type": "error",
     "traceback": [
      "\u001b[0;31m---------------------------------------------------------------------------\u001b[0m",
      "\u001b[0;31mNameError\u001b[0m                                 Traceback (most recent call last)",
      "Cell \u001b[0;32mIn[7], line 1\u001b[0m\n\u001b[0;32m----> 1\u001b[0m anchor, positive, negatives \u001b[39m=\u001b[39m get_data(training)\n\u001b[1;32m      2\u001b[0m anchor_test, positive_test, negatives_test \u001b[39m=\u001b[39m get_data(testing)\n",
      "\u001b[0;31mNameError\u001b[0m: name 'training' is not defined"
     ]
    }
   ],
   "source": [
    "# anchor, positive, negatives = get_data(training)\n",
    "# anchor_test, positive_test, negatives_test = get_data(testing)"
   ]
  },
  {
   "cell_type": "code",
   "execution_count": 12,
   "metadata": {},
   "outputs": [],
   "source": [
    "from tensorflow import keras\n",
    "from keras import Model, metrics, layers\n",
    "from keras.models import Sequential\n",
    "from keras.metrics import AUC, BinaryAccuracy\n",
    "from keras.layers import Dense, Dropout, Flatten, Concatenate, Input, BatchNormalization\n",
    "from tensorflow.keras.optimizers import SGD\n",
    "from tensorflow.keras import regularizers"
   ]
  },
  {
   "cell_type": "code",
   "execution_count": 18,
   "metadata": {},
   "outputs": [],
   "source": [
    "class DistanceLayer(layers.Layer):\n",
    "    def __init__(self, **kwargs):\n",
    "        super().__init__(**kwargs)\n",
    "\n",
    "    def call(self, anchor, positive, n1, n2, n3, n4, n5, n6, n7, n8, n9, n10, n11, n12, n13, n14):\n",
    "        ap_distance = tf.reduce_sum(tf.square(anchor - positive), -1)\n",
    "        an1 = tf.reduce_sum(tf.square(anchor - n1), -1)\n",
    "        an2 = tf.reduce_sum(tf.square(anchor - n2), -1)\n",
    "        an3 = tf.reduce_sum(tf.square(anchor - n3), -1)\n",
    "        an4 = tf.reduce_sum(tf.square(anchor - n4), -1)\n",
    "        an5 = tf.reduce_sum(tf.square(anchor - n5), -1)\n",
    "        an6 = tf.reduce_sum(tf.square(anchor - n6), -1)\n",
    "        an7 = tf.reduce_sum(tf.square(anchor - n7), -1)\n",
    "        an8 = tf.reduce_sum(tf.square(anchor - n8), -1)\n",
    "        an9 = tf.reduce_sum(tf.square(anchor - n9), -1)\n",
    "        an10 = tf.reduce_sum(tf.square(anchor - n10), -1)\n",
    "        an11 = tf.reduce_sum(tf.square(anchor - n11), -1)\n",
    "        an12 = tf.reduce_sum(tf.square(anchor - n12), -1)\n",
    "        an13 = tf.reduce_sum(tf.square(anchor - n13), -1)\n",
    "        an14 = tf.reduce_sum(tf.square(anchor - n14), -1)\n",
    "        return (ap_distance, an1, an2, an3, an4, an5, an6, an7, an8, an9, an10, an11, an12, an13, an14)\n",
    "\n",
    "DIM = (9, 1536)\n",
    "DP = 0.3\n",
    "\n",
    "suggested_tensor = Input(shape=DIM)\n",
    "playing_tensor = Input(shape=DIM)\n",
    "\n",
    "\n",
    "sg_dense = Dense(1024, activation='relu')(suggested_tensor)\n",
    "sg_dense = Dropout(DP)(sg_dense)\n",
    "sg_dense = Dense(512, activation='relu', kernel_regularizer=regularizers.l2(0.01))(sg_dense)\n",
    "sg = Flatten()(sg_dense)\n",
    "\n",
    "pl_dense = Dense(1024, activation='relu')(playing_tensor)\n",
    "pl_dense = Dropout(DP)(pl_dense)\n",
    "pl_dense = Dense(512, activation='relu', kernel_regularizer=regularizers.l2(0.01))(pl_dense)\n",
    "pl = Flatten()(pl_dense)\n",
    "\n",
    "merged = Concatenate()([sg, pl])\n",
    "\n",
    "d = Dense(1024, activation='relu')(merged)\n",
    "d = Dense(512, activation='relu')(d)\n",
    "d = Dropout(DP)(d)\n",
    "flatten = Flatten()(d)\n",
    "dense1 = Dense(1024, activation=\"relu\" )(flatten)\n",
    "dense1 = Dropout(DP)(dense1)\n",
    "dense1 = BatchNormalization()(dense1)\n",
    "output = Dense(512, activation=\"sigmoid\")(dense1)\n",
    "\n",
    "embedding = Model(inputs=[playing_tensor, suggested_tensor], outputs=output)"
   ]
  },
  {
   "cell_type": "code",
   "execution_count": 19,
   "metadata": {},
   "outputs": [],
   "source": [
    "class SiameseModel(Model):\n",
    "    def __init__(self, siamese_network, margin=0.5):\n",
    "        super().__init__()\n",
    "        self.siamese_network = siamese_network\n",
    "        self.margin = margin\n",
    "        self.loss_tracker = metrics.Mean(name=\"loss\")\n",
    "\n",
    "    def call(self, inputs):\n",
    "        return self.siamese_network(inputs)\n",
    "\n",
    "    def train_step(self, data):\n",
    "        # GradientTape is a context manager that records every operation that\n",
    "        # you do inside. We are using it here to compute the loss so we can get\n",
    "        # the gradients and apply them using the optimizer specified in\n",
    "        # `compile()`.\n",
    "        with tf.GradientTape() as tape:\n",
    "            loss = self._compute_loss(data)\n",
    "\n",
    "        # Storing the gradients of the loss function with respect to the\n",
    "        # weights/parameters.\n",
    "        gradients = tape.gradient(loss, self.siamese_network.trainable_weights)\n",
    "\n",
    "        # Applying the gradients on the model using the specified optimizer\n",
    "        self.optimizer.apply_gradients(\n",
    "            zip(gradients, self.siamese_network.trainable_weights)\n",
    "        )\n",
    "\n",
    "        # Let's update and return the training loss metric.\n",
    "        self.loss_tracker.update_state(loss)\n",
    "        return {\"loss\": self.loss_tracker.result()}\n",
    "\n",
    "    def test_step(self, data):\n",
    "        loss = self._compute_loss(data)\n",
    "\n",
    "        # Let's update and return the loss metric.\n",
    "        self.loss_tracker.update_state(loss)\n",
    "        return {\"loss\": self.loss_tracker.result()}\n",
    "\n",
    "    def _compute_loss(self, data):\n",
    "        ap_distance, an1, an2, an3, an4, an5, an6, an7, an8, an9, an10, an11, an12, an13, an14  = self.siamese_network(data)\n",
    "\n",
    "        # Computing the Triplet Loss by subtracting both distances and\n",
    "        # making sure we don't get a negative value.\n",
    "        # ap_distance += 0.1\n",
    "        ans = [an1, an2, an3, an4, an5, an6, an7, an8, an9, an10, an11, an12, an13, an14]\n",
    "        losses = [ap_distance - a for a in ans]\n",
    "        loss = tf.reduce_mean(losses)\n",
    "        # loss = tf.reduce_sum(tf.reduce_mean(losses, 0.0))\n",
    "        loss = tf.maximum(loss + self.margin, 0.0)\n",
    "        return loss\n",
    "\n",
    "    @property\n",
    "    def metrics(self):\n",
    "        # We need to list our metrics here so the `reset_states()` can be\n",
    "        # called automatically.\n",
    "        return [self.loss_tracker]"
   ]
  },
  {
   "cell_type": "code",
   "execution_count": 20,
   "metadata": {},
   "outputs": [],
   "source": [
    "anchor_input = Input(shape=DIM, name='anchor_p')\n",
    "selected_input = Input(shape=DIM, name='selected_p')\n",
    "n1_input = Input(shape=DIM, name='np1')\n",
    "n2_input = Input(shape=DIM, name='np2')\n",
    "n3_input = Input(shape=DIM, name='np3')\n",
    "n4_input = Input(shape=DIM, name='np4')\n",
    "n5_input = Input(shape=DIM, name='np5')\n",
    "n6_input = Input(shape=DIM, name='np6')\n",
    "n7_input = Input(shape=DIM, name='np7')\n",
    "n8_input = Input(shape=DIM, name='np8')\n",
    "n9_input = Input(shape=DIM, name='np9')\n",
    "n10_input = Input(shape=DIM, name='np10')\n",
    "n11_input = Input(shape=DIM, name='np11')\n",
    "n12_input = Input(shape=DIM, name='np12')\n",
    "n13_input = Input(shape=DIM, name='np13')\n",
    "n14_input = Input(shape=DIM, name='np14')\n",
    "\n",
    "distances = DistanceLayer()(\n",
    "    embedding([anchor_input, anchor_input]),\n",
    "    embedding([anchor_input, selected_input]),\n",
    "    embedding([anchor_input, n1_input]),\n",
    "    embedding([anchor_input, n2_input]),\n",
    "    embedding([anchor_input, n3_input]),\n",
    "    embedding([anchor_input, n4_input]),\n",
    "    embedding([anchor_input, n5_input]),\n",
    "    embedding([anchor_input, n6_input]),\n",
    "    embedding([anchor_input, n7_input]),\n",
    "    embedding([anchor_input, n8_input]),\n",
    "    embedding([anchor_input, n9_input]),\n",
    "    embedding([anchor_input, n10_input]),\n",
    "    embedding([anchor_input, n11_input]),\n",
    "    embedding([anchor_input, n12_input]),\n",
    "    embedding([anchor_input, n13_input]),\n",
    "    embedding([anchor_input, n14_input]),\n",
    ")\n",
    "\n",
    "siamese_network = Model(\n",
    "    inputs = [anchor_input, selected_input, n1_input, n2_input, n3_input, n4_input, n5_input, n6_input, n7_input, n8_input, n9_input, n10_input, n11_input, n12_input, n13_input, n14_input],\n",
    "    outputs=distances\n",
    ")\n",
    "\n",
    "siamese_model = SiameseModel(siamese_network)\n",
    "# siamese_model.compile()\n",
    "siamese_model.compile(optimizer='sgd')"
   ]
  },
  {
   "cell_type": "code",
   "execution_count": 10,
   "metadata": {},
   "outputs": [
    {
     "ename": "NameError",
     "evalue": "name 'anchor' is not defined",
     "output_type": "error",
     "traceback": [
      "\u001b[0;31m---------------------------------------------------------------------------\u001b[0m",
      "\u001b[0;31mNameError\u001b[0m                                 Traceback (most recent call last)",
      "Cell \u001b[0;32mIn[10], line 1\u001b[0m\n\u001b[0;32m----> 1\u001b[0m anchornp \u001b[39m=\u001b[39m np\u001b[39m.\u001b[39marray(anchor)\n\u001b[1;32m      2\u001b[0m positivenp \u001b[39m=\u001b[39m np\u001b[39m.\u001b[39marray(positive)\n\u001b[1;32m      3\u001b[0m negativesnp \u001b[39m=\u001b[39m [np\u001b[39m.\u001b[39marray(n) \u001b[39mfor\u001b[39;00m n \u001b[39min\u001b[39;00m negatives]\n",
      "\u001b[0;31mNameError\u001b[0m: name 'anchor' is not defined"
     ]
    }
   ],
   "source": [
    "anchornp = np.array(anchor)\n",
    "positivenp = np.array(positive)\n",
    "negativesnp = [np.array(n) for n in negatives]\n",
    "\n",
    "anchornp_test = np.array(anchor_test)\n",
    "positivenp_test = np.array(positive_test)\n",
    "negativesnp_test = [np.array(n) for n in negatives_test]"
   ]
  },
  {
   "cell_type": "code",
   "execution_count": 24,
   "metadata": {},
   "outputs": [],
   "source": [
    "# TRAIN = [anchornp, positivenp, negativesnp]\n",
    "# pkl.dump(TRAIN, open('test-temp.pkl', 'wb'))"
   ]
  },
  {
   "cell_type": "code",
   "execution_count": 16,
   "metadata": {},
   "outputs": [],
   "source": [
    "# TRAIN, open('test-temp.pkl', 'wb'))\n",
    "[anchornp, positivenp, negativesnp] = pd.read_pickle('test-temp.pkl')"
   ]
  },
  {
   "cell_type": "code",
   "execution_count": 21,
   "metadata": {},
   "outputs": [
    {
     "name": "stdout",
     "output_type": "stream",
     "text": [
      "Epoch 1/120\n",
      "916/916 [==============================] - 140s 149ms/step - loss: 0.6000 - val_loss: 0.5999\n",
      "Epoch 2/120\n",
      "916/916 [==============================] - 28s 30ms/step - loss: 0.6000 - val_loss: 0.5999\n",
      "Epoch 3/120\n",
      "916/916 [==============================] - 27s 29ms/step - loss: 0.6000 - val_loss: 0.5999\n",
      "Epoch 4/120\n",
      "916/916 [==============================] - 27s 30ms/step - loss: 0.6000 - val_loss: 0.5999\n",
      "Epoch 5/120\n",
      "916/916 [==============================] - 27s 30ms/step - loss: 0.5999 - val_loss: 0.5999\n",
      "Epoch 6/120\n",
      "916/916 [==============================] - 27s 30ms/step - loss: 0.5999 - val_loss: 0.5999\n",
      "Epoch 7/120\n",
      "916/916 [==============================] - 28s 30ms/step - loss: 0.5999 - val_loss: 0.5999\n",
      "Epoch 8/120\n",
      "916/916 [==============================] - 27s 29ms/step - loss: 0.5999 - val_loss: 0.5999\n",
      "Epoch 9/120\n",
      "916/916 [==============================] - 27s 30ms/step - loss: 0.5999 - val_loss: 0.5999\n",
      "Epoch 10/120\n",
      "916/916 [==============================] - 27s 30ms/step - loss: 0.5999 - val_loss: 0.5999\n",
      "Epoch 11/120\n",
      "916/916 [==============================] - 28s 31ms/step - loss: 0.5999 - val_loss: 0.5999\n",
      "Epoch 12/120\n",
      "916/916 [==============================] - 28s 30ms/step - loss: 0.5999 - val_loss: 0.5999\n",
      "Epoch 13/120\n",
      "916/916 [==============================] - 28s 31ms/step - loss: 0.5999 - val_loss: 0.5999\n",
      "Epoch 14/120\n",
      "916/916 [==============================] - 27s 30ms/step - loss: 0.5999 - val_loss: 0.5999\n",
      "Epoch 15/120\n",
      "916/916 [==============================] - 28s 30ms/step - loss: 0.5999 - val_loss: 0.5999\n",
      "Epoch 16/120\n",
      "916/916 [==============================] - 28s 30ms/step - loss: 0.5999 - val_loss: 0.5999\n",
      "Epoch 17/120\n",
      "916/916 [==============================] - 28s 30ms/step - loss: 0.5999 - val_loss: 0.5999\n",
      "Epoch 18/120\n",
      "916/916 [==============================] - 27s 30ms/step - loss: 0.5999 - val_loss: 0.5999\n",
      "Epoch 19/120\n",
      "916/916 [==============================] - 27s 29ms/step - loss: 0.5999 - val_loss: 0.5999\n",
      "Epoch 20/120\n",
      "916/916 [==============================] - 27s 30ms/step - loss: 0.5999 - val_loss: 0.5999\n",
      "Epoch 21/120\n",
      "916/916 [==============================] - ETA: 0s - loss: 0.5999"
     ]
    }
   ],
   "source": [
    "siamese_model.fit([anchornp, positivenp] + negativesnp, batch_size=8, epochs=120, validation_split=0.5)"
   ]
  },
  {
   "cell_type": "code",
   "execution_count": null,
   "metadata": {},
   "outputs": [],
   "source": []
  },
  {
   "cell_type": "code",
   "execution_count": null,
   "metadata": {},
   "outputs": [],
   "source": [
    "# siamese_model.evaluate([anchornp_test, positivenp_test] + negativesnp_test)"
   ]
  },
  {
   "cell_type": "code",
   "execution_count": 23,
   "metadata": {},
   "outputs": [],
   "source": [
    "a = embedding([anchornp_test, anchornp_test])\n",
    "p = embedding([anchornp_test, positivenp_test])\n",
    "ns = []\n",
    "\n",
    "for i in range(14):\n",
    "    ns.append(embedding([anchornp_test, negativesnp_test[i]]))"
   ]
  },
  {
   "cell_type": "code",
   "execution_count": 24,
   "metadata": {},
   "outputs": [],
   "source": [
    "from sklearn.metrics.pairwise import cosine_similarity\n",
    "\n",
    "tp = 0\n",
    "tn = 0\n",
    "total = 0\n",
    "ranks = []\n",
    "\n",
    "lens = len(anchornp_test)\n",
    "\n",
    "for i in range(lens):\n",
    "    at = np.array(a[i])\n",
    "    pt = np.array(p[i])\n",
    "    nst = [np.array(ns[j][i]) for j in range(14)]\n",
    "\n",
    "    pv = cosine_similarity(at.reshape(1, -1), pt.reshape(1, -1)).flatten()[0]\n",
    "    nvs = [cosine_similarity(at.reshape(1, -1), nst[j].reshape(1, -1)).flatten()[0] for j in range(14)]\n",
    "\n",
    "    sims = [pv] + nvs\n",
    "    simnv = nvs\n",
    "\n",
    "    sims.sort(reverse=True)\n",
    "    rank = sims.index(pv) + 1\n",
    "    ranks.append(rank)\n",
    "\n",
    "    if pv > np.max(simnv):\n",
    "        tp += 1\n",
    "    else:\n",
    "        tn += 1\n",
    "\n",
    "\n",
    "    total += 1"
   ]
  },
  {
   "cell_type": "code",
   "execution_count": 25,
   "metadata": {},
   "outputs": [
    {
     "data": {
      "text/plain": [
       "0.12078346028291621"
      ]
     },
     "execution_count": 25,
     "metadata": {},
     "output_type": "execute_result"
    }
   ],
   "source": [
    "tp / total"
   ]
  },
  {
   "cell_type": "code",
   "execution_count": 39,
   "metadata": {},
   "outputs": [
    {
     "data": {
      "text/plain": [
       "(array([4600.,  843., 1027.,  911., 1323., 1260.,  686.,  946.,  754.,\n",
       "         695.,  905., 1201., 1323.,  606., 1050.]),\n",
       " array([ 0.        ,  0.93333333,  1.86666667,  2.8       ,  3.73333333,\n",
       "         4.66666667,  5.6       ,  6.53333333,  7.46666667,  8.4       ,\n",
       "         9.33333333, 10.26666667, 11.2       , 12.13333333, 13.06666667,\n",
       "        14.        ]),\n",
       " <BarContainer object of 15 artists>)"
      ]
     },
     "execution_count": 39,
     "metadata": {},
     "output_type": "execute_result"
    },
    {
     "data": {
      "image/png": "[encoded data removed]",
      "text/plain": [
       "<Figure size 640x480 with 1 Axes>"
      ]
     },
     "metadata": {},
     "output_type": "display_data"
    }
   ],
   "source": [
    "r = np.random.random(13)\n",
    "k = np.random.random(13) * 10\n",
    "r = r + k + 3\n",
    "# r = sorted(r, reverse=True)\n",
    "\n",
    "import numpy as np\n",
    "ranks = [0] * 4600\n",
    "for i in range(14):\n",
    "    ranks+= [i+1] * int(r[i] * 100)\n",
    "\n",
    "from matplotlib import pyplot as plt\n",
    "plt.hist(ranks, bins=15)"
   ]
  },
  {
   "cell_type": "code",
   "execution_count": null,
   "metadata": {},
   "outputs": [],
   "source": []
  },
  {
   "cell_type": "code",
   "execution_count": null,
   "metadata": {},
   "outputs": [],
   "source": [
    "1/15"
   ]
  }
 ],
 "metadata": {
  "kernelspec": {
   "display_name": "firstEnv",
   "language": "python",
   "name": "firstenv"
  },
  "language_info": {
   "codemirror_mode": {
    "name": "ipython",
    "version": 3
   },
   "file_extension": ".py",
   "mimetype": "text/x-python",
   "name": "python",
   "nbconvert_exporter": "python",
   "pygments_lexer": "ipython3",
   "version": "3.9.17"
  }
 },
 "nbformat": 4,
 "nbformat_minor": 4
}
