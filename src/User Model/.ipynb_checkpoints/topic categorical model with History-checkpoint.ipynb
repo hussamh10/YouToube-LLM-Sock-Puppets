{
 "cells": [
  {
   "cell_type": "code",
   "execution_count": 1,
   "metadata": {},
   "outputs": [],
   "source": [
    "import pandas as pd\n",
    "import numpy as np\n",
    "import pickle as pkl\n",
    "\n",
    "import sys\n",
    "sys.path.append('../')\n",
    "from utils import *"
   ]
  },
  {
   "cell_type": "code",
   "execution_count": 2,
   "metadata": {},
   "outputs": [],
   "source": [
    "watches = pd.read_pickle('../../data/user-level-data')\n",
    "videos = pd.read_pickle('../../data/videos_raw_metadata')"
   ]
  },
  {
   "cell_type": "code",
   "execution_count": 3,
   "metadata": {},
   "outputs": [],
   "source": [
    "watches_df = dict()\n",
    "\n",
    "def convert(watch):\n",
    "    d = dict()\n",
    "    d['playing'] = watch['playing']['id']\n",
    "    suggested = []\n",
    "    for s in watch['suggested']:\n",
    "        if s != None:\n",
    "            suggested.append(s['id'])\n",
    "    d['suggested'] = suggested\n",
    "    d['selected'] = watch['selected']\n",
    "    return d\n",
    "\n",
    "for user in watches:\n",
    "    watches_df[user] = []\n",
    "    for watch in watches[user]:\n",
    "        if watch['playing'] == None:\n",
    "            continue\n",
    "        watch = convert(watch)\n",
    "        watches_df[user].append(watch)"
   ]
  },
  {
   "cell_type": "code",
   "execution_count": 8,
   "metadata": {},
   "outputs": [],
   "source": [
    "history = dict()\n",
    "users = list(watches_df.keys())\n",
    "data = dict()\n",
    "\n",
    "for user in users:\n",
    "    if len(watches_df[user]) < 10:\n",
    "        continue\n",
    "    history[user] = watches_df[user][:10]\n",
    "\n",
    "    for watch in watches_df[user][10:]:\n",
    "        if watch['selected'] != None:\n",
    "            if user not in data:\n",
    "                data[user] = []\n",
    "            data[user].append(watch)\n",
    "\n",
    "for user in list(history.keys()):\n",
    "    if user not in data:\n",
    "        history.pop(user)"
   ]
  },
  {
   "cell_type": "code",
   "execution_count": 9,
   "metadata": {},
   "outputs": [],
   "source": [
    "for user in history:\n",
    "    history[user] = [s['playing'] for s in history[user]]\n",
    "    history[user] = [get_topic_vector(s) for s in history[user]]\n",
    "    history[user] = np.array(history[user]).mean(axis=0)"
   ]
  },
  {
   "cell_type": "code",
   "execution_count": 6,
   "metadata": {},
   "outputs": [],
   "source": [
    "from collections import Counter\n",
    "\n",
    "\n",
    "all_topics = []\n",
    "all_tags = []\n",
    "\n",
    "for video in videos:\n",
    "    video = videos[video]\n",
    "    \n",
    "    try:\n",
    "        topics = video['topicDetails']['topicCategories']\n",
    "        topics = [topic.split('/')[-1].lower() for topic in topics]\n",
    "    except:\n",
    "        topics = []\n",
    "\n",
    "    all_topics += topics\n",
    "    \n",
    "    try:\n",
    "        tags = video['snippet']['tags']\n",
    "        tags = [tag.lower() for tag in tags]\n",
    "    except:\n",
    "        tags = []\n",
    "\n",
    "    all_tags += tags\n",
    "\n",
    "all_topics = list(set(all_topics))\n",
    "\n",
    "atc = Counter(all_tags)\n",
    "atc = pd.DataFrame.from_dict(atc, 'index', columns=['count'])\n",
    "atc = atc.sort_values(['count'], ascending=False).head(5000)\n",
    "all_tags = list(atc.index)\n",
    "\n",
    "def get_one_hot_vector(topics, tags):\n",
    "    oh_topics = np.zeros(len(all_topics))\n",
    "    for topic in topics:\n",
    "        oh_topics[all_topics.index(topic)] = 1\n",
    "        \n",
    "    oh_tags = np.zeros(len(all_tags))\n",
    "    for tag in tags:\n",
    "        if tag in all_tags:\n",
    "            oh_tags[all_tags.index(tag)] = 1\n",
    "        \n",
    "    oh = np.concatenate([oh_topics , oh_tags])\n",
    "    \n",
    "    return oh\n",
    "\n",
    "\n",
    "def get_topic_vector(video):\n",
    "    video = videos[video]\n",
    "    try:\n",
    "        topics = video['topicDetails']['topicCategories']\n",
    "        topics = [topic.split('/')[-1].lower() for topic in topics]\n",
    "    except:\n",
    "        topics = []\n",
    "\n",
    "    try:\n",
    "        tags = video['snippet']['tags']\n",
    "        tags = [tag.lower() for tag in tags]\n",
    "    except:\n",
    "        tags = []\n",
    "\n",
    "    return get_one_hot_vector(topics, tags)\n"
   ]
  },
  {
   "cell_type": "code",
   "execution_count": 10,
   "metadata": {},
   "outputs": [
    {
     "data": {
      "application/json": {
       "ascii": false,
       "bar_format": null,
       "colour": null,
       "elapsed": 0.004229307174682617,
       "initial": 0,
       "n": 0,
       "ncols": null,
       "nrows": 50,
       "postfix": null,
       "prefix": "",
       "rate": null,
       "total": 1266,
       "unit": "it",
       "unit_divisor": 1000,
       "unit_scale": false
      },
      "application/vnd.jupyter.widget-view+json": {
       "model_id": "5f09ae272ec34e85917769507d97a6c0",
       "version_major": 2,
       "version_minor": 0
      },
      "text/plain": [
       "  0%|          | 0/1266 [00:00<?, ?it/s]"
      ]
     },
     "metadata": {},
     "output_type": "display_data"
    }
   ],
   "source": [
    "X = []\n",
    "Y = []\n",
    "\n",
    "for user in tqdm(data):\n",
    "    user_history = history[user]\n",
    "    for watch in data[user]:\n",
    "        \n",
    "        playing = watch['playing']\n",
    "        selected = watch['selected']\n",
    "        upnext = watch['suggested'][:15]\n",
    "\n",
    "        if playing not in videos or selected not in videos or any([s not in videos for s in watch['suggested']]):\n",
    "            continue\n",
    "        if len(watch['suggested']) < 15:\n",
    "            continue\n",
    "\n",
    "\n",
    "        playing = get_topic_vector(watch['playing'])\n",
    "        \n",
    "        for i, s in enumerate(upnext):\n",
    "            selected = watch['selected']\n",
    "\n",
    "            if s == selected:\n",
    "                y = 1\n",
    "            else:\n",
    "                y = 0\n",
    "\n",
    "            sv = get_topic_vector(s)\n",
    "\n",
    "            sv = np.concatenate([sv, [i]])\n",
    "            x = np.concatenate([user_history, playing, sv])\n",
    "\n",
    "            X.append(x)\n",
    "            Y.append(y)\n"
   ]
  },
  {
   "cell_type": "code",
   "execution_count": 11,
   "metadata": {},
   "outputs": [],
   "source": [
    "X = np.array(X)\n",
    "Y = np.array(Y)"
   ]
  },
  {
   "cell_type": "code",
   "execution_count": 12,
   "metadata": {},
   "outputs": [],
   "source": [
    "from sklearn.model_selection import train_test_split\n",
    "X_train, X_test, y_train, y_test = train_test_split(X, Y, test_size=0.2, random_state=1, stratify=Y)"
   ]
  },
  {
   "cell_type": "code",
   "execution_count": null,
   "metadata": {},
   "outputs": [],
   "source": [
    "X_train = np.array(X_train)\n",
    "X_test = np.array(X_test)\n",
    "y_train = np.array(y_train)\n",
    "y_test = np.array(y_test)"
   ]
  },
  {
   "cell_type": "code",
   "execution_count": 13,
   "metadata": {},
   "outputs": [
    {
     "data": {
      "text/plain": [
       "{0: 0.5345587128726417, 1: 7.734065716547902}"
      ]
     },
     "execution_count": 13,
     "metadata": {},
     "output_type": "execute_result"
    }
   ],
   "source": [
    "pos = Y.sum()\n",
    "neg = len(Y) - pos\n",
    "total = neg + pos\n",
    "w0 = (1 / neg) * (total / 2.0)\n",
    "w1 = (1 / pos) * (total / 2.0)\n",
    "class_weights = {0:w0, 1:w1}\n",
    "class_weights"
   ]
  },
  {
   "cell_type": "code",
   "execution_count": 14,
   "metadata": {},
   "outputs": [
    {
     "data": {
      "text/plain": [
       "(187548, 15187)"
      ]
     },
     "execution_count": 14,
     "metadata": {},
     "output_type": "execute_result"
    }
   ],
   "source": [
    "X_train.shape"
   ]
  },
  {
   "cell_type": "code",
   "execution_count": 18,
   "metadata": {},
   "outputs": [
    {
     "name": "stdout",
     "output_type": "stream",
     "text": [
      "Epoch 1/10\n",
      "2931/2931 [==============================] - 41s 13ms/step - loss: 0.6887 - tp: 8741.0000 - fp: 95118.0000 - tn: 80305.0000 - fn: 3384.0000 - accuracy: 0.4748 - precision: 0.0842 - recall: 0.7209 - auc: 0.6227 - prc: 0.0934\n",
      "Epoch 2/10\n",
      "2931/2931 [==============================] - 40s 13ms/step - loss: 0.6510 - tp: 7825.0000 - fp: 63776.0000 - tn: 111647.0000 - fn: 4300.0000 - accuracy: 0.6370 - precision: 0.1093 - recall: 0.6454 - auc: 0.6874 - prc: 0.1246\n",
      "Epoch 3/10\n",
      "2931/2931 [==============================] - 39s 13ms/step - loss: 0.6223 - tp: 7303.0000 - fp: 44024.0000 - tn: 131399.0000 - fn: 4822.0000 - accuracy: 0.7396 - precision: 0.1423 - recall: 0.6023 - auc: 0.7238 - prc: 0.1462\n",
      "Epoch 4/10\n",
      "2931/2931 [==============================] - 40s 13ms/step - loss: 0.6012 - tp: 7430.0000 - fp: 38245.0000 - tn: 137178.0000 - fn: 4695.0000 - accuracy: 0.7710 - precision: 0.1627 - recall: 0.6128 - auc: 0.7476 - prc: 0.1643\n",
      "Epoch 5/10\n",
      "2931/2931 [==============================] - 39s 13ms/step - loss: 0.5859 - tp: 7519.0000 - fp: 35636.0000 - tn: 139787.0000 - fn: 4606.0000 - accuracy: 0.7854 - precision: 0.1742 - recall: 0.6201 - auc: 0.7639 - prc: 0.1764\n",
      "Epoch 6/10\n",
      "2931/2931 [==============================] - 39s 13ms/step - loss: 0.5742 - tp: 7676.0000 - fp: 32419.0000 - tn: 143004.0000 - fn: 4449.0000 - accuracy: 0.8034 - precision: 0.1914 - recall: 0.6331 - auc: 0.7746 - prc: 0.1846\n",
      "Epoch 7/10\n",
      "2931/2931 [==============================] - 39s 13ms/step - loss: 0.5599 - tp: 7665.0000 - fp: 30092.0000 - tn: 145331.0000 - fn: 4460.0000 - accuracy: 0.8158 - precision: 0.2030 - recall: 0.6322 - auc: 0.7825 - prc: 0.1974\n",
      "Epoch 8/10\n",
      "2931/2931 [==============================] - 39s 13ms/step - loss: 0.5598 - tp: 7695.0000 - fp: 30652.0000 - tn: 144771.0000 - fn: 4430.0000 - accuracy: 0.8129 - precision: 0.2007 - recall: 0.6346 - auc: 0.7919 - prc: 0.1960\n",
      "Epoch 9/10\n",
      "2931/2931 [==============================] - 39s 13ms/step - loss: 0.5582 - tp: 7976.0000 - fp: 34024.0000 - tn: 141399.0000 - fn: 4149.0000 - accuracy: 0.7965 - precision: 0.1899 - recall: 0.6578 - auc: 0.7890 - prc: 0.1958\n",
      "Epoch 10/10\n",
      "2931/2931 [==============================] - 40s 14ms/step - loss: 0.5681 - tp: 7802.0000 - fp: 31030.0000 - tn: 144393.0000 - fn: 4323.0000 - accuracy: 0.8115 - precision: 0.2009 - recall: 0.6435 - auc: 0.7635 - prc: 0.1865\n"
     ]
    },
    {
     "data": {
      "text/plain": [
       "<keras.src.callbacks.History at 0x7f4a406048b0>"
      ]
     },
     "execution_count": 18,
     "metadata": {},
     "output_type": "execute_result"
    }
   ],
   "source": [
    "# train neural network\n",
    "\n",
    "from tensorflow import keras\n",
    "from keras.models import Sequential\n",
    "from keras.layers import Dense, Dropout\n",
    "from tensorflow.keras.optimizers import SGD\n",
    "\n",
    "\n",
    "model = Sequential()\n",
    "model.add(Dense(5000, activation='relu', input_dim=15187))\n",
    "model.add(Dropout(0.4))\n",
    "model.add(Dense(3000, activation='relu'))\n",
    "model.add(Dropout(0.4))\n",
    "model.add(Dense(1024, activation='relu'))\n",
    "model.add(Dropout(0.4))\n",
    "model.add(Dense(512, activation='relu'))\n",
    "model.add(Dropout(0.4))\n",
    "model.add(Dense(256, activation='relu'))\n",
    "model.add(Dropout(0.4))\n",
    "model.add(Dense(128, activation='relu'))\n",
    "model.add(Dropout(0.4))\n",
    "model.add(Dense(64, activation='relu'))\n",
    "model.add(Dropout(0.4))\n",
    "model.add(Dense(32, activation='relu'))\n",
    "model.add(Dropout(0.4))\n",
    "model.add(Dense(16, activation='relu'))\n",
    "model.add(Dropout(0.4))\n",
    "model.add(Dense(8, activation='relu'))\n",
    "model.add(Dense(1, activation='sigmoid'))\n",
    "\n",
    "\n",
    "METRICS = [keras.metrics.TruePositives(name='tp'),\n",
    "            keras.metrics.FalsePositives(name='fp'), \n",
    "            keras.metrics.TrueNegatives(name='tn'),\n",
    "            keras.metrics.FalseNegatives(name='fn'),\n",
    "            keras.metrics.BinaryAccuracy(name='accuracy'),\n",
    "            keras.metrics.Precision(name='precision'),\n",
    "            keras.metrics.Recall(name='recall'),\n",
    "            keras.metrics.AUC(name='auc'),       \n",
    "            keras.metrics.AUC(name='prc', curve='PR')]\n",
    "# import sgd\n",
    "\n",
    "model.compile(loss='binary_crossentropy',\n",
    "                optimizer='adam',\n",
    "                metrics=METRICS)\n",
    "\n",
    "model.fit(X_train, y_train,\n",
    "            epochs=10,\n",
    "            batch_size=64, \n",
    "            class_weight=class_weights)"
   ]
  },
  {
   "cell_type": "code",
   "execution_count": 19,
   "metadata": {},
   "outputs": [
    {
     "name": "stdout",
     "output_type": "stream",
     "text": [
      "1466/1466 [==============================] - 4s 2ms/step\n"
     ]
    },
    {
     "data": {
      "image/png": "[encoded data removed]",
      "text/plain": [
       "<Figure size 1000x1000 with 1 Axes>"
      ]
     },
     "metadata": {},
     "output_type": "display_data"
    }
   ],
   "source": [
    "# plot auc curve for test\n",
    "\n",
    "from sklearn.metrics import roc_curve, auc\n",
    "import matplotlib.pyplot as plt\n",
    "\n",
    "y_pred_keras = model.predict(X_test).ravel()\n",
    "fpr_keras, tpr_keras, thresholds_keras = roc_curve(y_test, y_pred_keras)\n",
    "auc_keras = auc(fpr_keras, tpr_keras)\n",
    "\n",
    "plt.figure(figsize=(10,10))\n",
    "plt.plot(fpr_keras, tpr_keras, label='(AUC = {:.3f})'.format(auc_keras))\n",
    "plt.xlabel('False positive rate')\n",
    "plt.ylabel('True positive rate')\n",
    "plt.title('ROC curve')\n",
    "plt.legend(loc='best')\n",
    "plt.show()"
   ]
  },
  {
   "cell_type": "code",
   "execution_count": null,
   "metadata": {},
   "outputs": [],
   "source": []
  }
 ],
 "metadata": {
  "kernelspec": {
   "display_name": "Python 3 (ipykernel)",
   "language": "python",
   "name": "python3"
  },
  "language_info": {
   "codemirror_mode": {
    "name": "ipython",
    "version": 3
   },
   "file_extension": ".py",
   "mimetype": "text/x-python",
   "name": "python",
   "nbconvert_exporter": "python",
   "pygments_lexer": "ipython3",
   "version": "3.9.12"
  }
 },
 "nbformat": 4,
 "nbformat_minor": 4
}
