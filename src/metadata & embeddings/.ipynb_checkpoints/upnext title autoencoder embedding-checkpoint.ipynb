{
 "cells": [
  {
   "cell_type": "code",
   "execution_count": 1,
   "metadata": {},
   "outputs": [],
   "source": [
    "#imports\n",
    "import string\n",
    "import pandas as pd\n",
    "import pickle as pkl\n",
    "from collections import Counter\n",
    "from matplotlib import pyplot as plt\n",
    "\n",
    "import numpy as np\n",
    "from random import sample\n",
    "\n",
    "from tqdm import tqdm\n",
    "\n",
    "import matplotlib.pyplot as plt\n",
    "import numpy as np\n",
    "import pandas as pd\n",
    "import tensorflow as tf\n",
    "\n",
    "from sklearn.metrics import accuracy_score, precision_score, recall_score\n",
    "from sklearn.model_selection import train_test_split\n",
    "from tensorflow.keras import layers, losses\n",
    "from tensorflow.keras.datasets import fashion_mnist\n",
    "from tensorflow.keras.models import Model\n",
    "\n",
    "import sys\n",
    "sys.path.append('../../src')\n",
    "import utils"
   ]
  },
  {
   "cell_type": "code",
   "execution_count": null,
   "metadata": {},
   "outputs": [],
   "source": [
    "titles = pd.read_pickle('../../data/embeddings/openai-title')\n",
    "sessions = pd.read_pickle('../../data/datasets/raw-video-level-watches')\n",
    "videos = pd.read_pickle('../../data/videos_raw_metadata')"
   ]
  },
  {
   "cell_type": "code",
   "execution_count": null,
   "metadata": {},
   "outputs": [],
   "source": [
    "upnexts = []\n",
    "for session in sessions:\n",
    "    upnext = session['upnext']\n",
    "    if len(upnext) > 15:\n",
    "        upnext = upnext[:15]\n",
    "\n",
    "    if len(upnext) < 15:\n",
    "        upnext = upnext + sample(list(videos.keys()), 15 - len(upnext))\n",
    "\n",
    "    # if any of the upnexts are not in the title embeddings, skip\n",
    "    if not all([u in videos for u in upnext]):\n",
    "        continue\n",
    "\n",
    "    upnext = np.array([titles[videos[v]['snippet']['title']] for v in upnext]).flatten()\n",
    "    upnexts.append(upnext)"
   ]
  },
  {
   "cell_type": "code",
   "execution_count": null,
   "metadata": {},
   "outputs": [],
   "source": [
    "upnexts = np.array(upnexts)\n",
    "upnexts.shape"
   ]
  },
  {
   "cell_type": "code",
   "execution_count": null,
   "metadata": {},
   "outputs": [],
   "source": [
    "X_train, X_test, Y_train, Y_test = train_test_split(upnexts, upnexts, test_size=0.2)"
   ]
  },
  {
   "cell_type": "code",
   "execution_count": null,
   "metadata": {},
   "outputs": [],
   "source": [
    "class Autoencoder(Model):\n",
    "    def __init__(self, latent_dim):\n",
    "        super(Autoencoder, self).__init__()\n",
    "        self.latent_dim = latent_dim\n",
    "        self.encoder = tf.keras.Sequential([\n",
    "          layers.Dense(23040, activation='relu'),\n",
    "          layers.Dense(1536, activation='relu'),\n",
    "          layers.Dense(768, activation='relu'),\n",
    "          layers.Dense(384, activation='relu'),\n",
    "          layers.Dense(latent_dim, activation='tanh')\n",
    "        ])\n",
    "        \n",
    "        self.decoder = tf.keras.Sequential([\n",
    "          layers.Dense(384, activation='relu'),\n",
    "          layers.Dense(768, activation='relu'),\n",
    "          layers.Dense(1536, activation='relu'),\n",
    "          layers.Dense(23040, activation='tanh')\n",
    "          # layers.Dense(1459, activation='relu'),\n",
    "          # layers.Dense(14592, activation='tanh')\n",
    "          # layers.Reshape((-1,768))\n",
    "        ])\n",
    "\n",
    "    def call(self, x):\n",
    "        encoded = self.encoder(x)\n",
    "        decoded = self.decoder(encoded)\n",
    "        return decoded\n",
    "\n",
    "autoencoder = Autoencoder(128)\n",
    "\n",
    "autoencoder.compile(optimizer='adam', loss='cosine_similarity', metrics=['accuracy', 'cosine_similarity'])"
   ]
  },
  {
   "cell_type": "code",
   "execution_count": null,
   "metadata": {},
   "outputs": [],
   "source": [
    "autoencoder.fit(X_train, X_train, epochs=5, shuffle=True, batch_size=64, validation_data=(X_test, X_test), verbose=True)"
   ]
  },
  {
   "cell_type": "code",
   "execution_count": 35,
   "metadata": {},
   "outputs": [],
   "source": [
    "autoencoder.save_weights('../../data/models/autoencoder-upnexts')"
   ]
  },
  {
   "cell_type": "code",
   "execution_count": null,
   "metadata": {},
   "outputs": [],
   "source": [
    "autoencoder = autoencoder.load_weights('../../data/models/autoencoder-upnexts')\n",
    "autoencoder.evaluate(X_test, X_test)"
   ]
  },
  {
   "cell_type": "code",
   "execution_count": null,
   "metadata": {},
   "outputs": [],
   "source": [
    "# encoded_embs = autoencoder.encoder(embs)"
   ]
  },
  {
   "cell_type": "code",
   "execution_count": 59,
   "metadata": {},
   "outputs": [
    {
     "name": "stderr",
     "output_type": "stream",
     "text": [
      "  0%|          | 0/8563 [00:00<?, ?it/s]100%|██████████| 8563/8563 [13:12<00:00, 10.81it/s]\n"
     ]
    }
   ],
   "source": [
    "sessions = pd.read_pickle('../../data/datasets/raw-video-level-watches')\n",
    "emb_sessions = []\n",
    "\n",
    "for session in tqdm(sessions):\n",
    "    upnext = session['upnext']\n",
    "    if len(upnext) > 15:\n",
    "        upnext = upnext[:15]\n",
    "\n",
    "    if len(upnext) < 15:\n",
    "        upnext = upnext + sample(list(videos.keys()), 15 - len(upnext))\n",
    "\n",
    "    # if any of the upnexts are not in the title embeddings, skip\n",
    "    if not all([u in videos for u in upnext]):\n",
    "        continue\n",
    "\n",
    "    upnext = [np.array([titles[videos[v]['snippet']['title']] for v in upnext]).flatten()]\n",
    "    \n",
    "    emb_session = dict()\n",
    "    emb_session['playing'] = session['playing']\n",
    "    emb_session['upnext'] = session['upnext']\n",
    "    emb_session['selected'] = session['selected']\n",
    "\n",
    "    encoded_embs = autoencoder.encoder(upnext[0].reshape(1,-1))\n",
    "    emb_session['upnext_embs'] = encoded_embs\n",
    "\n",
    "    emb_sessions.append(emb_session)"
   ]
  },
  {
   "cell_type": "code",
   "execution_count": 21,
   "metadata": {},
   "outputs": [],
   "source": [
    "pkl.dump(embeddings, open('../../data/embeddings/upnext-autoencoded', 'wb'))"
   ]
  }
 ],
 "metadata": {
  "kernelspec": {
   "display_name": "Python 3 (ipykernel)",
   "language": "python",
   "name": "python3"
  },
  "language_info": {
   "codemirror_mode": {
    "name": "ipython",
    "version": 3
   },
   "file_extension": ".py",
   "mimetype": "text/x-python",
   "name": "python",
   "nbconvert_exporter": "python",
   "pygments_lexer": "ipython3",
   "version": "3.6.9"
  }
 },
 "nbformat": 4,
 "nbformat_minor": 2
}
