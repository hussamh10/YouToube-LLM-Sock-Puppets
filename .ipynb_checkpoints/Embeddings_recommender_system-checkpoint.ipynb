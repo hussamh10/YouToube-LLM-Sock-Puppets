{
 "cells": [
  {
   "cell_type": "code",
   "execution_count": 1,
   "metadata": {
    "id": "KY1Nu5EIBgx3"
   },
   "outputs": [],
   "source": [
    "import pandas as pd\n",
    "import numpy as np\n",
    "from tqdm.notebook import tqdm \n",
    "import tensorflow as tf"
   ]
  },
  {
   "cell_type": "code",
   "execution_count": 2,
   "metadata": {
    "id": "s4d1xz6TE18v"
   },
   "outputs": [],
   "source": [
    "class Video:\n",
    "    def __init__(self, uid):\n",
    "        self.uid = uid\n",
    "        if uid not in video_db:\n",
    "            self.title, self.tags, self.description, self.category, self.channel_title = None, None, None, None, None\n",
    "            self.title_emb, self.tags_emb, self.description_emb = empty_title, [], empty_desc\n",
    "            return\n",
    "\n",
    "        vs = video_db[uid]['snippet']\n",
    "        self.title = vs['title']\n",
    "        self.tags = vs.get('tags', [])\n",
    "        self.description = vs['description']\n",
    "        self.category = vs['categoryId']\n",
    "        self.channel_title = vs['channelTitle']\n",
    "\n",
    "        self.title_emb = video_db[uid]['embeddings']['title']\n",
    "        self.tags_emb = video_db[uid]['embeddings']['tags']\n",
    "        self.description_emb = video_db[uid]['embeddings']['description']\n",
    "\n",
    "    def __repr__(self):\n",
    "        if self.title is None:\n",
    "            return 'Video not found'\n",
    "        return self.title\n",
    "\n",
    "    def __str__(self):\n",
    "        if self.title is None:\n",
    "            return 'Video not found'\n",
    "        return self.title\n",
    "\n",
    "    def __hash__(self):\n",
    "        return hash(self.uid)"
   ]
  },
  {
   "cell_type": "code",
   "execution_count": null,
   "metadata": {
    "id": "KaI_7nQ4E49l"
   },
   "outputs": [],
   "source": [
    "video_sessions = pd.read_pickle('video_sessions.pkl')"
   ]
  },
  {
   "cell_type": "code",
   "execution_count": null,
   "metadata": {
    "id": "KysRfQEHT3GS"
   },
   "outputs": [],
   "source": [
    "playing_x = []\n",
    "selected_x = []\n",
    "recommended_x = []\n",
    "Y = []\n",
    "for session in tqdm(video_sessions):\n",
    "    playing = session['video'].title_emb\n",
    "    rx = []\n",
    "    for video in session['upnext']:\n",
    "        rx.append(video.title_emb)\n",
    "\n",
    "    if len(rx) < 16:\n",
    "        continue\n",
    "\n",
    "    for video in session['upnext']:\n",
    "        if video.title == session['selected'].title:\n",
    "            y = 1\n",
    "        else:\n",
    "            y = 0\n",
    "        selected_x.append(video.title_emb)\n",
    "        recommended_x.append(np.array(rx[:16]))\n",
    "        playing_x.append(video.title_emb)\n",
    "        Y.append(y)"
   ]
  },
  {
   "cell_type": "code",
   "execution_count": null,
   "metadata": {},
   "outputs": [],
   "source": [
    "\n"
   ]
  },
  {
   "cell_type": "code",
   "execution_count": 95,
   "metadata": {},
   "outputs": [],
   "source": [
    "neg, pos = np.bincount(Y)\n",
    "initial_bias = np.log([pos/neg])"
   ]
  },
  {
   "cell_type": "code",
   "execution_count": 112,
   "metadata": {
    "id": "QJqNzMudoIGi"
   },
   "outputs": [],
   "source": [
    "playing_input = tf.keras.layers.Input(shape=(768), name=\"playing\")\n",
    "selection_input = tf.keras.layers.Input(shape=(768), name=\"selection\")\n",
    "recommendation_input = tf.keras.layers.Input(shape=(16, 768), name=\"recommendation\")\n",
    "\n",
    "# recommendation_input = tf.keras.layers.Flatten()(recommendation_input)\n",
    "recommendation_dense = tf.keras.layers.Dense(512, activation=\"relu\")(recommendation_input)\n",
    "recommendation_dense = tf.keras.layers.Dropout(0.3)(recommendation_dense)\n",
    "recommendation_dense = tf.keras.layers.Flatten()(recommendation_dense)\n",
    "\n",
    "playing_dense = tf.keras.layers.Dense(512, activation=\"relu\")(playing_input)\n",
    "playing_dense = tf.keras.layers.Dropout(0.3)(playing_dense)\n",
    "playing_dense = tf.keras.layers.Flatten()(playing_dense)\n",
    "\n",
    "selection_dense = tf.keras.layers.Dense(512, activation=\"relu\")(selection_input)\n",
    "# add dropout layer\n",
    "selection_dense = tf.keras.layers.Dropout(0.3)(selection_dense)\n",
    "selection_dense = tf.keras.layers.Flatten()(selection_dense)\n",
    "\n",
    "concat = tf.keras.layers.Concatenate()([playing_dense, selection_dense, recommendation_dense])\n",
    "concat = tf.keras.layers.Dense(512, activation=\"relu\")(concat)\n",
    "concat = tf.keras.layers.Dropout(0.3)(concat)\n",
    "concat = tf.keras.layers.Dense(256, activation=\"relu\")(concat)\n",
    "concat = tf.keras.layers.Dropout(0.3)(concat)\n",
    "concat = tf.keras.layers.Dense(128, activation=\"relu\")(concat)\n",
    "concat = tf.keras.layers.Dropout(0.3)(concat)\n",
    "concat = tf.keras.layers.Dense(10, activation=\"relu\")(concat)\n",
    "concat = tf.keras.layers.Dropout(0.3)(concat)\n",
    "concat = tf.keras.layers.Flatten()(concat)\n",
    "\n",
    "output = tf.keras.layers.Dense(1, activation=\"sigmoid\")(concat)"
   ]
  },
  {
   "cell_type": "code",
   "execution_count": 108,
   "metadata": {
    "id": "ouvLJT8dR_ff"
   },
   "outputs": [
    {
     "name": "stderr",
     "output_type": "stream",
     "text": [
      "/home/data/hussam/miniconda3/envs/jup/lib/python3.10/site-packages/keras/optimizer_v2/gradient_descent.py:102: UserWarning: The `lr` argument is deprecated, use `learning_rate` instead.\n",
      "  super(SGD, self).__init__(name, **kwargs)\n"
     ]
    }
   ],
   "source": [
    "import tensorflow.keras as keras\n",
    "\n",
    "model = tf.keras.Model(inputs=[playing_input, recommendation_input, selection_input], outputs=output)\n",
    "\n",
    "METRICS = [keras.metrics.TruePositives(name='tp'),\n",
    "            keras.metrics.FalsePositives(name='fp'), \n",
    "            keras.metrics.TrueNegatives(name='tn'),\n",
    "            keras.metrics.FalseNegatives(name='fn'),\n",
    "            keras.metrics.BinaryAccuracy(name='accuracy'),\n",
    "            keras.metrics.Precision(name='precision'),\n",
    "            keras.metrics.Recall(name='recall'),\n",
    "            keras.metrics.AUC(name='auc'),       \n",
    "            keras.metrics.AUC(name='prc', curve='PR')]\n",
    "# import sgd\n",
    "from tensorflow.keras.optimizers import SGD\n",
    "\n",
    "sgd = SGD(lr=0.01, decay=1e-6, momentum=0.9)\n",
    "model.compile(loss='binary_crossentropy',\n",
    "                optimizer=sgd,\n",
    "                metrics=[METRICS])\n",
    "\n",
    "# model.fit(X_train, y_train,\n",
    "#             epochs=50,\n",
    "#             batch_size=128)\n",
    "# model.compile(loss=\"mse\", metrics=[tf.keras.metrics.MeanAbsoluteError()])"
   ]
  },
  {
   "cell_type": "code",
   "execution_count": 100,
   "metadata": {},
   "outputs": [],
   "source": [
    "from sklearn.model_selection import train_test_split\n",
    "pXtrain, pXtest, rXtrain, rXtest, sXtrain, sXtest, Ytrain, Ytest = train_test_split(playing_x, recommended_x, selected_x, Y)"
   ]
  },
  {
   "cell_type": "code",
   "execution_count": 101,
   "metadata": {},
   "outputs": [
    {
     "data": {
      "text/plain": [
       "((110466, 768), (110466, 768), (110466, 16, 768), (110466,))"
      ]
     },
     "execution_count": 101,
     "metadata": {},
     "output_type": "execute_result"
    }
   ],
   "source": [
    "# playing_x = np.array(playing_x)\n",
    "# selected_x = np.array(selected_x)\n",
    "# recommended_x = np.array(recommended_x)\n",
    "# Y = np.array(Y)\n",
    "\n",
    "# pXtrain = np.array(pXtrain)\n",
    "# pXtest = np.array(pXtest)\n",
    "# rXtrain = np.array(rXtrain)\n",
    "# rXtest = np.array(rXtest)\n",
    "# sXtrain = np.array(sXtrain)\n",
    "# sXtest = np.array(sXtest)\n",
    "# Ytrain = np.array(Ytrain)\n",
    "# Ytest = np.array(Ytest)\n",
    "\n",
    "\n",
    "pXtrain.shape, sXtrain.shape, rXtrain.shape, Ytrain.shape"
   ]
  },
  {
   "cell_type": "code",
   "execution_count": 102,
   "metadata": {},
   "outputs": [
    {
     "name": "stdout",
     "output_type": "stream",
     "text": [
      "Model: \"model_19\"\n",
      "__________________________________________________________________________________________________\n",
      " Layer (type)                   Output Shape         Param #     Connected to                     \n",
      "==================================================================================================\n",
      " playing (InputLayer)           [(None, 768)]        0           []                               \n",
      "                                                                                                  \n",
      " selection (InputLayer)         [(None, 768)]        0           []                               \n",
      "                                                                                                  \n",
      " recommendation (InputLayer)    [(None, 16, 768)]    0           []                               \n",
      "                                                                                                  \n",
      " dense_97 (Dense)               (None, 256)          196864      ['playing[0][0]']                \n",
      "                                                                                                  \n",
      " dense_98 (Dense)               (None, 256)          196864      ['selection[0][0]']              \n",
      "                                                                                                  \n",
      " dense_96 (Dense)               (None, 16, 256)      196864      ['recommendation[0][0]']         \n",
      "                                                                                                  \n",
      " flatten_54 (Flatten)           (None, 256)          0           ['dense_97[0][0]']               \n",
      "                                                                                                  \n",
      " flatten_55 (Flatten)           (None, 256)          0           ['dense_98[0][0]']               \n",
      "                                                                                                  \n",
      " flatten_53 (Flatten)           (None, 4096)         0           ['dense_96[0][0]']               \n",
      "                                                                                                  \n",
      " concatenate_14 (Concatenate)   (None, 4608)         0           ['flatten_54[0][0]',             \n",
      "                                                                  'flatten_55[0][0]',             \n",
      "                                                                  'flatten_53[0][0]']             \n",
      "                                                                                                  \n",
      " dense_99 (Dense)               (None, 256)          1179904     ['concatenate_14[0][0]']         \n",
      "                                                                                                  \n",
      " dropout_45 (Dropout)           (None, 256)          0           ['dense_99[0][0]']               \n",
      "                                                                                                  \n",
      " dense_100 (Dense)              (None, 128)          32896       ['dropout_45[0][0]']             \n",
      "                                                                                                  \n",
      " dropout_46 (Dropout)           (None, 128)          0           ['dense_100[0][0]']              \n",
      "                                                                                                  \n",
      " dense_101 (Dense)              (None, 10)           1290        ['dropout_46[0][0]']             \n",
      "                                                                                                  \n",
      " dropout_47 (Dropout)           (None, 10)           0           ['dense_101[0][0]']              \n",
      "                                                                                                  \n",
      " flatten_56 (Flatten)           (None, 10)           0           ['dropout_47[0][0]']             \n",
      "                                                                                                  \n",
      " dense_102 (Dense)              (None, 1)            11          ['flatten_56[0][0]']             \n",
      "                                                                                                  \n",
      "==================================================================================================\n",
      "Total params: 1,804,693\n",
      "Trainable params: 1,804,693\n",
      "Non-trainable params: 0\n",
      "__________________________________________________________________________________________________\n"
     ]
    }
   ],
   "source": [
    "model.summary()"
   ]
  },
  {
   "cell_type": "code",
   "execution_count": 113,
   "metadata": {
    "id": "PFBC7Et0oQch"
   },
   "outputs": [
    {
     "name": "stdout",
     "output_type": "stream",
     "text": [
      "Epoch 1/100\n",
      "5524/5524 [==============================] - 88s 15ms/step - loss: 0.9955 - tp: 72.0000 - fp: 89.0000 - tn: 83499.0000 - fn: 4712.0000 - accuracy: 0.9457 - precision: 0.4472 - recall: 0.0151 - auc: 0.5061 - prc: 0.0655 - val_loss: 0.4587 - val_tp: 8.0000 - val_fp: 0.0000e+00 - val_tn: 20872.0000 - val_fn: 1214.0000 - val_accuracy: 0.9451 - val_precision: 1.0000 - val_recall: 0.0065 - val_auc: 0.5033 - val_prc: 0.0638\n",
      "Epoch 2/100\n",
      "5524/5524 [==============================] - 84s 15ms/step - loss: 0.9789 - tp: 40.0000 - fp: 18.0000 - tn: 83570.0000 - fn: 4744.0000 - accuracy: 0.9461 - precision: 0.6897 - recall: 0.0084 - auc: 0.5012 - prc: 0.0621 - val_loss: 0.4884 - val_tp: 20.0000 - val_fp: 0.0000e+00 - val_tn: 20872.0000 - val_fn: 1202.0000 - val_accuracy: 0.9456 - val_precision: 1.0000 - val_recall: 0.0164 - val_auc: 0.5082 - val_prc: 0.0758\n",
      "Epoch 3/100\n",
      "5524/5524 [==============================] - 83s 15ms/step - loss: 0.9744 - tp: 62.0000 - fp: 20.0000 - tn: 83568.0000 - fn: 4722.0000 - accuracy: 0.9463 - precision: 0.7561 - recall: 0.0130 - auc: 0.5060 - prc: 0.0688 - val_loss: 0.4602 - val_tp: 15.0000 - val_fp: 0.0000e+00 - val_tn: 20872.0000 - val_fn: 1207.0000 - val_accuracy: 0.9454 - val_precision: 1.0000 - val_recall: 0.0123 - val_auc: 0.5061 - val_prc: 0.0709\n",
      "Epoch 4/100\n",
      "5524/5524 [==============================] - 83s 15ms/step - loss: 0.9726 - tp: 47.0000 - fp: 3.0000 - tn: 83585.0000 - fn: 4737.0000 - accuracy: 0.9464 - precision: 0.9400 - recall: 0.0098 - auc: 0.5089 - prc: 0.0667 - val_loss: 0.3968 - val_tp: 11.0000 - val_fp: 0.0000e+00 - val_tn: 20872.0000 - val_fn: 1211.0000 - val_accuracy: 0.9452 - val_precision: 1.0000 - val_recall: 0.0090 - val_auc: 0.5045 - val_prc: 0.0669\n",
      "Epoch 5/100\n",
      "5524/5524 [==============================] - 83s 15ms/step - loss: 0.9719 - tp: 54.0000 - fp: 2.0000 - tn: 83586.0000 - fn: 4730.0000 - accuracy: 0.9465 - precision: 0.9643 - recall: 0.0113 - auc: 0.5065 - prc: 0.0674 - val_loss: 0.5339 - val_tp: 8.0000 - val_fp: 0.0000e+00 - val_tn: 20872.0000 - val_fn: 1214.0000 - val_accuracy: 0.9451 - val_precision: 1.0000 - val_recall: 0.0065 - val_auc: 0.5033 - val_prc: 0.0638\n",
      "Epoch 6/100\n",
      "5524/5524 [==============================] - 83s 15ms/step - loss: 0.9731 - tp: 43.0000 - fp: 0.0000e+00 - tn: 83588.0000 - fn: 4741.0000 - accuracy: 0.9464 - precision: 1.0000 - recall: 0.0090 - auc: 0.5073 - prc: 0.0666 - val_loss: 0.5084 - val_tp: 8.0000 - val_fp: 0.0000e+00 - val_tn: 20872.0000 - val_fn: 1214.0000 - val_accuracy: 0.9451 - val_precision: 1.0000 - val_recall: 0.0065 - val_auc: 0.5033 - val_prc: 0.0638\n",
      "Epoch 7/100\n",
      "5524/5524 [==============================] - 83s 15ms/step - loss: 0.9734 - tp: 43.0000 - fp: 0.0000e+00 - tn: 83588.0000 - fn: 4741.0000 - accuracy: 0.9464 - precision: 1.0000 - recall: 0.0090 - auc: 0.5022 - prc: 0.0646 - val_loss: 0.4275 - val_tp: 8.0000 - val_fp: 0.0000e+00 - val_tn: 20872.0000 - val_fn: 1214.0000 - val_accuracy: 0.9451 - val_precision: 1.0000 - val_recall: 0.0065 - val_auc: 0.5033 - val_prc: 0.0638\n",
      "Epoch 8/100\n",
      "5524/5524 [==============================] - 83s 15ms/step - loss: 0.9729 - tp: 43.0000 - fp: 0.0000e+00 - tn: 83588.0000 - fn: 4741.0000 - accuracy: 0.9464 - precision: 1.0000 - recall: 0.0090 - auc: 0.5070 - prc: 0.0659 - val_loss: 0.5323 - val_tp: 8.0000 - val_fp: 0.0000e+00 - val_tn: 20872.0000 - val_fn: 1214.0000 - val_accuracy: 0.9451 - val_precision: 1.0000 - val_recall: 0.0065 - val_auc: 0.5033 - val_prc: 0.0638\n",
      "Epoch 9/100\n",
      "5524/5524 [==============================] - 84s 15ms/step - loss: 0.9736 - tp: 46.0000 - fp: 1.0000 - tn: 83587.0000 - fn: 4738.0000 - accuracy: 0.9464 - precision: 0.9787 - recall: 0.0096 - auc: 0.4982 - prc: 0.0650 - val_loss: 0.4458 - val_tp: 12.0000 - val_fp: 0.0000e+00 - val_tn: 20872.0000 - val_fn: 1210.0000 - val_accuracy: 0.9452 - val_precision: 1.0000 - val_recall: 0.0098 - val_auc: 0.5049 - val_prc: 0.0679\n",
      "Epoch 10/100\n",
      "5524/5524 [==============================] - 84s 15ms/step - loss: 0.9783 - tp: 23.0000 - fp: 5.0000 - tn: 83583.0000 - fn: 4761.0000 - accuracy: 0.9461 - precision: 0.8214 - recall: 0.0048 - auc: 0.5047 - prc: 0.0597 - val_loss: 0.5432 - val_tp: 5.0000 - val_fp: 0.0000e+00 - val_tn: 20872.0000 - val_fn: 1217.0000 - val_accuracy: 0.9449 - val_precision: 1.0000 - val_recall: 0.0041 - val_auc: 0.5020 - val_prc: 0.0607\n",
      "Epoch 11/100\n",
      "5524/5524 [==============================] - 83s 15ms/step - loss: 0.9753 - tp: 31.0000 - fp: 1.0000 - tn: 83587.0000 - fn: 4753.0000 - accuracy: 0.9462 - precision: 0.9688 - recall: 0.0065 - auc: 0.5005 - prc: 0.0618 - val_loss: 0.4979 - val_tp: 7.0000 - val_fp: 0.0000e+00 - val_tn: 20872.0000 - val_fn: 1215.0000 - val_accuracy: 0.9450 - val_precision: 1.0000 - val_recall: 0.0057 - val_auc: 0.5029 - val_prc: 0.0628\n",
      "Epoch 12/100\n",
      "5524/5524 [==============================] - 83s 15ms/step - loss: 0.9756 - tp: 21.0000 - fp: 0.0000e+00 - tn: 83588.0000 - fn: 4763.0000 - accuracy: 0.9461 - precision: 1.0000 - recall: 0.0044 - auc: 0.5049 - prc: 0.0603 - val_loss: 0.4580 - val_tp: 8.0000 - val_fp: 0.0000e+00 - val_tn: 20872.0000 - val_fn: 1214.0000 - val_accuracy: 0.9451 - val_precision: 1.0000 - val_recall: 0.0065 - val_auc: 0.5033 - val_prc: 0.0638\n",
      "Epoch 13/100\n",
      "5524/5524 [==============================] - 83s 15ms/step - loss: 0.9761 - tp: 23.0000 - fp: 0.0000e+00 - tn: 83588.0000 - fn: 4761.0000 - accuracy: 0.9461 - precision: 1.0000 - recall: 0.0048 - auc: 0.4961 - prc: 0.0591 - val_loss: 0.4897 - val_tp: 8.0000 - val_fp: 0.0000e+00 - val_tn: 20872.0000 - val_fn: 1214.0000 - val_accuracy: 0.9451 - val_precision: 1.0000 - val_recall: 0.0065 - val_auc: 0.5033 - val_prc: 0.0638\n",
      "Epoch 14/100\n",
      "5524/5524 [==============================] - 83s 15ms/step - loss: 0.9817 - tp: 16.0000 - fp: 1.0000 - tn: 83587.0000 - fn: 4768.0000 - accuracy: 0.9460 - precision: 0.9412 - recall: 0.0033 - auc: 0.5020 - prc: 0.0582 - val_loss: 0.5029 - val_tp: 5.0000 - val_fp: 0.0000e+00 - val_tn: 20872.0000 - val_fn: 1217.0000 - val_accuracy: 0.9449 - val_precision: 1.0000 - val_recall: 0.0041 - val_auc: 0.5020 - val_prc: 0.0607\n",
      "Epoch 15/100\n",
      "5524/5524 [==============================] - 83s 15ms/step - loss: 0.9758 - tp: 17.0000 - fp: 0.0000e+00 - tn: 83588.0000 - fn: 4767.0000 - accuracy: 0.9461 - precision: 1.0000 - recall: 0.0036 - auc: 0.5049 - prc: 0.0587 - val_loss: 0.4560 - val_tp: 5.0000 - val_fp: 0.0000e+00 - val_tn: 20872.0000 - val_fn: 1217.0000 - val_accuracy: 0.9449 - val_precision: 1.0000 - val_recall: 0.0041 - val_auc: 0.5020 - val_prc: 0.0607\n",
      "Epoch 16/100\n",
      "5524/5524 [==============================] - 83s 15ms/step - loss: 0.9766 - tp: 16.0000 - fp: 0.0000e+00 - tn: 83588.0000 - fn: 4768.0000 - accuracy: 0.9460 - precision: 1.0000 - recall: 0.0033 - auc: 0.4945 - prc: 0.0566 - val_loss: 0.4490 - val_tp: 5.0000 - val_fp: 0.0000e+00 - val_tn: 20872.0000 - val_fn: 1217.0000 - val_accuracy: 0.9449 - val_precision: 1.0000 - val_recall: 0.0041 - val_auc: 0.5020 - val_prc: 0.0607\n",
      "Epoch 17/100\n",
      "5524/5524 [==============================] - 83s 15ms/step - loss: 0.9766 - tp: 16.0000 - fp: 0.0000e+00 - tn: 83588.0000 - fn: 4768.0000 - accuracy: 0.9460 - precision: 1.0000 - recall: 0.0033 - auc: 0.5016 - prc: 0.0581 - val_loss: 0.5040 - val_tp: 5.0000 - val_fp: 0.0000e+00 - val_tn: 20872.0000 - val_fn: 1217.0000 - val_accuracy: 0.9449 - val_precision: 1.0000 - val_recall: 0.0041 - val_auc: 0.5020 - val_prc: 0.0607\n",
      "Epoch 18/100\n",
      "5524/5524 [==============================] - 83s 15ms/step - loss: 0.9770 - tp: 15.0000 - fp: 0.0000e+00 - tn: 83588.0000 - fn: 4769.0000 - accuracy: 0.9460 - precision: 1.0000 - recall: 0.0031 - auc: 0.4900 - prc: 0.0561 - val_loss: 0.4858 - val_tp: 5.0000 - val_fp: 0.0000e+00 - val_tn: 20872.0000 - val_fn: 1217.0000 - val_accuracy: 0.9449 - val_precision: 1.0000 - val_recall: 0.0041 - val_auc: 0.5020 - val_prc: 0.0607\n",
      "Epoch 19/100\n",
      "5524/5524 [==============================] - 83s 15ms/step - loss: 0.9771 - tp: 13.0000 - fp: 0.0000e+00 - tn: 83588.0000 - fn: 4771.0000 - accuracy: 0.9460 - precision: 1.0000 - recall: 0.0027 - auc: 0.4940 - prc: 0.0558 - val_loss: 0.5501 - val_tp: 5.0000 - val_fp: 0.0000e+00 - val_tn: 20872.0000 - val_fn: 1217.0000 - val_accuracy: 0.9449 - val_precision: 1.0000 - val_recall: 0.0041 - val_auc: 0.5020 - val_prc: 0.0607\n",
      "Epoch 20/100\n",
      "5524/5524 [==============================] - 83s 15ms/step - loss: 0.9795 - tp: 0.0000e+00 - fp: 1.0000 - tn: 83587.0000 - fn: 4784.0000 - accuracy: 0.9459 - precision: 0.0000e+00 - recall: 0.0000e+00 - auc: 0.4968 - prc: 0.0536 - val_loss: 0.4731 - val_tp: 0.0000e+00 - val_fp: 0.0000e+00 - val_tn: 20872.0000 - val_fn: 1222.0000 - val_accuracy: 0.9447 - val_precision: 0.0000e+00 - val_recall: 0.0000e+00 - val_auc: 0.5000 - val_prc: 0.0553\n",
      "Epoch 21/100\n",
      "5524/5524 [==============================] - 83s 15ms/step - loss: 0.9781 - tp: 0.0000e+00 - fp: 0.0000e+00 - tn: 83588.0000 - fn: 4784.0000 - accuracy: 0.9459 - precision: 0.0000e+00 - recall: 0.0000e+00 - auc: 0.4972 - prc: 0.0536 - val_loss: 0.4006 - val_tp: 0.0000e+00 - val_fp: 0.0000e+00 - val_tn: 20872.0000 - val_fn: 1222.0000 - val_accuracy: 0.9447 - val_precision: 0.0000e+00 - val_recall: 0.0000e+00 - val_auc: 0.5000 - val_prc: 0.0553\n",
      "Epoch 22/100\n",
      "5524/5524 [==============================] - 83s 15ms/step - loss: 0.9859 - tp: 0.0000e+00 - fp: 0.0000e+00 - tn: 83588.0000 - fn: 4784.0000 - accuracy: 0.9459 - precision: 0.0000e+00 - recall: 0.0000e+00 - auc: 0.4988 - prc: 0.0541 - val_loss: 0.4605 - val_tp: 0.0000e+00 - val_fp: 0.0000e+00 - val_tn: 20872.0000 - val_fn: 1222.0000 - val_accuracy: 0.9447 - val_precision: 0.0000e+00 - val_recall: 0.0000e+00 - val_auc: 0.5000 - val_prc: 0.0553\n",
      "Epoch 23/100\n",
      "5524/5524 [==============================] - 82s 15ms/step - loss: 0.9782 - tp: 0.0000e+00 - fp: 0.0000e+00 - tn: 83588.0000 - fn: 4784.0000 - accuracy: 0.9459 - precision: 0.0000e+00 - recall: 0.0000e+00 - auc: 0.4979 - prc: 0.0539 - val_loss: 0.5154 - val_tp: 0.0000e+00 - val_fp: 0.0000e+00 - val_tn: 20872.0000 - val_fn: 1222.0000 - val_accuracy: 0.9447 - val_precision: 0.0000e+00 - val_recall: 0.0000e+00 - val_auc: 0.5000 - val_prc: 0.0553\n",
      "Epoch 24/100\n",
      "5524/5524 [==============================] - 82s 15ms/step - loss: 0.9776 - tp: 1.0000 - fp: 0.0000e+00 - tn: 83588.0000 - fn: 4783.0000 - accuracy: 0.9459 - precision: 1.0000 - recall: 2.0903e-04 - auc: 0.4983 - prc: 0.0539 - val_loss: 0.5215 - val_tp: 0.0000e+00 - val_fp: 0.0000e+00 - val_tn: 20872.0000 - val_fn: 1222.0000 - val_accuracy: 0.9447 - val_precision: 0.0000e+00 - val_recall: 0.0000e+00 - val_auc: 0.5000 - val_prc: 0.0553\n",
      "Epoch 25/100\n",
      "5524/5524 [==============================] - 82s 15ms/step - loss: 0.9775 - tp: 1.0000 - fp: 0.0000e+00 - tn: 83588.0000 - fn: 4783.0000 - accuracy: 0.9459 - precision: 1.0000 - recall: 2.0903e-04 - auc: 0.5021 - prc: 0.0545 - val_loss: 0.4257 - val_tp: 0.0000e+00 - val_fp: 0.0000e+00 - val_tn: 20872.0000 - val_fn: 1222.0000 - val_accuracy: 0.9447 - val_precision: 0.0000e+00 - val_recall: 0.0000e+00 - val_auc: 0.5000 - val_prc: 0.0553\n",
      "Epoch 26/100\n",
      "5524/5524 [==============================] - 82s 15ms/step - loss: 0.9780 - tp: 0.0000e+00 - fp: 0.0000e+00 - tn: 83588.0000 - fn: 4784.0000 - accuracy: 0.9459 - precision: 0.0000e+00 - recall: 0.0000e+00 - auc: 0.4983 - prc: 0.0543 - val_loss: 0.5487 - val_tp: 0.0000e+00 - val_fp: 0.0000e+00 - val_tn: 20872.0000 - val_fn: 1222.0000 - val_accuracy: 0.9447 - val_precision: 0.0000e+00 - val_recall: 0.0000e+00 - val_auc: 0.5000 - val_prc: 0.0553\n",
      "Epoch 27/100\n",
      "5524/5524 [==============================] - 82s 15ms/step - loss: 0.9779 - tp: 0.0000e+00 - fp: 0.0000e+00 - tn: 83588.0000 - fn: 4784.0000 - accuracy: 0.9459 - precision: 0.0000e+00 - recall: 0.0000e+00 - auc: 0.5003 - prc: 0.0536 - val_loss: 0.5328 - val_tp: 0.0000e+00 - val_fp: 0.0000e+00 - val_tn: 20872.0000 - val_fn: 1222.0000 - val_accuracy: 0.9447 - val_precision: 0.0000e+00 - val_recall: 0.0000e+00 - val_auc: 0.5000 - val_prc: 0.0553\n",
      "Epoch 28/100\n",
      "5524/5524 [==============================] - 85s 15ms/step - loss: 0.9781 - tp: 0.0000e+00 - fp: 0.0000e+00 - tn: 83588.0000 - fn: 4784.0000 - accuracy: 0.9459 - precision: 0.0000e+00 - recall: 0.0000e+00 - auc: 0.4955 - prc: 0.0534 - val_loss: 0.5073 - val_tp: 0.0000e+00 - val_fp: 0.0000e+00 - val_tn: 20872.0000 - val_fn: 1222.0000 - val_accuracy: 0.9447 - val_precision: 0.0000e+00 - val_recall: 0.0000e+00 - val_auc: 0.5000 - val_prc: 0.0553\n",
      "Epoch 29/100\n",
      "5524/5524 [==============================] - 84s 15ms/step - loss: 0.9779 - tp: 0.0000e+00 - fp: 0.0000e+00 - tn: 83588.0000 - fn: 4784.0000 - accuracy: 0.9459 - precision: 0.0000e+00 - recall: 0.0000e+00 - auc: 0.5004 - prc: 0.0546 - val_loss: 0.4502 - val_tp: 0.0000e+00 - val_fp: 0.0000e+00 - val_tn: 20872.0000 - val_fn: 1222.0000 - val_accuracy: 0.9447 - val_precision: 0.0000e+00 - val_recall: 0.0000e+00 - val_auc: 0.5000 - val_prc: 0.0553\n",
      "Epoch 30/100\n",
      "5524/5524 [==============================] - 84s 15ms/step - loss: 0.9782 - tp: 1.0000 - fp: 0.0000e+00 - tn: 83588.0000 - fn: 4783.0000 - accuracy: 0.9459 - precision: 1.0000 - recall: 2.0903e-04 - auc: 0.4909 - prc: 0.0528 - val_loss: 0.5283 - val_tp: 0.0000e+00 - val_fp: 0.0000e+00 - val_tn: 20872.0000 - val_fn: 1222.0000 - val_accuracy: 0.9447 - val_precision: 0.0000e+00 - val_recall: 0.0000e+00 - val_auc: 0.5000 - val_prc: 0.0553\n",
      "Epoch 31/100\n",
      "5524/5524 [==============================] - 84s 15ms/step - loss: 0.9779 - tp: 0.0000e+00 - fp: 0.0000e+00 - tn: 83588.0000 - fn: 4784.0000 - accuracy: 0.9459 - precision: 0.0000e+00 - recall: 0.0000e+00 - auc: 0.5025 - prc: 0.0542 - val_loss: 0.4999 - val_tp: 0.0000e+00 - val_fp: 0.0000e+00 - val_tn: 20872.0000 - val_fn: 1222.0000 - val_accuracy: 0.9447 - val_precision: 0.0000e+00 - val_recall: 0.0000e+00 - val_auc: 0.5000 - val_prc: 0.0553\n",
      "Epoch 32/100\n",
      "5524/5524 [==============================] - 84s 15ms/step - loss: 0.9780 - tp: 0.0000e+00 - fp: 0.0000e+00 - tn: 83588.0000 - fn: 4784.0000 - accuracy: 0.9459 - precision: 0.0000e+00 - recall: 0.0000e+00 - auc: 0.4999 - prc: 0.0544 - val_loss: 0.4503 - val_tp: 0.0000e+00 - val_fp: 0.0000e+00 - val_tn: 20872.0000 - val_fn: 1222.0000 - val_accuracy: 0.9447 - val_precision: 0.0000e+00 - val_recall: 0.0000e+00 - val_auc: 0.5000 - val_prc: 0.0553\n",
      "Epoch 33/100\n",
      "5524/5524 [==============================] - 84s 15ms/step - loss: 0.9779 - tp: 0.0000e+00 - fp: 0.0000e+00 - tn: 83588.0000 - fn: 4784.0000 - accuracy: 0.9459 - precision: 0.0000e+00 - recall: 0.0000e+00 - auc: 0.5000 - prc: 0.0541 - val_loss: 0.5123 - val_tp: 0.0000e+00 - val_fp: 0.0000e+00 - val_tn: 20872.0000 - val_fn: 1222.0000 - val_accuracy: 0.9447 - val_precision: 0.0000e+00 - val_recall: 0.0000e+00 - val_auc: 0.5000 - val_prc: 0.0553\n",
      "Epoch 34/100\n",
      "5524/5524 [==============================] - 84s 15ms/step - loss: 0.9776 - tp: 1.0000 - fp: 0.0000e+00 - tn: 83588.0000 - fn: 4783.0000 - accuracy: 0.9459 - precision: 1.0000 - recall: 2.0903e-04 - auc: 0.5025 - prc: 0.0547 - val_loss: 0.5023 - val_tp: 0.0000e+00 - val_fp: 0.0000e+00 - val_tn: 20872.0000 - val_fn: 1222.0000 - val_accuracy: 0.9447 - val_precision: 0.0000e+00 - val_recall: 0.0000e+00 - val_auc: 0.5000 - val_prc: 0.0553\n",
      "Epoch 35/100\n",
      "5524/5524 [==============================] - 83s 15ms/step - loss: 0.9774 - tp: 0.0000e+00 - fp: 0.0000e+00 - tn: 83588.0000 - fn: 4784.0000 - accuracy: 0.9459 - precision: 0.0000e+00 - recall: 0.0000e+00 - auc: 0.5066 - prc: 0.0544 - val_loss: 0.4481 - val_tp: 0.0000e+00 - val_fp: 0.0000e+00 - val_tn: 20872.0000 - val_fn: 1222.0000 - val_accuracy: 0.9447 - val_precision: 0.0000e+00 - val_recall: 0.0000e+00 - val_auc: 0.5000 - val_prc: 0.0553\n",
      "Epoch 36/100\n",
      "5524/5524 [==============================] - 84s 15ms/step - loss: 0.9784 - tp: 0.0000e+00 - fp: 0.0000e+00 - tn: 83588.0000 - fn: 4784.0000 - accuracy: 0.9459 - precision: 0.0000e+00 - recall: 0.0000e+00 - auc: 0.4932 - prc: 0.0525 - val_loss: 0.5055 - val_tp: 0.0000e+00 - val_fp: 0.0000e+00 - val_tn: 20872.0000 - val_fn: 1222.0000 - val_accuracy: 0.9447 - val_precision: 0.0000e+00 - val_recall: 0.0000e+00 - val_auc: 0.5000 - val_prc: 0.0553\n",
      "Epoch 37/100\n",
      "5524/5524 [==============================] - 84s 15ms/step - loss: 0.9779 - tp: 0.0000e+00 - fp: 0.0000e+00 - tn: 83588.0000 - fn: 4784.0000 - accuracy: 0.9459 - precision: 0.0000e+00 - recall: 0.0000e+00 - auc: 0.4976 - prc: 0.0532 - val_loss: 0.5244 - val_tp: 0.0000e+00 - val_fp: 0.0000e+00 - val_tn: 20872.0000 - val_fn: 1222.0000 - val_accuracy: 0.9447 - val_precision: 0.0000e+00 - val_recall: 0.0000e+00 - val_auc: 0.5000 - val_prc: 0.0553\n",
      "Epoch 38/100\n",
      "5524/5524 [==============================] - 84s 15ms/step - loss: 0.9777 - tp: 0.0000e+00 - fp: 0.0000e+00 - tn: 83588.0000 - fn: 4784.0000 - accuracy: 0.9459 - precision: 0.0000e+00 - recall: 0.0000e+00 - auc: 0.5029 - prc: 0.0538 - val_loss: 0.4998 - val_tp: 0.0000e+00 - val_fp: 0.0000e+00 - val_tn: 20872.0000 - val_fn: 1222.0000 - val_accuracy: 0.9447 - val_precision: 0.0000e+00 - val_recall: 0.0000e+00 - val_auc: 0.5000 - val_prc: 0.0553\n",
      "Epoch 39/100\n",
      "5524/5524 [==============================] - 85s 15ms/step - loss: 0.9778 - tp: 0.0000e+00 - fp: 0.0000e+00 - tn: 83588.0000 - fn: 4784.0000 - accuracy: 0.9459 - precision: 0.0000e+00 - recall: 0.0000e+00 - auc: 0.5012 - prc: 0.0537 - val_loss: 0.5481 - val_tp: 0.0000e+00 - val_fp: 0.0000e+00 - val_tn: 20872.0000 - val_fn: 1222.0000 - val_accuracy: 0.9447 - val_precision: 0.0000e+00 - val_recall: 0.0000e+00 - val_auc: 0.5000 - val_prc: 0.0553\n",
      "Epoch 40/100\n",
      "5524/5524 [==============================] - 85s 15ms/step - loss: 0.9777 - tp: 0.0000e+00 - fp: 0.0000e+00 - tn: 83588.0000 - fn: 4784.0000 - accuracy: 0.9459 - precision: 0.0000e+00 - recall: 0.0000e+00 - auc: 0.5001 - prc: 0.0539 - val_loss: 0.4364 - val_tp: 0.0000e+00 - val_fp: 0.0000e+00 - val_tn: 20872.0000 - val_fn: 1222.0000 - val_accuracy: 0.9447 - val_precision: 0.0000e+00 - val_recall: 0.0000e+00 - val_auc: 0.5000 - val_prc: 0.0553\n",
      "Epoch 41/100\n",
      "5524/5524 [==============================] - 85s 15ms/step - loss: 0.9773 - tp: 1.0000 - fp: 0.0000e+00 - tn: 83588.0000 - fn: 4783.0000 - accuracy: 0.9459 - precision: 1.0000 - recall: 2.0903e-04 - auc: 0.5037 - prc: 0.0551 - val_loss: 0.4581 - val_tp: 0.0000e+00 - val_fp: 0.0000e+00 - val_tn: 20872.0000 - val_fn: 1222.0000 - val_accuracy: 0.9447 - val_precision: 0.0000e+00 - val_recall: 0.0000e+00 - val_auc: 0.5000 - val_prc: 0.0553\n",
      "Epoch 42/100\n",
      "1577/5524 [=======>......................] - ETA: 52s - loss: 0.9807 - tp: 0.0000e+00 - fp: 0.0000e+00 - tn: 23859.0000 - fn: 1373.0000 - accuracy: 0.9456 - precision: 0.0000e+00 - recall: 0.0000e+00 - auc: 0.4945 - prc: 0.0527"
     ]
    },
    {
     "ename": "KeyboardInterrupt",
     "evalue": "",
     "output_type": "error",
     "traceback": [
      "\u001b[0;31m---------------------------------------------------------------------------\u001b[0m",
      "\u001b[0;31mKeyboardInterrupt\u001b[0m                         Traceback (most recent call last)",
      "\u001b[1;32m/home/data/hussam/sparta/youtube-sim/Embeddings_recommender_system.ipynb Cell 12\u001b[0m in \u001b[0;36m<cell line: 1>\u001b[0;34m()\u001b[0m\n\u001b[0;32m----> <a href='vscode-notebook-cell://ssh-remote%2Btoutatis.cs.uiowa.edu/home/data/hussam/sparta/youtube-sim/Embeddings_recommender_system.ipynb#X13sdnNjb2RlLXJlbW90ZQ%3D%3D?line=0'>1</a>\u001b[0m model\u001b[39m.\u001b[39;49mfit([pXtrain, rXtrain, sXtrain], np\u001b[39m.\u001b[39;49marray(Ytrain), epochs\u001b[39m=\u001b[39;49m\u001b[39m100\u001b[39;49m, batch_size\u001b[39m=\u001b[39;49m\u001b[39m16\u001b[39;49m, validation_split\u001b[39m=\u001b[39;49m\u001b[39m0.2\u001b[39;49m, class_weight\u001b[39m=\u001b[39;49m{\u001b[39m0\u001b[39;49m: \u001b[39m1\u001b[39;49m, \u001b[39m1\u001b[39;49m: \u001b[39m10\u001b[39;49m})\n",
      "File \u001b[0;32m/home/data/hussam/miniconda3/envs/jup/lib/python3.10/site-packages/keras/utils/traceback_utils.py:64\u001b[0m, in \u001b[0;36mfilter_traceback.<locals>.error_handler\u001b[0;34m(*args, **kwargs)\u001b[0m\n\u001b[1;32m     62\u001b[0m filtered_tb \u001b[39m=\u001b[39m \u001b[39mNone\u001b[39;00m\n\u001b[1;32m     63\u001b[0m \u001b[39mtry\u001b[39;00m:\n\u001b[0;32m---> 64\u001b[0m   \u001b[39mreturn\u001b[39;00m fn(\u001b[39m*\u001b[39;49margs, \u001b[39m*\u001b[39;49m\u001b[39m*\u001b[39;49mkwargs)\n\u001b[1;32m     65\u001b[0m \u001b[39mexcept\u001b[39;00m \u001b[39mException\u001b[39;00m \u001b[39mas\u001b[39;00m e:  \u001b[39m# pylint: disable=broad-except\u001b[39;00m\n\u001b[1;32m     66\u001b[0m   filtered_tb \u001b[39m=\u001b[39m _process_traceback_frames(e\u001b[39m.\u001b[39m__traceback__)\n",
      "File \u001b[0;32m/home/data/hussam/miniconda3/envs/jup/lib/python3.10/site-packages/keras/engine/training.py:1384\u001b[0m, in \u001b[0;36mModel.fit\u001b[0;34m(self, x, y, batch_size, epochs, verbose, callbacks, validation_split, validation_data, shuffle, class_weight, sample_weight, initial_epoch, steps_per_epoch, validation_steps, validation_batch_size, validation_freq, max_queue_size, workers, use_multiprocessing)\u001b[0m\n\u001b[1;32m   1377\u001b[0m \u001b[39mwith\u001b[39;00m tf\u001b[39m.\u001b[39mprofiler\u001b[39m.\u001b[39mexperimental\u001b[39m.\u001b[39mTrace(\n\u001b[1;32m   1378\u001b[0m     \u001b[39m'\u001b[39m\u001b[39mtrain\u001b[39m\u001b[39m'\u001b[39m,\n\u001b[1;32m   1379\u001b[0m     epoch_num\u001b[39m=\u001b[39mepoch,\n\u001b[1;32m   1380\u001b[0m     step_num\u001b[39m=\u001b[39mstep,\n\u001b[1;32m   1381\u001b[0m     batch_size\u001b[39m=\u001b[39mbatch_size,\n\u001b[1;32m   1382\u001b[0m     _r\u001b[39m=\u001b[39m\u001b[39m1\u001b[39m):\n\u001b[1;32m   1383\u001b[0m   callbacks\u001b[39m.\u001b[39mon_train_batch_begin(step)\n\u001b[0;32m-> 1384\u001b[0m   tmp_logs \u001b[39m=\u001b[39m \u001b[39mself\u001b[39;49m\u001b[39m.\u001b[39;49mtrain_function(iterator)\n\u001b[1;32m   1385\u001b[0m   \u001b[39mif\u001b[39;00m data_handler\u001b[39m.\u001b[39mshould_sync:\n\u001b[1;32m   1386\u001b[0m     context\u001b[39m.\u001b[39masync_wait()\n",
      "File \u001b[0;32m/home/data/hussam/miniconda3/envs/jup/lib/python3.10/site-packages/tensorflow/python/util/traceback_utils.py:150\u001b[0m, in \u001b[0;36mfilter_traceback.<locals>.error_handler\u001b[0;34m(*args, **kwargs)\u001b[0m\n\u001b[1;32m    148\u001b[0m filtered_tb \u001b[39m=\u001b[39m \u001b[39mNone\u001b[39;00m\n\u001b[1;32m    149\u001b[0m \u001b[39mtry\u001b[39;00m:\n\u001b[0;32m--> 150\u001b[0m   \u001b[39mreturn\u001b[39;00m fn(\u001b[39m*\u001b[39;49margs, \u001b[39m*\u001b[39;49m\u001b[39m*\u001b[39;49mkwargs)\n\u001b[1;32m    151\u001b[0m \u001b[39mexcept\u001b[39;00m \u001b[39mException\u001b[39;00m \u001b[39mas\u001b[39;00m e:\n\u001b[1;32m    152\u001b[0m   filtered_tb \u001b[39m=\u001b[39m _process_traceback_frames(e\u001b[39m.\u001b[39m__traceback__)\n",
      "File \u001b[0;32m/home/data/hussam/miniconda3/envs/jup/lib/python3.10/site-packages/tensorflow/python/eager/def_function.py:915\u001b[0m, in \u001b[0;36mFunction.__call__\u001b[0;34m(self, *args, **kwds)\u001b[0m\n\u001b[1;32m    912\u001b[0m compiler \u001b[39m=\u001b[39m \u001b[39m\"\u001b[39m\u001b[39mxla\u001b[39m\u001b[39m\"\u001b[39m \u001b[39mif\u001b[39;00m \u001b[39mself\u001b[39m\u001b[39m.\u001b[39m_jit_compile \u001b[39melse\u001b[39;00m \u001b[39m\"\u001b[39m\u001b[39mnonXla\u001b[39m\u001b[39m\"\u001b[39m\n\u001b[1;32m    914\u001b[0m \u001b[39mwith\u001b[39;00m OptionalXlaContext(\u001b[39mself\u001b[39m\u001b[39m.\u001b[39m_jit_compile):\n\u001b[0;32m--> 915\u001b[0m   result \u001b[39m=\u001b[39m \u001b[39mself\u001b[39;49m\u001b[39m.\u001b[39;49m_call(\u001b[39m*\u001b[39;49margs, \u001b[39m*\u001b[39;49m\u001b[39m*\u001b[39;49mkwds)\n\u001b[1;32m    917\u001b[0m new_tracing_count \u001b[39m=\u001b[39m \u001b[39mself\u001b[39m\u001b[39m.\u001b[39mexperimental_get_tracing_count()\n\u001b[1;32m    918\u001b[0m without_tracing \u001b[39m=\u001b[39m (tracing_count \u001b[39m==\u001b[39m new_tracing_count)\n",
      "File \u001b[0;32m/home/data/hussam/miniconda3/envs/jup/lib/python3.10/site-packages/tensorflow/python/eager/def_function.py:947\u001b[0m, in \u001b[0;36mFunction._call\u001b[0;34m(self, *args, **kwds)\u001b[0m\n\u001b[1;32m    944\u001b[0m   \u001b[39mself\u001b[39m\u001b[39m.\u001b[39m_lock\u001b[39m.\u001b[39mrelease()\n\u001b[1;32m    945\u001b[0m   \u001b[39m# In this case we have created variables on the first call, so we run the\u001b[39;00m\n\u001b[1;32m    946\u001b[0m   \u001b[39m# defunned version which is guaranteed to never create variables.\u001b[39;00m\n\u001b[0;32m--> 947\u001b[0m   \u001b[39mreturn\u001b[39;00m \u001b[39mself\u001b[39;49m\u001b[39m.\u001b[39;49m_stateless_fn(\u001b[39m*\u001b[39;49margs, \u001b[39m*\u001b[39;49m\u001b[39m*\u001b[39;49mkwds)  \u001b[39m# pylint: disable=not-callable\u001b[39;00m\n\u001b[1;32m    948\u001b[0m \u001b[39melif\u001b[39;00m \u001b[39mself\u001b[39m\u001b[39m.\u001b[39m_stateful_fn \u001b[39mis\u001b[39;00m \u001b[39mnot\u001b[39;00m \u001b[39mNone\u001b[39;00m:\n\u001b[1;32m    949\u001b[0m   \u001b[39m# Release the lock early so that multiple threads can perform the call\u001b[39;00m\n\u001b[1;32m    950\u001b[0m   \u001b[39m# in parallel.\u001b[39;00m\n\u001b[1;32m    951\u001b[0m   \u001b[39mself\u001b[39m\u001b[39m.\u001b[39m_lock\u001b[39m.\u001b[39mrelease()\n",
      "File \u001b[0;32m/home/data/hussam/miniconda3/envs/jup/lib/python3.10/site-packages/tensorflow/python/eager/function.py:2956\u001b[0m, in \u001b[0;36mFunction.__call__\u001b[0;34m(self, *args, **kwargs)\u001b[0m\n\u001b[1;32m   2953\u001b[0m \u001b[39mwith\u001b[39;00m \u001b[39mself\u001b[39m\u001b[39m.\u001b[39m_lock:\n\u001b[1;32m   2954\u001b[0m   (graph_function,\n\u001b[1;32m   2955\u001b[0m    filtered_flat_args) \u001b[39m=\u001b[39m \u001b[39mself\u001b[39m\u001b[39m.\u001b[39m_maybe_define_function(args, kwargs)\n\u001b[0;32m-> 2956\u001b[0m \u001b[39mreturn\u001b[39;00m graph_function\u001b[39m.\u001b[39;49m_call_flat(\n\u001b[1;32m   2957\u001b[0m     filtered_flat_args, captured_inputs\u001b[39m=\u001b[39;49mgraph_function\u001b[39m.\u001b[39;49mcaptured_inputs)\n",
      "File \u001b[0;32m/home/data/hussam/miniconda3/envs/jup/lib/python3.10/site-packages/tensorflow/python/eager/function.py:1853\u001b[0m, in \u001b[0;36mConcreteFunction._call_flat\u001b[0;34m(self, args, captured_inputs, cancellation_manager)\u001b[0m\n\u001b[1;32m   1849\u001b[0m possible_gradient_type \u001b[39m=\u001b[39m gradients_util\u001b[39m.\u001b[39mPossibleTapeGradientTypes(args)\n\u001b[1;32m   1850\u001b[0m \u001b[39mif\u001b[39;00m (possible_gradient_type \u001b[39m==\u001b[39m gradients_util\u001b[39m.\u001b[39mPOSSIBLE_GRADIENT_TYPES_NONE\n\u001b[1;32m   1851\u001b[0m     \u001b[39mand\u001b[39;00m executing_eagerly):\n\u001b[1;32m   1852\u001b[0m   \u001b[39m# No tape is watching; skip to running the function.\u001b[39;00m\n\u001b[0;32m-> 1853\u001b[0m   \u001b[39mreturn\u001b[39;00m \u001b[39mself\u001b[39m\u001b[39m.\u001b[39m_build_call_outputs(\u001b[39mself\u001b[39;49m\u001b[39m.\u001b[39;49m_inference_function\u001b[39m.\u001b[39;49mcall(\n\u001b[1;32m   1854\u001b[0m       ctx, args, cancellation_manager\u001b[39m=\u001b[39;49mcancellation_manager))\n\u001b[1;32m   1855\u001b[0m forward_backward \u001b[39m=\u001b[39m \u001b[39mself\u001b[39m\u001b[39m.\u001b[39m_select_forward_and_backward_functions(\n\u001b[1;32m   1856\u001b[0m     args,\n\u001b[1;32m   1857\u001b[0m     possible_gradient_type,\n\u001b[1;32m   1858\u001b[0m     executing_eagerly)\n\u001b[1;32m   1859\u001b[0m forward_function, args_with_tangents \u001b[39m=\u001b[39m forward_backward\u001b[39m.\u001b[39mforward()\n",
      "File \u001b[0;32m/home/data/hussam/miniconda3/envs/jup/lib/python3.10/site-packages/tensorflow/python/eager/function.py:499\u001b[0m, in \u001b[0;36m_EagerDefinedFunction.call\u001b[0;34m(self, ctx, args, cancellation_manager)\u001b[0m\n\u001b[1;32m    497\u001b[0m \u001b[39mwith\u001b[39;00m _InterpolateFunctionError(\u001b[39mself\u001b[39m):\n\u001b[1;32m    498\u001b[0m   \u001b[39mif\u001b[39;00m cancellation_manager \u001b[39mis\u001b[39;00m \u001b[39mNone\u001b[39;00m:\n\u001b[0;32m--> 499\u001b[0m     outputs \u001b[39m=\u001b[39m execute\u001b[39m.\u001b[39;49mexecute(\n\u001b[1;32m    500\u001b[0m         \u001b[39mstr\u001b[39;49m(\u001b[39mself\u001b[39;49m\u001b[39m.\u001b[39;49msignature\u001b[39m.\u001b[39;49mname),\n\u001b[1;32m    501\u001b[0m         num_outputs\u001b[39m=\u001b[39;49m\u001b[39mself\u001b[39;49m\u001b[39m.\u001b[39;49m_num_outputs,\n\u001b[1;32m    502\u001b[0m         inputs\u001b[39m=\u001b[39;49margs,\n\u001b[1;32m    503\u001b[0m         attrs\u001b[39m=\u001b[39;49mattrs,\n\u001b[1;32m    504\u001b[0m         ctx\u001b[39m=\u001b[39;49mctx)\n\u001b[1;32m    505\u001b[0m   \u001b[39melse\u001b[39;00m:\n\u001b[1;32m    506\u001b[0m     outputs \u001b[39m=\u001b[39m execute\u001b[39m.\u001b[39mexecute_with_cancellation(\n\u001b[1;32m    507\u001b[0m         \u001b[39mstr\u001b[39m(\u001b[39mself\u001b[39m\u001b[39m.\u001b[39msignature\u001b[39m.\u001b[39mname),\n\u001b[1;32m    508\u001b[0m         num_outputs\u001b[39m=\u001b[39m\u001b[39mself\u001b[39m\u001b[39m.\u001b[39m_num_outputs,\n\u001b[0;32m   (...)\u001b[0m\n\u001b[1;32m    511\u001b[0m         ctx\u001b[39m=\u001b[39mctx,\n\u001b[1;32m    512\u001b[0m         cancellation_manager\u001b[39m=\u001b[39mcancellation_manager)\n",
      "File \u001b[0;32m/home/data/hussam/miniconda3/envs/jup/lib/python3.10/site-packages/tensorflow/python/eager/execute.py:54\u001b[0m, in \u001b[0;36mquick_execute\u001b[0;34m(op_name, num_outputs, inputs, attrs, ctx, name)\u001b[0m\n\u001b[1;32m     52\u001b[0m \u001b[39mtry\u001b[39;00m:\n\u001b[1;32m     53\u001b[0m   ctx\u001b[39m.\u001b[39mensure_initialized()\n\u001b[0;32m---> 54\u001b[0m   tensors \u001b[39m=\u001b[39m pywrap_tfe\u001b[39m.\u001b[39;49mTFE_Py_Execute(ctx\u001b[39m.\u001b[39;49m_handle, device_name, op_name,\n\u001b[1;32m     55\u001b[0m                                       inputs, attrs, num_outputs)\n\u001b[1;32m     56\u001b[0m \u001b[39mexcept\u001b[39;00m core\u001b[39m.\u001b[39m_NotOkStatusException \u001b[39mas\u001b[39;00m e:\n\u001b[1;32m     57\u001b[0m   \u001b[39mif\u001b[39;00m name \u001b[39mis\u001b[39;00m \u001b[39mnot\u001b[39;00m \u001b[39mNone\u001b[39;00m:\n",
      "\u001b[0;31mKeyboardInterrupt\u001b[0m: "
     ]
    }
   ],
   "source": [
    "model.fit([pXtrain, rXtrain, sXtrain], np.array(Ytrain), epochs=100, batch_size=16, validation_split=0.2, class_weight={0: 1, 1: 10})"
   ]
  },
  {
   "cell_type": "code",
   "execution_count": 111,
   "metadata": {},
   "outputs": [],
   "source": [
    "# save model\n",
    "\n",
    "model.save('model.h5')"
   ]
  },
  {
   "cell_type": "code",
   "execution_count": 57,
   "metadata": {},
   "outputs": [
    {
     "name": "stdout",
     "output_type": "stream",
     "text": [
      "3453/3453 [==============================] - 20s 6ms/step - loss: 0.0216 - auc: 0.9978\n"
     ]
    },
    {
     "data": {
      "text/plain": [
       "[0.021559158340096474, 0.9977724552154541]"
      ]
     },
     "execution_count": 57,
     "metadata": {},
     "output_type": "execute_result"
    }
   ],
   "source": [
    "model.evaluate([pXtrain, rXtrain, sXtrain], np.array(Ytrain))"
   ]
  },
  {
   "cell_type": "code",
   "execution_count": 58,
   "metadata": {},
   "outputs": [
    {
     "data": {
      "text/plain": [
       "0.9390917332893761"
      ]
     },
     "execution_count": 58,
     "metadata": {},
     "output_type": "execute_result"
    }
   ],
   "source": [
    "from sklearn.metrics import f1_score\n",
    "y_pred = model.predict([pXtrain, rXtrain, sXtrain])\n",
    "y_pred = np.round(y_pred)\n",
    "f1_score(Ytrain, y_pred)"
   ]
  },
  {
   "cell_type": "code",
   "execution_count": 110,
   "metadata": {
    "colab": {
     "base_uri": "https://localhost:8080/"
    },
    "id": "MyTwxe4qoQG-",
    "outputId": "fa203ada-4d06-4834-ff93-581ca0aef9e2"
   },
   "outputs": [
    {
     "data": {
      "text/plain": [
       "0.20541852001617467"
      ]
     },
     "execution_count": 110,
     "metadata": {},
     "output_type": "execute_result"
    }
   ],
   "source": [
    "# model.evaluate([pXtest, rXtest, sXtest], np.array(Ytest))\n",
    "# get f1 score\n",
    "from sklearn.metrics import f1_score\n",
    "y_pred = model.predict([pXtest, rXtest, sXtest])\n",
    "y_pred = np.round(y_pred)\n",
    "f1_score(Ytest, y_pred)\n"
   ]
  },
  {
   "cell_type": "code",
   "execution_count": 69,
   "metadata": {},
   "outputs": [
    {
     "data": {
      "text/plain": [
       "<matplotlib.legend.Legend at 0x7fcb5be55690>"
      ]
     },
     "execution_count": 69,
     "metadata": {},
     "output_type": "execute_result"
    },
    {
     "data": {
      "image/png": "[encoded data removed]",
      "text/plain": [
       "<Figure size 640x480 with 1 Axes>"
      ]
     },
     "metadata": {},
     "output_type": "display_data"
    }
   ],
   "source": [
    "# plot auc\n",
    "\n",
    "from sklearn.metrics import roc_curve, auc\n",
    "import matplotlib.pyplot as plt\n",
    "\n",
    "fpr, tpr, thresholds = roc_curve(Ytest, y_pred)\n",
    "roc_auc = auc(fpr, tpr)\n",
    "\n",
    "plt.figure()\n",
    "plt.plot(fpr, tpr, color='darkorange',\n",
    "            lw=2, label='ROC curve (area = %0.2f)' % roc_auc)\n",
    "plt.plot([0, 1], [0, 1], color='navy',\n",
    "            lw=2, linestyle='--')   \n",
    "plt.xlim([0.0, 1.0])\n",
    "plt.ylim([0.0, 1.05])\n",
    "plt.xlabel('False Positive Rate', fontsize=16)\n",
    "plt.ylabel('True Positive Rate', fontsize=16)\n",
    "plt.title('Receiver operating characteristic example', fontsize=16)\n",
    "plt.legend(loc=\"lower right\")\n",
    "\n",
    "# plt.savefig('auc.png', dpi=300)"
   ]
  },
  {
   "cell_type": "code",
   "execution_count": 68,
   "metadata": {},
   "outputs": [
    {
     "name": "stdout",
     "output_type": "stream",
     "text": [
      "No Skill: ROC AUC=0.500\n",
      "Model: ROC AUC=0.594\n"
     ]
    },
    {
     "data": {
      "image/png": "[encoded data removed]",
      "text/plain": [
       "<Figure size 640x480 with 1 Axes>"
      ]
     },
     "metadata": {},
     "output_type": "display_data"
    }
   ],
   "source": [
    "from sklearn.metrics import roc_curve\n",
    "from sklearn.metrics import roc_auc_score\n",
    "from matplotlib import pyplot\n",
    "\n",
    "\n",
    "# plot roc\n",
    "ns_probs = [0 for _ in range(len(Ytest))]\n",
    "lr_probs = model.predict([pXtest, rXtest, sXtest])\n",
    "# keep probabilities for the positive outcome only\n",
    "lr_probs = lr_probs[:, 0]\n",
    "# calculate scores\n",
    "ns_auc = roc_auc_score(Ytest, ns_probs)\n",
    "lr_auc = roc_auc_score(Ytest, lr_probs)\n",
    "# summarize scores\n",
    "print('No Skill: ROC AUC=%.3f' % (ns_auc))\n",
    "print('Model: ROC AUC=%.3f' % (lr_auc))\n",
    "# calculate roc curves\n",
    "ns_fpr, ns_tpr, _ = roc_curve(Ytest, ns_probs)\n",
    "lr_fpr, lr_tpr, _ = roc_curve(Ytest, lr_probs)\n",
    "# plot the roc curve for the model\n",
    "pyplot.plot(ns_fpr, ns_tpr, linestyle='--', label='No Skill')\n",
    "pyplot.plot(lr_fpr, lr_tpr, marker='.', label='Model')\n",
    "# axis labels\n",
    "pyplot.xlabel('False Positive Rate')\n",
    "pyplot.ylabel('True Positive Rate')\n",
    "# show the legend\n",
    "pyplot.legend()\n",
    "pyplot.savefig('roc.png')\n",
    "# show the plot\n",
    "pyplot.show()"
   ]
  },
  {
   "cell_type": "code",
   "execution_count": null,
   "metadata": {
    "colab": {
     "base_uri": "https://localhost:8080/"
    },
    "id": "zW1Ki0-vTpbm",
    "outputId": "776daf78-e35f-4a04-b126-ee2f10716bb3"
   },
   "outputs": [
    {
     "name": "stdout",
     "output_type": "stream",
     "text": [
      "(None, 768, 1) (None, 768, 10) (None, 768, 1)\n",
      "(None, 1, 10)\n"
     ]
    }
   ],
   "source": [
    "import tensorflow as tf\n",
    "\n",
    "playing_input = tf.keras.layers.Input(shape=(768,1), name=\"playing\")\n",
    "recommendation_input = tf.keras.layers.Input(shape=(768,10), name=\"recommendation\")\n",
    "selection_input = tf.keras.layers.Input(shape=(768,1), name=\"selection\")\n",
    "print(playing_input.shape, recommendation_input.shape, selection_input.shape)\n",
    "\n",
    "playing_recommendation_dot = tf.keras.layers.Dot(axes=1)([playing_input, recommendation_input])\n",
    "print(playing_recommendation_dot.shape)\n",
    "flatten = tf.keras.layers.Flatten()(playing_recommendation_dot)\n",
    "\n",
    "dense = tf.keras.layers.Dense(1, activation=\"relu\")()\n",
    "\n",
    "# model input/output definition\n",
    "model = tf.keras.Model(inputs=[playing_input, recommendation_input, selection_input], outputs=flatten)\n",
    "\n",
    "model.compile(loss=\"mse\", metrics=[tf.keras.metrics.MeanAbsoluteError()])"
   ]
  },
  {
   "cell_type": "code",
   "execution_count": null,
   "metadata": {
    "colab": {
     "base_uri": "https://localhost:8080/"
    },
    "id": "yzSflAVxRGyt",
    "outputId": "776daf78-e35f-4a04-b126-ee2f10716bb3"
   },
   "outputs": [
    {
     "name": "stdout",
     "output_type": "stream",
     "text": [
      "(None, 768, 1) (None, 768, 10) (None, 768, 1)\n",
      "(None, 1, 10)\n"
     ]
    }
   ],
   "source": [
    "import tensorflow as tf\n",
    "\n",
    "playing_input = tf.keras.layers.Input(shape=(768,1), name=\"playing\")\n",
    "recommendation_input = tf.keras.layers.Input(shape=(768,10), name=\"recommendation\")\n",
    "selection_input = tf.keras.layers.Input(shape=(768,1), name=\"selection\")\n",
    "print(playing_input.shape, recommendation_input.shape, selection_input.shape)\n",
    "\n",
    "playing_recommendation_dot = tf.keras.layers.Dot(axes=1)([playing_input, recommendation_input])\n",
    "print(playing_recommendation_dot.shape)\n",
    "flatten = tf.keras.layers.Flatten()(playing_recommendation_dot)\n",
    "\n",
    "dense = tf.keras.layers.Dense(1, activation=\"relu\")()\n",
    "\n",
    "# model input/output definition\n",
    "model = tf.keras.Model(inputs=[playing_input, recommendation_input, selection_input], outputs=flatten)\n",
    "\n",
    "model.compile(loss=\"mse\", metrics=[tf.keras.metrics.MeanAbsoluteError()])"
   ]
  },
  {
   "cell_type": "code",
   "execution_count": 97,
   "metadata": {
    "colab": {
     "base_uri": "https://localhost:8080/"
    },
    "id": "yhIe3f4iFXI2",
    "outputId": "776daf78-e35f-4a04-b126-ee2f10716bb3"
   },
   "outputs": [
    {
     "name": "stdout",
     "output_type": "stream",
     "text": [
      "(None, 768, 1) (None, 768, 10) (None, 768, 1)\n",
      "(None, 1, 10)\n"
     ]
    }
   ],
   "source": [
    "import tensorflow as tf\n",
    "\n",
    "playing_input = tf.keras.layers.Input(shape=(768,1), name=\"playing\")\n",
    "recommendation_input = tf.keras.layers.Input(shape=(768,10), name=\"recommendation\")\n",
    "selection_input = tf.keras.layers.Input(shape=(768,1), name=\"selection\")\n",
    "print(playing_input.shape, recommendation_input.shape, selection_input.shape)\n",
    "\n",
    "playing_recommendation_dot = tf.keras.layers.Dot(axes=1)([playing_input, recommendation_input])\n",
    "print(playing_recommendation_dot.shape)\n",
    "flatten = tf.keras.layers.Flatten()(playing_recommendation_dot)\n",
    "\n",
    "dense = tf.keras.layers.Dense(1, activation=\"relu\")()\n",
    "\n",
    "# model input/output definition\n",
    "model = tf.keras.Model(inputs=[playing_input, recommendation_input, selection_input], outputs=flatten)\n",
    "\n",
    "model.compile(loss=\"mse\", metrics=[tf.keras.metrics.MeanAbsoluteError()])"
   ]
  },
  {
   "cell_type": "code",
   "execution_count": 18,
   "metadata": {
    "colab": {
     "base_uri": "https://localhost:8080/"
    },
    "id": "r0HgUwLAJo7z",
    "outputId": "93cafa69-e3df-410a-912d-a673a30cb99b"
   },
   "outputs": [
    {
     "data": {
      "text/plain": [
       "(768,)"
      ]
     },
     "execution_count": 18,
     "metadata": {},
     "output_type": "execute_result"
    }
   ],
   "source": [
    "video_sessions[0]['video'].title_emb.shape"
   ]
  },
  {
   "cell_type": "code",
   "execution_count": 46,
   "metadata": {
    "colab": {
     "base_uri": "https://localhost:8080/"
    },
    "id": "T-BuI822JPaH",
    "outputId": "a7a10e74-5e85-41bc-96e1-a5cf99481674"
   },
   "outputs": [
    {
     "name": "stdout",
     "output_type": "stream",
     "text": [
      "(20, 1, 10)\n",
      "(20, 2, 10)\n"
     ]
    }
   ],
   "source": [
    "x = np.arange(200).reshape(-1, 1, 10)\n",
    "print(x.shape)\n",
    "y = np.arange(100, 500).reshape(-1, 2, 10)\n",
    "print(y.shape)"
   ]
  },
  {
   "cell_type": "code",
   "execution_count": 49,
   "metadata": {
    "colab": {
     "base_uri": "https://localhost:8080/",
     "height": 398
    },
    "id": "GN39O-SuJiOB",
    "outputId": "ef6e559c-ffbb-47e9-9ee3-a2e98427274c"
   },
   "outputs": [
    {
     "ename": "ValueError",
     "evalue": "ignored",
     "output_type": "error",
     "traceback": [
      "\u001b[0;31m---------------------------------------------------------------------------\u001b[0m",
      "\u001b[0;31mValueError\u001b[0m                                Traceback (most recent call last)",
      "\u001b[0;32m<ipython-input-49-4ebe1111ef6c>\u001b[0m in \u001b[0;36m<cell line: 1>\u001b[0;34m()\u001b[0m\n\u001b[0;32m----> 1\u001b[0;31m \u001b[0mtf\u001b[0m\u001b[0;34m.\u001b[0m\u001b[0mkeras\u001b[0m\u001b[0;34m.\u001b[0m\u001b[0mlayers\u001b[0m\u001b[0;34m.\u001b[0m\u001b[0mDot\u001b[0m\u001b[0;34m(\u001b[0m\u001b[0maxes\u001b[0m\u001b[0;34m=\u001b[0m\u001b[0;36m0\u001b[0m\u001b[0;34m)\u001b[0m\u001b[0;34m(\u001b[0m\u001b[0;34m[\u001b[0m\u001b[0mx\u001b[0m\u001b[0;34m,\u001b[0m \u001b[0my\u001b[0m\u001b[0;34m]\u001b[0m\u001b[0;34m)\u001b[0m\u001b[0;34m\u001b[0m\u001b[0;34m\u001b[0m\u001b[0m\n\u001b[0m",
      "\u001b[0;32m/usr/local/lib/python3.10/dist-packages/keras/utils/traceback_utils.py\u001b[0m in \u001b[0;36merror_handler\u001b[0;34m(*args, **kwargs)\u001b[0m\n\u001b[1;32m     68\u001b[0m             \u001b[0;31m# To get the full stack trace, call:\u001b[0m\u001b[0;34m\u001b[0m\u001b[0;34m\u001b[0m\u001b[0m\n\u001b[1;32m     69\u001b[0m             \u001b[0;31m# `tf.debugging.disable_traceback_filtering()`\u001b[0m\u001b[0;34m\u001b[0m\u001b[0;34m\u001b[0m\u001b[0m\n\u001b[0;32m---> 70\u001b[0;31m             \u001b[0;32mraise\u001b[0m \u001b[0me\u001b[0m\u001b[0;34m.\u001b[0m\u001b[0mwith_traceback\u001b[0m\u001b[0;34m(\u001b[0m\u001b[0mfiltered_tb\u001b[0m\u001b[0;34m)\u001b[0m \u001b[0;32mfrom\u001b[0m \u001b[0;32mNone\u001b[0m\u001b[0;34m\u001b[0m\u001b[0;34m\u001b[0m\u001b[0m\n\u001b[0m\u001b[1;32m     71\u001b[0m         \u001b[0;32mfinally\u001b[0m\u001b[0;34m:\u001b[0m\u001b[0;34m\u001b[0m\u001b[0;34m\u001b[0m\u001b[0m\n\u001b[1;32m     72\u001b[0m             \u001b[0;32mdel\u001b[0m \u001b[0mfiltered_tb\u001b[0m\u001b[0;34m\u001b[0m\u001b[0;34m\u001b[0m\u001b[0m\n",
      "\u001b[0;32m/usr/local/lib/python3.10/dist-packages/keras/backend.py\u001b[0m in \u001b[0;36mbatch_dot\u001b[0;34m(x, y, axes)\u001b[0m\n\u001b[1;32m   2572\u001b[0m     \u001b[0;31m# sanity checks\u001b[0m\u001b[0;34m\u001b[0m\u001b[0;34m\u001b[0m\u001b[0m\n\u001b[1;32m   2573\u001b[0m     \u001b[0;32mif\u001b[0m \u001b[0;36m0\u001b[0m \u001b[0;32min\u001b[0m \u001b[0maxes\u001b[0m\u001b[0;34m:\u001b[0m\u001b[0;34m\u001b[0m\u001b[0;34m\u001b[0m\u001b[0m\n\u001b[0;32m-> 2574\u001b[0;31m         raise ValueError(\n\u001b[0m\u001b[1;32m   2575\u001b[0m             \u001b[0;34m\"Cannot perform batch_dot over axis 0. \"\u001b[0m\u001b[0;34m\u001b[0m\u001b[0;34m\u001b[0m\u001b[0m\n\u001b[1;32m   2576\u001b[0m             \u001b[0;34m\"If your inputs are not batched, \"\u001b[0m\u001b[0;34m\u001b[0m\u001b[0;34m\u001b[0m\u001b[0m\n",
      "\u001b[0;31mValueError\u001b[0m: Exception encountered when calling layer 'dot_14' (type Dot).\n\nCannot perform batch_dot over axis 0. If your inputs are not batched, add a dummy batch dimension to your inputs using K.expand_dims(x, 0)\n\nCall arguments received by layer 'dot_14' (type Dot):\n  • inputs=['tf.Tensor(shape=(20, 1, 10), dtype=int64)', 'tf.Tensor(shape=(20, 2, 10), dtype=int64)']"
     ]
    }
   ],
   "source": [
    "tf.keras.layers.Dot(axes=0)([x, y])"
   ]
  },
  {
   "cell_type": "code",
   "execution_count": 56,
   "metadata": {
    "colab": {
     "base_uri": "https://localhost:8080/",
     "height": 381
    },
    "id": "p_U3mahJKLHd",
    "outputId": "5b81f24f-f007-4e78-b1a3-a924224c2fd0"
   },
   "outputs": [
    {
     "ename": "ValueError",
     "evalue": "ignored",
     "output_type": "error",
     "traceback": [
      "\u001b[0;31m---------------------------------------------------------------------------\u001b[0m",
      "\u001b[0;31mValueError\u001b[0m                                Traceback (most recent call last)",
      "\u001b[0;32m<ipython-input-56-6447b19a72a3>\u001b[0m in \u001b[0;36m<cell line: 10>\u001b[0;34m()\u001b[0m\n\u001b[1;32m      8\u001b[0m \u001b[0;31m# print(\"b\")\u001b[0m\u001b[0;34m\u001b[0m\u001b[0;34m\u001b[0m\u001b[0m\n\u001b[1;32m      9\u001b[0m \u001b[0;31m# print(val2)\u001b[0m\u001b[0;34m\u001b[0m\u001b[0;34m\u001b[0m\u001b[0m\n\u001b[0;32m---> 10\u001b[0;31m \u001b[0mout\u001b[0m \u001b[0;34m=\u001b[0m \u001b[0mDot\u001b[0m\u001b[0;34m(\u001b[0m\u001b[0maxes\u001b[0m \u001b[0;34m=\u001b[0m \u001b[0;36m2\u001b[0m\u001b[0;34m)\u001b[0m\u001b[0;34m(\u001b[0m\u001b[0;34m[\u001b[0m\u001b[0ma\u001b[0m\u001b[0;34m,\u001b[0m\u001b[0mb\u001b[0m\u001b[0;34m]\u001b[0m\u001b[0;34m)\u001b[0m\u001b[0;34m\u001b[0m\u001b[0;34m\u001b[0m\u001b[0m\n\u001b[0m\u001b[1;32m     11\u001b[0m \u001b[0mprint\u001b[0m\u001b[0;34m(\u001b[0m\u001b[0mout\u001b[0m\u001b[0;34m.\u001b[0m\u001b[0mshape\u001b[0m\u001b[0;34m)\u001b[0m\u001b[0;34m\u001b[0m\u001b[0;34m\u001b[0m\u001b[0m\n\u001b[1;32m     12\u001b[0m \u001b[0mprint\u001b[0m\u001b[0;34m(\u001b[0m\u001b[0;34m\"DOT\"\u001b[0m\u001b[0;34m)\u001b[0m\u001b[0;34m\u001b[0m\u001b[0;34m\u001b[0m\u001b[0m\n",
      "\u001b[0;32m/usr/local/lib/python3.10/dist-packages/keras/utils/traceback_utils.py\u001b[0m in \u001b[0;36merror_handler\u001b[0;34m(*args, **kwargs)\u001b[0m\n\u001b[1;32m     68\u001b[0m             \u001b[0;31m# To get the full stack trace, call:\u001b[0m\u001b[0;34m\u001b[0m\u001b[0;34m\u001b[0m\u001b[0m\n\u001b[1;32m     69\u001b[0m             \u001b[0;31m# `tf.debugging.disable_traceback_filtering()`\u001b[0m\u001b[0;34m\u001b[0m\u001b[0;34m\u001b[0m\u001b[0m\n\u001b[0;32m---> 70\u001b[0;31m             \u001b[0;32mraise\u001b[0m \u001b[0me\u001b[0m\u001b[0;34m.\u001b[0m\u001b[0mwith_traceback\u001b[0m\u001b[0;34m(\u001b[0m\u001b[0mfiltered_tb\u001b[0m\u001b[0;34m)\u001b[0m \u001b[0;32mfrom\u001b[0m \u001b[0;32mNone\u001b[0m\u001b[0;34m\u001b[0m\u001b[0;34m\u001b[0m\u001b[0m\n\u001b[0m\u001b[1;32m     71\u001b[0m         \u001b[0;32mfinally\u001b[0m\u001b[0;34m:\u001b[0m\u001b[0;34m\u001b[0m\u001b[0;34m\u001b[0m\u001b[0m\n\u001b[1;32m     72\u001b[0m             \u001b[0;32mdel\u001b[0m \u001b[0mfiltered_tb\u001b[0m\u001b[0;34m\u001b[0m\u001b[0;34m\u001b[0m\u001b[0m\n",
      "\u001b[0;32m/usr/local/lib/python3.10/dist-packages/keras/layers/merging/dot.py\u001b[0m in \u001b[0;36mbuild\u001b[0;34m(self, input_shape)\u001b[0m\n\u001b[1;32m    134\u001b[0m             \u001b[0maxes\u001b[0m \u001b[0;34m=\u001b[0m \u001b[0mself\u001b[0m\u001b[0;34m.\u001b[0m\u001b[0maxes\u001b[0m\u001b[0;34m\u001b[0m\u001b[0;34m\u001b[0m\u001b[0m\n\u001b[1;32m    135\u001b[0m         \u001b[0;32mif\u001b[0m \u001b[0mshape1\u001b[0m\u001b[0;34m[\u001b[0m\u001b[0maxes\u001b[0m\u001b[0;34m[\u001b[0m\u001b[0;36m0\u001b[0m\u001b[0;34m]\u001b[0m\u001b[0;34m]\u001b[0m \u001b[0;34m!=\u001b[0m \u001b[0mshape2\u001b[0m\u001b[0;34m[\u001b[0m\u001b[0maxes\u001b[0m\u001b[0;34m[\u001b[0m\u001b[0;36m1\u001b[0m\u001b[0;34m]\u001b[0m\u001b[0;34m]\u001b[0m\u001b[0;34m:\u001b[0m\u001b[0;34m\u001b[0m\u001b[0;34m\u001b[0m\u001b[0m\n\u001b[0;32m--> 136\u001b[0;31m             raise ValueError(\n\u001b[0m\u001b[1;32m    137\u001b[0m                 \u001b[0;34m\"Incompatible input shapes: \"\u001b[0m\u001b[0;34m\u001b[0m\u001b[0;34m\u001b[0m\u001b[0m\n\u001b[1;32m    138\u001b[0m                 \u001b[0;34mf\"axis values {shape1[axes[0]]} (at axis {axes[0]}) != \"\u001b[0m\u001b[0;34m\u001b[0m\u001b[0;34m\u001b[0m\u001b[0m\n",
      "\u001b[0;31mValueError\u001b[0m: Incompatible input shapes: axis values 3 (at axis 2) != 4 (at axis 2). Full input shapes: (2, 2, 3), (2, 3, 4)"
     ]
    }
   ],
   "source": [
    "from tensorflow.keras.layers import Dot\n",
    "\n",
    "b = np.random.randint(2, size=(2, 3, 4))\n",
    "a = np.random.randint(2, size=(2, 2, 3))\n",
    "# print(\"a\")\n",
    "# print(val)\n",
    "# print(\"b\")\n",
    "# print(val2)\n",
    "out = Dot(axes = 2)([a,b])\n",
    "print(out.shape)\n",
    "print(\"DOT\")\n",
    "print(K.eval(out))"
   ]
  },
  {
   "cell_type": "code",
   "execution_count": 89,
   "metadata": {
    "colab": {
     "base_uri": "https://localhost:8080/"
    },
    "id": "GoCN1uBOLlrA",
    "outputId": "9bb29f09-94ab-4d9c-ad18-54e4e596d3c2"
   },
   "outputs": [
    {
     "name": "stdout",
     "output_type": "stream",
     "text": [
      "(1, 5, 10)\n",
      "(1, 5, 1)\n"
     ]
    },
    {
     "data": {
      "text/plain": [
       "<tf.Tensor: shape=(1, 1, 10), dtype=int64, numpy=array([[[1300, 1360, 1420, 1480, 1540, 1600, 1660, 1720, 1780, 1840]]])>"
      ]
     },
     "execution_count": 89,
     "metadata": {},
     "output_type": "execute_result"
    }
   ],
   "source": [
    "x = np.arange(50).reshape(1, 5, 10)\n",
    "print(x.shape)\n",
    "y = np.arange(10, 15).reshape(1, 5, 1)\n",
    "print(y.shape)\n",
    "tf.keras.layers.Dot(axes=1)([y, x])"
   ]
  },
  {
   "cell_type": "code",
   "execution_count": 60,
   "metadata": {
    "colab": {
     "base_uri": "https://localhost:8080/"
    },
    "id": "RRqHD_3QMaNn",
    "outputId": "ba8c7331-42c1-41d5-c505-359aeb41065c"
   },
   "outputs": [
    {
     "data": {
      "text/plain": [
       "array([[[0, 1],\n",
       "        [2, 3],\n",
       "        [4, 5],\n",
       "        [6, 7],\n",
       "        [8, 9]]])"
      ]
     },
     "execution_count": 60,
     "metadata": {},
     "output_type": "execute_result"
    }
   ],
   "source": [
    "x"
   ]
  },
  {
   "cell_type": "code",
   "execution_count": 61,
   "metadata": {
    "colab": {
     "base_uri": "https://localhost:8080/"
    },
    "id": "o40rgqmVMfr6",
    "outputId": "4bd61fa2-8324-4324-b003-7c6f0a9a7c12"
   },
   "outputs": [
    {
     "data": {
      "text/plain": [
       "array([[[10, 11, 12, 13, 14],\n",
       "        [15, 16, 17, 18, 19]]])"
      ]
     },
     "execution_count": 61,
     "metadata": {},
     "output_type": "execute_result"
    }
   ],
   "source": [
    "y"
   ]
  },
  {
   "cell_type": "code",
   "execution_count": null,
   "metadata": {
    "id": "NWwmFw8DMgPz"
   },
   "outputs": [],
   "source": []
  }
 ],
 "metadata": {
  "accelerator": "GPU",
  "colab": {
   "gpuType": "T4",
   "provenance": []
  },
  "kernelspec": {
   "display_name": "Python 3 (ipykernel)",
   "language": "python",
   "name": "python3"
  },
  "language_info": {
   "codemirror_mode": {
    "name": "ipython",
    "version": 3
   },
   "file_extension": ".py",
   "mimetype": "text/x-python",
   "name": "python",
   "nbconvert_exporter": "python",
   "pygments_lexer": "ipython3",
   "version": "3.6.9"
  }
 },
 "nbformat": 4,
 "nbformat_minor": 1
}
