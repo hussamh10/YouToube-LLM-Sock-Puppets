{
 "cells": [
  {
   "cell_type": "code",
   "execution_count": 28,
   "metadata": {},
   "outputs": [],
   "source": [
    "import numpy as np\n",
    "import pandas as pd\n",
    "import pickle as pkl\n",
    "from tqdm.notebook import tqdm as tqdm"
   ]
  },
  {
   "cell_type": "code",
   "execution_count": 29,
   "metadata": {},
   "outputs": [],
   "source": [
    "empty_desc = np.zeros(768)\n",
    "empty_title = np.zeros(768)\n",
    "\n",
    "class Video:\n",
    "    def __init__(self, uid): \n",
    "        self.uid = uid\n",
    "        if uid not in video_db:\n",
    "            self.title, self.tags, self.description, self.category, self.channel_title = None, None, None, None, None\n",
    "            self.title_emb, self.tags_emb, self.description_emb = empty_title, [], empty_desc\n",
    "            return\n",
    "\n",
    "        vs = video_db[uid]['snippet']\n",
    "        self.title = vs['title']\n",
    "        self.tags = vs.get('tags', [])\n",
    "        self.description = vs['description']\n",
    "        self.category = vs['categoryId']\n",
    "        self.channel_title = vs['channelTitle']\n",
    "        \n",
    "        self.title_emb = video_db[uid]['embeddings']['title']\n",
    "        self.tags_emb = video_db[uid]['embeddings']['tags']\n",
    "        self.description_emb = video_db[uid]['embeddings']['description']\n",
    "\n",
    "    def __repr__(self):\n",
    "        if self.title is None:\n",
    "            return 'Video not found'\n",
    "        return self.title\n",
    "    \n",
    "    def __str__(self):\n",
    "        if self.title is None:\n",
    "            return 'Video not found'\n",
    "        return self.title\n",
    "    \n",
    "    def __hash__(self):\n",
    "        return hash(self.uid)\n",
    "    \n",
    "def get_id(url):\n",
    "    if len(url.split('v=')) <= 1:\n",
    "        return None\n",
    "    url = url.split('v=')[1]\n",
    "    url = url.split('&')[0]\n",
    "    return url\n",
    "\n",
    "def decode_upnext(urls):\n",
    "    urls = eval(urls.decode('utf-8'))\n",
    "    ids = []\n",
    "    for u in urls:\n",
    "        ids.append(get_id(u))\n",
    "    return ids"
   ]
  },
  {
   "cell_type": "code",
   "execution_count": 30,
   "metadata": {},
   "outputs": [],
   "source": [
    "sessions = pd.read_pickle('all_sessions')\n",
    "video_db = pd.read_pickle('video-dump-with-embeddings+transcript')"
   ]
  },
  {
   "cell_type": "code",
   "execution_count": 31,
   "metadata": {},
   "outputs": [
    {
     "data": {
      "application/vnd.jupyter.widget-view+json": {
       "model_id": "097c8583ccfe40b3859eb5f84e64ef79",
       "version_major": 2,
       "version_minor": 0
      },
      "text/plain": [
       "  0%|          | 0/6762 [00:00<?, ?it/s]"
      ]
     },
     "metadata": {},
     "output_type": "display_data"
    },
    {
     "data": {
      "text/html": [
       "<div>\n",
       "<style scoped>\n",
       "    .dataframe tbody tr th:only-of-type {\n",
       "        vertical-align: middle;\n",
       "    }\n",
       "\n",
       "    .dataframe tbody tr th {\n",
       "        vertical-align: top;\n",
       "    }\n",
       "\n",
       "    .dataframe thead th {\n",
       "        text-align: right;\n",
       "    }\n",
       "</style>\n",
       "<table border=\"1\" class=\"dataframe\">\n",
       "  <thead>\n",
       "    <tr style=\"text-align: right;\">\n",
       "      <th></th>\n",
       "      <th>video</th>\n",
       "      <th>upnext</th>\n",
       "      <th>selected</th>\n",
       "    </tr>\n",
       "  </thead>\n",
       "  <tbody>\n",
       "    <tr>\n",
       "      <th>0</th>\n",
       "      <td>489B7RNudAQ</td>\n",
       "      <td>[ZOZyo6YOAu4, VtYi8AR11WM, Q32BGQmVLJ0, h1BsKI...</td>\n",
       "      <td>Q32BGQmVLJ0</td>\n",
       "    </tr>\n",
       "    <tr>\n",
       "      <th>1</th>\n",
       "      <td>jnXeE4TY2so</td>\n",
       "      <td>[MeH-4wEuvZs, h1BsKIP4uYM, dqbyJIKLxok, VX4n8w...</td>\n",
       "      <td>HtyVbMZegn4</td>\n",
       "    </tr>\n",
       "    <tr>\n",
       "      <th>2</th>\n",
       "      <td>NQPNRwpGWXc</td>\n",
       "      <td>[2PopspP_DbI, VPrrIGxjubI, 4s2ynUAJ5ZU, dEk8Hb...</td>\n",
       "      <td>VPrrIGxjubI</td>\n",
       "    </tr>\n",
       "    <tr>\n",
       "      <th>3</th>\n",
       "      <td>8tsnuvfMmtc</td>\n",
       "      <td>[4iYl9oSjffQ, mTHedRdHJgk, aeWyp2vXxqA, 6S7VkI...</td>\n",
       "      <td>aeWyp2vXxqA</td>\n",
       "    </tr>\n",
       "    <tr>\n",
       "      <th>4</th>\n",
       "      <td>LcW4MCa5YCQ</td>\n",
       "      <td>[-TgFz3qmE9U, 9scfWN6aXaU, O7VaXlMvAvk, h1BsKI...</td>\n",
       "      <td>z0Xpye7Ltlo</td>\n",
       "    </tr>\n",
       "  </tbody>\n",
       "</table>\n",
       "</div>"
      ],
      "text/plain": [
       "         video                                             upnext     selected\n",
       "0  489B7RNudAQ  [ZOZyo6YOAu4, VtYi8AR11WM, Q32BGQmVLJ0, h1BsKI...  Q32BGQmVLJ0\n",
       "1  jnXeE4TY2so  [MeH-4wEuvZs, h1BsKIP4uYM, dqbyJIKLxok, VX4n8w...  HtyVbMZegn4\n",
       "2  NQPNRwpGWXc  [2PopspP_DbI, VPrrIGxjubI, 4s2ynUAJ5ZU, dEk8Hb...  VPrrIGxjubI\n",
       "3  8tsnuvfMmtc  [4iYl9oSjffQ, mTHedRdHJgk, aeWyp2vXxqA, 6S7VkI...  aeWyp2vXxqA\n",
       "4  LcW4MCa5YCQ  [-TgFz3qmE9U, 9scfWN6aXaU, O7VaXlMvAvk, h1BsKI...  z0Xpye7Ltlo"
      ]
     },
     "execution_count": 31,
     "metadata": {},
     "output_type": "execute_result"
    }
   ],
   "source": [
    "# Single Step Data (only access to this video)\n",
    "ss_session = []\n",
    "for session in tqdm(sessions):\n",
    "    for video, next_video, in zip(session[:-1], session[1:]):\n",
    "        video['selected'] = next_video['url']\n",
    "        ss_session.append(video)\n",
    "\n",
    "\n",
    "data = pd.DataFrame(ss_session)\n",
    "data['url'] = data['url'].apply(get_id)\n",
    "data['selected'] = data['selected'].apply(get_id)\n",
    "data['upnext_content'] = data['upnext_content'].apply(decode_upnext)\n",
    "data = data[['url', 'upnext_content', 'selected']]\n",
    "data.columns = ['video', 'upnext', 'selected']\n",
    "data.head()"
   ]
  },
  {
   "cell_type": "code",
   "execution_count": 32,
   "metadata": {},
   "outputs": [
    {
     "data": {
      "application/vnd.jupyter.widget-view+json": {
       "model_id": "efa948e51d144e7e9568a373787f5a9c",
       "version_major": 2,
       "version_minor": 0
      },
      "text/plain": [
       "  0%|          | 0/8563 [00:00<?, ?it/s]"
      ]
     },
     "metadata": {},
     "output_type": "display_data"
    }
   ],
   "source": [
    "video_sessions = []\n",
    "ss_sessions = data.to_dict('records')\n",
    "\n",
    "for session in tqdm(ss_sessions):\n",
    "    video_session = {}\n",
    "    v = Video(session['video'])\n",
    "    video_session['video'] = Video(session['video'])\n",
    "    video_session['upnext'] = []\n",
    "    for upnext in session['upnext']:\n",
    "        video_session['upnext'].append(Video(upnext))\n",
    "    video_session['selected'] = Video(session['selected'])\n",
    "    video_sessions.append(video_session)"
   ]
  },
  {
   "cell_type": "markdown",
   "metadata": {},
   "source": [
    "# Similarities between video and selected"
   ]
  },
  {
   "cell_type": "code",
   "execution_count": 33,
   "metadata": {},
   "outputs": [],
   "source": [
    "# compute cosine similarity between two title embeddings\n",
    "\n",
    "import numpy as np\n",
    "from sklearn.metrics.pairwise import cosine_similarity\n",
    "\n",
    "def cosine_sim(a, b):\n",
    "    return cosine_similarity(a.reshape(1, -1), b.reshape(1, -1))[0][0]"
   ]
  },
  {
   "cell_type": "code",
   "execution_count": 36,
   "metadata": {},
   "outputs": [
    {
     "data": {
      "application/vnd.jupyter.widget-view+json": {
       "model_id": "662037aa2c114e5ebcf45071f73a7dd9",
       "version_major": 2,
       "version_minor": 0
      },
      "text/plain": [
       "  0%|          | 0/8563 [00:00<?, ?it/s]"
      ]
     },
     "metadata": {},
     "output_type": "display_data"
    }
   ],
   "source": [
    "similarities = {'title': [], 'tags': [], 'description': []}\n",
    "\n",
    "for session in tqdm(video_sessions):\n",
    "    playing = session['video']\n",
    "    selected = session['selected']\n",
    "    suggested = session['upnext']\n",
    "\n",
    "    title_similarity = dict()\n",
    "    tags_similarity = dict()\n",
    "    description_similarity = dict()\n",
    "\n",
    "    # title\n",
    "    sims = []\n",
    "    for video in suggested:\n",
    "        sims.append(cosine_sim(playing.title_emb, video.title_emb))\n",
    "    title_similarity['suggested'] = sims\n",
    "    title_similarity['selected'] = cosine_sim(playing.title_emb, selected.title_emb)\n",
    "\n",
    "    # tags\n",
    "    # sims = []\n",
    "    # for video in suggested:\n",
    "    #     sims.append(tags_cosine_sim(playing.tags_emb, video.tags_emb))\n",
    "    # tags_similarity['suggested'] = sims\n",
    "    # tags_similarity['selected'] = cosine_sim(playing.tags_emb, selected.tags_emb)\n",
    "\n",
    "    # description\n",
    "    sims = []\n",
    "    for video in suggested:\n",
    "        sims.append(cosine_sim(playing.description_emb, video.description_emb))\n",
    "    description_similarity['suggested'] = sims\n",
    "    description_similarity['selected'] = cosine_sim(playing.description_emb, selected.description_emb)\n",
    "    \n",
    "    similarities['description'].append(description_similarity)\n",
    "    similarities['title'].append(title_similarity)"
   ]
  },
  {
   "cell_type": "code",
   "execution_count": 37,
   "metadata": {},
   "outputs": [
    {
     "data": {
      "text/plain": [
       "{'suggested': [0.52309793,\n",
       "  0.41573066,\n",
       "  0.5358752,\n",
       "  0.4773757,\n",
       "  0.21819827,\n",
       "  0.3967138,\n",
       "  0.31892043,\n",
       "  0.0,\n",
       "  0.46168518,\n",
       "  0.60267174,\n",
       "  0.44755438,\n",
       "  0.16989785,\n",
       "  0.0009108577,\n",
       "  0.26928246,\n",
       "  0.4076116,\n",
       "  0.45672327,\n",
       "  0.32553548,\n",
       "  0.6058545,\n",
       "  0.25709695],\n",
       " 'selected': 0.5358752}"
      ]
     },
     "execution_count": 37,
     "metadata": {},
     "output_type": "execute_result"
    }
   ],
   "source": []
  },
  {
   "cell_type": "code",
   "execution_count": null,
   "metadata": {},
   "outputs": [],
   "source": []
  }
 ],
 "metadata": {
  "kernelspec": {
   "display_name": "jup",
   "language": "python",
   "name": "jup"
  },
  "language_info": {
   "codemirror_mode": {
    "name": "ipython",
    "version": 3
   },
   "file_extension": ".py",
   "mimetype": "text/x-python",
   "name": "python",
   "nbconvert_exporter": "python",
   "pygments_lexer": "ipython3",
   "version": "3.10.4"
  }
 },
 "nbformat": 4,
 "nbformat_minor": 4
}
