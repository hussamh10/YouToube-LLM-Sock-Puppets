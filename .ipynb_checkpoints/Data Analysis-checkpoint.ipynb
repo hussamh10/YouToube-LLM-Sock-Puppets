{
 "cells": [
  {
   "cell_type": "code",
   "execution_count": 1,
   "metadata": {},
   "outputs": [],
   "source": [
    "import pandas as pd"
   ]
  },
  {
   "cell_type": "code",
   "execution_count": 2,
   "metadata": {},
   "outputs": [],
   "source": [
    "def get_ids(urls):\n",
    "    if urls == None:\n",
    "        return None\n",
    "    \n",
    "    urls = eval(urls.decode('utf-8'))\n",
    "    ids = []\n",
    "    for u in urls:\n",
    "        ids.append(get_id(u))\n",
    "    return ids\n",
    "    \n",
    "def get_id(url):\n",
    "    if len(url.split('v=')) <= 1:\n",
    "        return None\n",
    "    url = url.split('v=')[1]\n",
    "    url = url.split('&')[0]\n",
    "    return url"
   ]
  },
  {
   "cell_type": "code",
   "execution_count": 3,
   "metadata": {},
   "outputs": [],
   "source": [
    "class node():\n",
    "    def __init__(self, uid, start, nexts, selected, i):\n",
    "        self.id = uid\n",
    "        self.start = start\n",
    "        self.next = nexts\n",
    "        self.selected = selected\n",
    "        self.time = i\n",
    "        \n",
    "    def __str__(self):\n",
    "        return self.id\n",
    "    \n",
    "    def __repr__(self):\n",
    "        return self.id"
   ]
  },
  {
   "cell_type": "code",
   "execution_count": 4,
   "metadata": {},
   "outputs": [],
   "source": [
    "df = pd.read_parquet('logs.parquet')\n",
    "user = 'GICR43326'\n",
    "d = df[df['userId'] == user]"
   ]
  },
  {
   "cell_type": "code",
   "execution_count": 5,
   "metadata": {},
   "outputs": [
    {
     "name": "stderr",
     "output_type": "stream",
     "text": [
      "/tmp/ipykernel_72630/3436348057.py:1: SettingWithCopyWarning: \n",
      "A value is trying to be set on a copy of a slice from a DataFrame.\n",
      "Try using .loc[row_indexer,col_indexer] = value instead\n",
      "\n",
      "See the caveats in the documentation: https://pandas.pydata.org/pandas-docs/stable/user_guide/indexing.html#returning-a-view-versus-a-copy\n",
      "  d['video'] = d['url'].apply(get_id)\n",
      "/tmp/ipykernel_72630/3436348057.py:2: SettingWithCopyWarning: \n",
      "A value is trying to be set on a copy of a slice from a DataFrame.\n",
      "Try using .loc[row_indexer,col_indexer] = value instead\n",
      "\n",
      "See the caveats in the documentation: https://pandas.pydata.org/pandas-docs/stable/user_guide/indexing.html#returning-a-view-versus-a-copy\n",
      "  d['sidebar'] = d['upnext_content'].apply(get_ids)\n",
      "/tmp/ipykernel_72630/3436348057.py:3: SettingWithCopyWarning: \n",
      "A value is trying to be set on a copy of a slice from a DataFrame.\n",
      "Try using .loc[row_indexer,col_indexer] = value instead\n",
      "\n",
      "See the caveats in the documentation: https://pandas.pydata.org/pandas-docs/stable/user_guide/indexing.html#returning-a-view-versus-a-copy\n",
      "  d['time'] = list(range(len(d)))\n"
     ]
    }
   ],
   "source": [
    "d['video'] = d['url'].apply(get_id)\n",
    "d['sidebar'] = d['upnext_content'].apply(get_ids)\n",
    "d['time'] = list(range(len(d)))\n",
    "d = d[['video', 'sidebar', 'time']]\n",
    "d = d.set_index('time')"
   ]
  },
  {
   "cell_type": "code",
   "execution_count": 6,
   "metadata": {},
   "outputs": [],
   "source": [
    "d = d.to_dict('index')"
   ]
  },
  {
   "cell_type": "code",
   "execution_count": 8,
   "metadata": {},
   "outputs": [
    {
     "ename": "KeyError",
     "evalue": "2785",
     "output_type": "error",
     "traceback": [
      "\u001b[0;31m---------------------------------------------------------------------------\u001b[0m",
      "\u001b[0;31mKeyError\u001b[0m                                  Traceback (most recent call last)",
      "Input \u001b[0;32mIn [8]\u001b[0m, in \u001b[0;36m<cell line: 3>\u001b[0;34m()\u001b[0m\n\u001b[1;32m      4\u001b[0m uid \u001b[38;5;241m=\u001b[39m d[i][\u001b[38;5;124m'\u001b[39m\u001b[38;5;124mvideo\u001b[39m\u001b[38;5;124m'\u001b[39m]\n\u001b[1;32m      5\u001b[0m nexts \u001b[38;5;241m=\u001b[39m d[i][\u001b[38;5;124m'\u001b[39m\u001b[38;5;124msidebar\u001b[39m\u001b[38;5;124m'\u001b[39m]\n\u001b[0;32m----> 6\u001b[0m next_uid \u001b[38;5;241m=\u001b[39m \u001b[43md\u001b[49m\u001b[43m[\u001b[49m\u001b[43mi\u001b[49m\u001b[38;5;241;43m+\u001b[39;49m\u001b[38;5;241;43m1\u001b[39;49m\u001b[43m]\u001b[49m[\u001b[38;5;124m'\u001b[39m\u001b[38;5;124mvideo\u001b[39m\u001b[38;5;124m'\u001b[39m]\n\u001b[1;32m      8\u001b[0m \u001b[38;5;28;01mif\u001b[39;00m uid \u001b[38;5;241m==\u001b[39m \u001b[38;5;28;01mNone\u001b[39;00m:\n\u001b[1;32m      9\u001b[0m     start \u001b[38;5;241m=\u001b[39m \u001b[38;5;28;01mTrue\u001b[39;00m\n",
      "\u001b[0;31mKeyError\u001b[0m: 2785"
     ]
    }
   ],
   "source": [
    "nodes = []\n",
    "start = True\n",
    "for i in d:\n",
    "    uid = d[i]['video']\n",
    "    nexts = d[i]['sidebar']\n",
    "    next_uid = d[i+1]['video']\n",
    "    \n",
    "    if uid == None:\n",
    "        start = True\n",
    "        continue\n",
    "        \n",
    "    if nexts == None:\n",
    "        selected = None\n",
    "    elif next_uid in nexts:\n",
    "        selected = next_uid\n",
    "    else:\n",
    "        selected = None\n",
    "        \n",
    "    v = node(uid, start, nexts, selected, i)\n",
    "    \n",
    "    \n",
    "    if selected != None:\n",
    "        start = False\n",
    "    else:\n",
    "        start = True\n",
    "    nodes.append(v)"
   ]
  },
  {
   "cell_type": "code",
   "execution_count": 9,
   "metadata": {},
   "outputs": [],
   "source": [
    "nodes_clean = []\n",
    "for i in range(len(nodes)):\n",
    "    if nodes[i].selected != None:\n",
    "        nodes_clean.append(nodes[i])"
   ]
  }
 ],
 "metadata": {
  "kernelspec": {
   "display_name": "jup",
   "language": "python",
   "name": "jup"
  },
  "language_info": {
   "codemirror_mode": {
    "name": "ipython",
    "version": 3
   },
   "file_extension": ".py",
   "mimetype": "text/x-python",
   "name": "python",
   "nbconvert_exporter": "python",
   "pygments_lexer": "ipython3",
   "version": "3.10.4"
  }
 },
 "nbformat": 4,
 "nbformat_minor": 4
}
