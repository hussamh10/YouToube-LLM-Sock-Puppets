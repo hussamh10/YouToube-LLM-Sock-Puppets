{
 "cells": [
  {
   "cell_type": "code",
   "execution_count": 3,
   "metadata": {},
   "outputs": [],
   "source": [
    "import pandas as pd\n",
    "from tqdm import tqdm_notebook as tqdm"
   ]
  },
  {
   "cell_type": "code",
   "execution_count": 4,
   "metadata": {
    "collapsed": true
   },
   "outputs": [],
   "source": [
    "df = pd.read_parquet('logs.parquet')\n",
    "users = list(set(df['userId']))"
   ]
  },
  {
   "cell_type": "code",
   "execution_count": 5,
   "metadata": {},
   "outputs": [
    {
     "name": "stderr",
     "output_type": "stream",
     "text": [
      "/tmp/ipykernel_49503/1958515435.py:3: TqdmDeprecationWarning: This function will be removed in tqdm==5.0.0\n",
      "Please use `tqdm.notebook.tqdm` instead of `tqdm.tqdm_notebook`\n",
      "  for user in tqdm(users):\n"
     ]
    },
    {
     "data": {
      "application/vnd.jupyter.widget-view+json": {
       "model_id": "0888641288b949328964f11d60a45763",
       "version_major": 2,
       "version_minor": 0
      },
      "text/plain": [
       "  0%|          | 0/2171 [00:00<?, ?it/s]"
      ]
     },
     "metadata": {},
     "output_type": "display_data"
    }
   ],
   "source": [
    "data = dict()\n",
    "\n",
    "for user in tqdm(users):\n",
    "    data[user] = df[df['userId'] == user].sort_values('date')"
   ]
  },
  {
   "cell_type": "code",
   "execution_count": 6,
   "metadata": {},
   "outputs": [],
   "source": [
    "l = len(set(list(df['userId'])))"
   ]
  },
  {
   "cell_type": "code",
   "execution_count": 7,
   "metadata": {},
   "outputs": [
    {
     "data": {
      "text/plain": [
       "2171"
      ]
     },
     "execution_count": 7,
     "metadata": {},
     "output_type": "execute_result"
    }
   ],
   "source": [
    "l"
   ]
  },
  {
   "cell_type": "code",
   "execution_count": 8,
   "metadata": {},
   "outputs": [
    {
     "data": {
      "text/html": [
       "<div>\n",
       "<style scoped>\n",
       "    .dataframe tbody tr th:only-of-type {\n",
       "        vertical-align: middle;\n",
       "    }\n",
       "\n",
       "    .dataframe tbody tr th {\n",
       "        vertical-align: top;\n",
       "    }\n",
       "\n",
       "    .dataframe thead th {\n",
       "        text-align: right;\n",
       "    }\n",
       "</style>\n",
       "<table border=\"1\" class=\"dataframe\">\n",
       "  <thead>\n",
       "    <tr style=\"text-align: right;\">\n",
       "      <th></th>\n",
       "      <th>userId</th>\n",
       "      <th>visaId</th>\n",
       "      <th>intervention</th>\n",
       "      <th>url</th>\n",
       "      <th>date</th>\n",
       "      <th>day</th>\n",
       "      <th>intervention_stage</th>\n",
       "      <th>is_homepage</th>\n",
       "      <th>homepage_content</th>\n",
       "      <th>is_video</th>\n",
       "      <th>is_search</th>\n",
       "      <th>upnext_content</th>\n",
       "      <th>search_query</th>\n",
       "    </tr>\n",
       "    <tr>\n",
       "      <th>is_injected</th>\n",
       "      <th></th>\n",
       "      <th></th>\n",
       "      <th></th>\n",
       "      <th></th>\n",
       "      <th></th>\n",
       "      <th></th>\n",
       "      <th></th>\n",
       "      <th></th>\n",
       "      <th></th>\n",
       "      <th></th>\n",
       "      <th></th>\n",
       "      <th></th>\n",
       "      <th></th>\n",
       "    </tr>\n",
       "  </thead>\n",
       "  <tbody>\n",
       "    <tr>\n",
       "      <th>False</th>\n",
       "      <td>36707</td>\n",
       "      <td>36707</td>\n",
       "      <td>36707</td>\n",
       "      <td>36707</td>\n",
       "      <td>36707</td>\n",
       "      <td>36707</td>\n",
       "      <td>36707</td>\n",
       "      <td>36707</td>\n",
       "      <td>0</td>\n",
       "      <td>36707</td>\n",
       "      <td>36707</td>\n",
       "      <td>36707</td>\n",
       "      <td>0</td>\n",
       "    </tr>\n",
       "    <tr>\n",
       "      <th>True</th>\n",
       "      <td>144863</td>\n",
       "      <td>144863</td>\n",
       "      <td>144863</td>\n",
       "      <td>144863</td>\n",
       "      <td>144863</td>\n",
       "      <td>144863</td>\n",
       "      <td>144863</td>\n",
       "      <td>144863</td>\n",
       "      <td>0</td>\n",
       "      <td>144863</td>\n",
       "      <td>144863</td>\n",
       "      <td>144863</td>\n",
       "      <td>0</td>\n",
       "    </tr>\n",
       "  </tbody>\n",
       "</table>\n",
       "</div>"
      ],
      "text/plain": [
       "             userId  visaId  intervention     url    date     day  \\\n",
       "is_injected                                                         \n",
       "False         36707   36707         36707   36707   36707   36707   \n",
       "True         144863  144863        144863  144863  144863  144863   \n",
       "\n",
       "             intervention_stage  is_homepage  homepage_content  is_video  \\\n",
       "is_injected                                                                \n",
       "False                     36707        36707                 0     36707   \n",
       "True                     144863       144863                 0    144863   \n",
       "\n",
       "             is_search  upnext_content  search_query  \n",
       "is_injected                                           \n",
       "False            36707           36707             0  \n",
       "True            144863          144863             0  "
      ]
     },
     "execution_count": 8,
     "metadata": {},
     "output_type": "execute_result"
    }
   ],
   "source": [
    "a = df[df['is_video']]\n",
    "a[a['upnext_content'].str.len() < 3].groupby('is_injected').count()"
   ]
  },
  {
   "cell_type": "code",
   "execution_count": 9,
   "metadata": {},
   "outputs": [],
   "source": [
    "def get_id(url):\n",
    "    if len(url.split('v=')) <= 1:\n",
    "        return None\n",
    "    url = url.split('v=')[1]\n",
    "    url = url.split('&')[0]\n",
    "    return url\n",
    "\n",
    "def decode_upnext(urls):\n",
    "    urls = eval(urls.decode('utf-8'))\n",
    "    ids = []\n",
    "    for u in urls:\n",
    "        ids.append(get_id(u))\n",
    "    return ids"
   ]
  },
  {
   "cell_type": "code",
   "execution_count": 10,
   "metadata": {},
   "outputs": [
    {
     "ename": "NameError",
     "evalue": "name 'session_active' is not defined",
     "output_type": "error",
     "traceback": [
      "\u001b[0;31m---------------------------------------------------------------------------\u001b[0m",
      "\u001b[0;31mNameError\u001b[0m                                 Traceback (most recent call last)",
      "\u001b[1;32m/home/data/hussam/sparta/youtube-sim/Create user timelines.ipynb Cell 8\u001b[0m in \u001b[0;36m<cell line: 1>\u001b[0;34m()\u001b[0m\n\u001b[0;32m----> <a href='vscode-notebook-cell://ssh-remote%2Btoutatis.cs.uiowa.edu/home/data/hussam/sparta/youtube-sim/Create%20user%20timelines.ipynb#X10sdnNjb2RlLXJlbW90ZQ%3D%3D?line=0'>1</a>\u001b[0m session_active\n",
      "\u001b[0;31mNameError\u001b[0m: name 'session_active' is not defined"
     ]
    }
   ],
   "source": [
    "session_active"
   ]
  },
  {
   "cell_type": "code",
   "execution_count": null,
   "metadata": {},
   "outputs": [],
   "source": [
    "sessions = dict()\n",
    "for user in users:\n",
    "    sessions[user] = []\n",
    "    \n",
    "    sess = data[user][['date', 'url', 'is_video', 'upnext_content']].to_dict('records')\n",
    "    session = []\n",
    "    session_active = False\n",
    "    for watch in sess:\n",
    "        # when waiting for first video in a session\n",
    "        if not session_active and watch['is_video']:\n",
    "            session = []\n",
    "            session.append(watch)\n",
    "            session_active = True\n",
    "\n",
    "        # back to back videos\n",
    "        elif session_active and watch['is_video']:\n",
    "            upnexts = decode_upnext(session[-1]['upnext_content'])\n",
    "            this_url = get_id(watch['url'])\n",
    "            if this_url in upnexts:\n",
    "                session.append(watch)\n",
    "\n",
    "\n",
    "        # if next watch is not video when session active\n",
    "        elif session_active and not watch['is_video']:\n",
    "            session_active = False\n",
    "            if len(session) > 1:\n",
    "                sessions[user].append(session)\n",
    "            session = []"
   ]
  },
  {
   "cell_type": "code",
   "execution_count": null,
   "metadata": {},
   "outputs": [],
   "source": [
    "sizes = []\n",
    "for a in all_sessions:\n",
    "    sizes.append(len(a))"
   ]
  },
  {
   "cell_type": "code",
   "execution_count": null,
   "metadata": {},
   "outputs": [],
   "source": [
    "pd.DataFrame(sizes)"
   ]
  },
  {
   "cell_type": "code",
   "execution_count": 140,
   "metadata": {},
   "outputs": [
    {
     "data": {
      "image/png": "[encoded data removed]",
      "text/plain": [
       "<Figure size 640x480 with 1 Axes>"
      ]
     },
     "metadata": {},
     "output_type": "display_data"
    }
   ],
   "source": [
    "import pandas as pd\n",
    "import numpy as np\n",
    "import matplotlib.pyplot as plt\n",
    "\n",
    "x = sizes\n",
    "x = pd.Series(x)\n",
    "\n",
    "# histogram on linear scale\n",
    "logbins = np.logspace(np.log10(bins[0]),np.log10(bins[-1]),len(bins))\n",
    "plt.subplot(212)\n",
    "plt.hist(x, bins=logbins)\n",
    "plt.xscale('log')\n",
    "plt.show()"
   ]
  },
  {
   "cell_type": "code",
   "execution_count": 147,
   "metadata": {},
   "outputs": [
    {
     "data": {
      "text/plain": [
       "2.2663413191363504"
      ]
     },
     "execution_count": 147,
     "metadata": {},
     "output_type": "execute_result"
    }
   ],
   "source": [
    "np.sum(sizes)/len(all_sessions)"
   ]
  },
  {
   "cell_type": "code",
   "execution_count": 143,
   "metadata": {},
   "outputs": [
    {
     "data": {
      "image/png": "[encoded data removed]",
      "text/plain": [
       "<Figure size 640x480 with 1 Axes>"
      ]
     },
     "metadata": {},
     "output_type": "display_data"
    }
   ],
   "source": [
    "plt.hist(sizes, rwidth=0.9)\n",
    "plt.yscale('log')"
   ]
  },
  {
   "cell_type": "code",
   "execution_count": 131,
   "metadata": {},
   "outputs": [
    {
     "data": {
      "text/plain": [
       "20.37902987281869"
      ]
     },
     "execution_count": 131,
     "metadata": {},
     "output_type": "execute_result"
    }
   ],
   "source": [
    "137803/len(all_sessions)"
   ]
  },
  {
   "cell_type": "code",
   "execution_count": 109,
   "metadata": {},
   "outputs": [],
   "source": [
    "all_sessions = []\n",
    "\n",
    "for user in sessions:\n",
    "    for session in sessions[user]:\n",
    "        if len(session) > 0:\n",
    "            all_sessions.append(session)"
   ]
  },
  {
   "cell_type": "code",
   "execution_count": 115,
   "metadata": {},
   "outputs": [
    {
     "data": {
      "text/plain": [
       "{'date': Timestamp('2022-12-16 14:25:28.128000'),\n",
       " 'url': 'https://www.youtube.com/watch?v=489B7RNudAQ',\n",
       " 'is_video': True,\n",
       " 'upnext_content': b'[\"https://www.youtube.com/watch?v=ZOZyo6YOAu4\",\"https://www.youtube.com/watch?v=VtYi8AR11WM\",\"https://www.youtube.com/watch?v=Q32BGQmVLJ0\",\"https://www.youtube.com/watch?v=h1BsKIP4uYM\",\"https://www.youtube.com/watch?v=4u5I8GYB79Y\",\"https://www.youtube.com/watch?v=pWAyV_GoJxA\",\"https://www.youtube.com/watch?v=roSRpjgxvnQ\",\"https://www.youtube.com/watch?v=oD_MQMqnvoE\",\"https://www.youtube.com/watch?v=CuluhA3S--U\",\"https://www.youtube.com/watch?v=CwVTvKVPRQ0\",\"https://www.youtube.com/watch?v=uFKRr3XWgyA\",\"https://www.youtube.com/watch?v=m4W_O63qRvs\",\"https://www.youtube.com/watch?v=CMMYYajwLms\",\"https://www.youtube.com/watch?v=ANZDDO9TKc4\",\"https://www.youtube.com/watch?v=XYG8s9CSLWY\",\"https://www.youtube.com/watch?v=VFpk6MV42zg\",\"https://www.youtube.com/watch?v=XENqcS9Wj34\",\"https://www.youtube.com/watch?v=FNS3l8yvvrE\",\"https://www.youtube.com/watch?v=8RVLim5tVwU\"]'}"
      ]
     },
     "execution_count": 115,
     "metadata": {},
     "output_type": "execute_result"
    }
   ],
   "source": [
    "watch"
   ]
  },
  {
   "cell_type": "code",
   "execution_count": 126,
   "metadata": {},
   "outputs": [],
   "source": [
    "import pickle as pkl\n",
    "pkl.dump(all_sessions, open('all_sessions', 'wb'))"
   ]
  },
  {
   "cell_type": "code",
   "execution_count": 122,
   "metadata": {},
   "outputs": [],
   "source": [
    "ranks = []\n",
    "for session in all_sessions:\n",
    "    for watch, upnext in zip(session[:-1], session[1:]):\n",
    "        upnexts = decode_upnext(watch['upnext_content'])\n",
    "        upnext = get_id(upnext['url'])\n",
    "        rank = upnexts.index(upnext)\n",
    "        if rank < 10:\n",
    "            \n",
    "            ranks.append(rank)"
   ]
  },
  {
   "cell_type": "code",
   "execution_count": null,
   "metadata": {},
   "outputs": [],
   "source": [
    "videos = pd.read_pickle('')"
   ]
  },
  {
   "cell_type": "code",
   "execution_count": 129,
   "metadata": {},
   "outputs": [
    {
     "data": {
      "text/plain": [
       "3.114693689543989"
      ]
     },
     "execution_count": 129,
     "metadata": {},
     "output_type": "execute_result"
    }
   ],
   "source": [
    "len(all_sessions)/len(data)"
   ]
  },
  {
   "cell_type": "code",
   "execution_count": 123,
   "metadata": {},
   "outputs": [
    {
     "data": {
      "text/plain": [
       "(array([2821., 1341.,  813.,  667.,  551.,  370.,  334.,  247.,  222.,\n",
       "         191.]),\n",
       " array([0. , 0.9, 1.8, 2.7, 3.6, 4.5, 5.4, 6.3, 7.2, 8.1, 9. ]),\n",
       " <BarContainer object of 10 artists>)"
      ]
     },
     "execution_count": 123,
     "metadata": {},
     "output_type": "execute_result"
    },
    {
     "data": {
      "image/png": "[encoded data removed]",
      "text/plain": [
       "<Figure size 640x480 with 1 Axes>"
      ]
     },
     "metadata": {},
     "output_type": "display_data"
    }
   ],
   "source": [
    "from matplotlib import pyplot as plt\n",
    "plt.hist(ranks)"
   ]
  },
  {
   "cell_type": "code",
   "execution_count": 54,
   "metadata": {},
   "outputs": [
    {
     "ename": "NameError",
     "evalue": "name 'aldf' is not defined",
     "output_type": "error",
     "traceback": [
      "\u001b[0;31m---------------------------------------------------------------------------\u001b[0m",
      "\u001b[0;31mNameError\u001b[0m                                 Traceback (most recent call last)",
      "Input \u001b[0;32mIn [54]\u001b[0m, in \u001b[0;36m<cell line: 1>\u001b[0;34m()\u001b[0m\n\u001b[1;32m      1\u001b[0m \u001b[38;5;28;01mfor\u001b[39;00m s \u001b[38;5;129;01min\u001b[39;00m sess:\n\u001b[1;32m      2\u001b[0m     \u001b[38;5;28;01mif\u001b[39;00m s[\u001b[38;5;124m'\u001b[39m\u001b[38;5;124mupnext_content\u001b[39m\u001b[38;5;124m'\u001b[39m]:\n\u001b[0;32m----> 3\u001b[0m         \u001b[43maldf\u001b[49m\n",
      "\u001b[0;31mNameError\u001b[0m: name 'aldf' is not defined"
     ]
    }
   ],
   "source": [
    "for s in sess:\n",
    "    if s['upnext_content']:"
   ]
  },
  {
   "cell_type": "code",
   "execution_count": 51,
   "metadata": {},
   "outputs": [],
   "source": [
    "import math"
   ]
  },
  {
   "cell_type": "code",
   "execution_count": 57,
   "metadata": {},
   "outputs": [
    {
     "data": {
      "text/plain": [
       "['Fe_ParUnmyk', 'VToDFlDZxyA', 'En4VfqgM14c']"
      ]
     },
     "execution_count": 57,
     "metadata": {},
     "output_type": "execute_result"
    }
   ],
   "source": [
    "decode_upnext(s['upnext_content'])"
   ]
  },
  {
   "cell_type": "code",
   "execution_count": null,
   "metadata": {},
   "outputs": [],
   "source": []
  },
  {
   "cell_type": "code",
   "execution_count": 61,
   "metadata": {},
   "outputs": [
    {
     "data": {
      "text/plain": [
       "{'date': Timestamp('2022-12-13 16:44:36.735000'),\n",
       " 'url': 'https://www.youtube.com/watch?v=lOlYvF946GI',\n",
       " 'is_video': True,\n",
       " 'upnext_content': b'[\"https://www.youtube.com/watch?v=Fe_ParUnmyk\",\"https://www.youtube.com/watch?v=VToDFlDZxyA\",\"https://www.youtube.com/watch?v=En4VfqgM14c\"]'}"
      ]
     },
     "execution_count": 61,
     "metadata": {},
     "output_type": "execute_result"
    }
   ],
   "source": [
    "s"
   ]
  },
  {
   "cell_type": "code",
   "execution_count": 62,
   "metadata": {},
   "outputs": [
    {
     "data": {
      "text/plain": [
       "'lOlYvF946GI'"
      ]
     },
     "execution_count": 62,
     "metadata": {},
     "output_type": "execute_result"
    }
   ],
   "source": [
    "get_id(s['url'])"
   ]
  },
  {
   "cell_type": "code",
   "execution_count": null,
   "metadata": {},
   "outputs": [],
   "source": []
  }
 ],
 "metadata": {
  "kernelspec": {
   "display_name": "jup",
   "language": "python",
   "name": "python3"
  },
  "language_info": {
   "codemirror_mode": {
    "name": "ipython",
    "version": 3
   },
   "file_extension": ".py",
   "mimetype": "text/x-python",
   "name": "python",
   "nbconvert_exporter": "python",
   "pygments_lexer": "ipython3",
   "version": "3.10.4"
  }
 },
 "nbformat": 4,
 "nbformat_minor": 4
}
