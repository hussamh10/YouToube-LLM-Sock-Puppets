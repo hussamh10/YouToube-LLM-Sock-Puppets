{
 "cells": [
  {
   "cell_type": "code",
   "execution_count": 1,
   "metadata": {},
   "outputs": [],
   "source": [
    "import numpy as np\n",
    "import pandas as pd\n",
    "import pickle as pkl\n",
    "from tqdm.notebook import tqdm as tqdm\n",
    "from matplotlib import pyplot as plt\n",
    "from collections import Counter"
   ]
  },
  {
   "cell_type": "code",
   "execution_count": 2,
   "metadata": {},
   "outputs": [],
   "source": [
    "empty_desc = np.zeros(768)\n",
    "empty_title = np.zeros(768)\n",
    "\n",
    "class Video:\n",
    "    def __init__(self, uid): \n",
    "        self.uid = uid\n",
    "        if uid not in video_db:\n",
    "            self.title, self.tags, self.description, self.category, self.channel_title = None, None, None, None, None\n",
    "            self.title_emb, self.tags_emb, self.description_emb = empty_title, [], empty_desc\n",
    "            return\n",
    "\n",
    "        vs = video_db[uid]['snippet']\n",
    "        self.title = vs['title']\n",
    "        self.tags = vs.get('tags', [])\n",
    "        self.description = vs['description']\n",
    "        self.category = vs['categoryId']\n",
    "        self.channel_title = vs['channelTitle']\n",
    "        \n",
    "        self.title_emb = video_db[uid]['embeddings']['title']\n",
    "        self.tags_emb = video_db[uid]['embeddings']['tags']\n",
    "        self.description_emb = video_db[uid]['embeddings']['description']\n",
    "\n",
    "    def __repr__(self):\n",
    "        if self.title is None:\n",
    "            return 'Video not found'\n",
    "        return self.title\n",
    "    \n",
    "    def __str__(self):\n",
    "        if self.title is None:\n",
    "            return 'Video not found'\n",
    "        return self.title\n",
    "    \n",
    "    def __hash__(self):\n",
    "        return hash(self.uid)\n",
    "    \n",
    "def get_id(url):\n",
    "    if len(url.split('v=')) <= 1:\n",
    "        return None\n",
    "    url = url.split('v=')[1]\n",
    "    url = url.split('&')[0]\n",
    "    return url\n",
    "\n",
    "def decode_upnext(urls):\n",
    "    urls = eval(urls.decode('utf-8'))\n",
    "    ids = []\n",
    "    for u in urls:\n",
    "        ids.append(get_id(u))\n",
    "    return ids"
   ]
  },
  {
   "cell_type": "code",
   "execution_count": 1,
   "metadata": {},
   "outputs": [],
   "source": [
    "import pandas as pd\n",
    "sessions = pd.read_pickle('all_sessions')"
   ]
  },
  {
   "cell_type": "code",
   "execution_count": 6,
   "metadata": {},
   "outputs": [
    {
     "data": {
      "text/plain": [
       "[{'date': Timestamp('2022-12-16 14:25:28.128000'),\n",
       "  'url': 'https://www.youtube.com/watch?v=489B7RNudAQ',\n",
       "  'is_video': True,\n",
       "  'upnext_content': b'[\"https://www.youtube.com/watch?v=ZOZyo6YOAu4\",\"https://www.youtube.com/watch?v=VtYi8AR11WM\",\"https://www.youtube.com/watch?v=Q32BGQmVLJ0\",\"https://www.youtube.com/watch?v=h1BsKIP4uYM\",\"https://www.youtube.com/watch?v=4u5I8GYB79Y\",\"https://www.youtube.com/watch?v=pWAyV_GoJxA\",\"https://www.youtube.com/watch?v=roSRpjgxvnQ\",\"https://www.youtube.com/watch?v=oD_MQMqnvoE\",\"https://www.youtube.com/watch?v=CuluhA3S--U\",\"https://www.youtube.com/watch?v=CwVTvKVPRQ0\",\"https://www.youtube.com/watch?v=uFKRr3XWgyA\",\"https://www.youtube.com/watch?v=m4W_O63qRvs\",\"https://www.youtube.com/watch?v=CMMYYajwLms\",\"https://www.youtube.com/watch?v=ANZDDO9TKc4\",\"https://www.youtube.com/watch?v=XYG8s9CSLWY\",\"https://www.youtube.com/watch?v=VFpk6MV42zg\",\"https://www.youtube.com/watch?v=XENqcS9Wj34\",\"https://www.youtube.com/watch?v=FNS3l8yvvrE\",\"https://www.youtube.com/watch?v=8RVLim5tVwU\"]'},\n",
       " {'date': Timestamp('2022-12-16 14:25:36.235000'),\n",
       "  'url': 'https://www.youtube.com/watch?v=Q32BGQmVLJ0',\n",
       "  'is_video': True,\n",
       "  'upnext_content': b'[\"https://www.youtube.com/watch?v=XYG8s9CSLWY\",\"https://www.youtube.com/watch?v=BzK0ydOF0oU\",\"https://www.youtube.com/watch?v=oD_MQMqnvoE\",\"https://www.youtube.com/watch?v=fe05EYFlMLk\",\"https://www.youtube.com/watch?v=iUlkKeegWsQ\",\"https://www.youtube.com/watch?v=hxdvBgeO7EM\",\"https://www.youtube.com/watch?v=aeWyp2vXxqA\",\"https://www.youtube.com/watch?v=CbvYXhKwruI\",\"https://www.youtube.com/watch?v=k4_a-3FO8Fw\",\"https://www.youtube.com/watch?v=h1BsKIP4uYM\",\"https://www.youtube.com/watch?v=zQRfTZsH3NM\",\"https://www.youtube.com/watch?v=YuXUelJezeM\",\"https://www.youtube.com/watch?v=0Le7Z2U_ZtY\",\"https://www.youtube.com/watch?v=eyn7MusdQ9g\",\"https://www.youtube.com/watch?v=86P03RlegBM\",\"https://www.youtube.com/watch?v=puSoNQemIgM\",\"https://www.youtube.com/watch?v=ZOZyo6YOAu4\",\"https://www.youtube.com/watch?v=WmhPp0BkeUo\",\"https://www.youtube.com/watch?v=o5BDoi06j4M\",\"https://www.youtube.com/watch?v=VtYi8AR11WM\"]'}]"
      ]
     },
     "execution_count": 6,
     "metadata": {},
     "output_type": "execute_result"
    }
   ],
   "source": []
  },
  {
   "cell_type": "code",
   "execution_count": 3,
   "metadata": {},
   "outputs": [],
   "source": [
    "video_db = pd.read_pickle('video-dump-with-embeddings+transcript')"
   ]
  },
  {
   "cell_type": "code",
   "execution_count": 8,
   "metadata": {},
   "outputs": [
    {
     "data": {
      "application/vnd.jupyter.widget-view+json": {
       "model_id": "2182538a982c4a2f8e3e049fc9a41491",
       "version_major": 2,
       "version_minor": 0
      },
      "text/plain": [
       "  0%|          | 0/6762 [00:00<?, ?it/s]"
      ]
     },
     "metadata": {},
     "output_type": "display_data"
    },
    {
     "data": {
      "text/html": [
       "<div>\n",
       "<style scoped>\n",
       "    .dataframe tbody tr th:only-of-type {\n",
       "        vertical-align: middle;\n",
       "    }\n",
       "\n",
       "    .dataframe tbody tr th {\n",
       "        vertical-align: top;\n",
       "    }\n",
       "\n",
       "    .dataframe thead th {\n",
       "        text-align: right;\n",
       "    }\n",
       "</style>\n",
       "<table border=\"1\" class=\"dataframe\">\n",
       "  <thead>\n",
       "    <tr style=\"text-align: right;\">\n",
       "      <th></th>\n",
       "      <th>video</th>\n",
       "      <th>upnext</th>\n",
       "      <th>selected</th>\n",
       "    </tr>\n",
       "  </thead>\n",
       "  <tbody>\n",
       "    <tr>\n",
       "      <th>0</th>\n",
       "      <td>489B7RNudAQ</td>\n",
       "      <td>[ZOZyo6YOAu4, VtYi8AR11WM, Q32BGQmVLJ0, h1BsKI...</td>\n",
       "      <td>Q32BGQmVLJ0</td>\n",
       "    </tr>\n",
       "    <tr>\n",
       "      <th>1</th>\n",
       "      <td>jnXeE4TY2so</td>\n",
       "      <td>[MeH-4wEuvZs, h1BsKIP4uYM, dqbyJIKLxok, VX4n8w...</td>\n",
       "      <td>HtyVbMZegn4</td>\n",
       "    </tr>\n",
       "    <tr>\n",
       "      <th>2</th>\n",
       "      <td>NQPNRwpGWXc</td>\n",
       "      <td>[2PopspP_DbI, VPrrIGxjubI, 4s2ynUAJ5ZU, dEk8Hb...</td>\n",
       "      <td>VPrrIGxjubI</td>\n",
       "    </tr>\n",
       "    <tr>\n",
       "      <th>3</th>\n",
       "      <td>8tsnuvfMmtc</td>\n",
       "      <td>[4iYl9oSjffQ, mTHedRdHJgk, aeWyp2vXxqA, 6S7VkI...</td>\n",
       "      <td>aeWyp2vXxqA</td>\n",
       "    </tr>\n",
       "    <tr>\n",
       "      <th>4</th>\n",
       "      <td>LcW4MCa5YCQ</td>\n",
       "      <td>[-TgFz3qmE9U, 9scfWN6aXaU, O7VaXlMvAvk, h1BsKI...</td>\n",
       "      <td>z0Xpye7Ltlo</td>\n",
       "    </tr>\n",
       "  </tbody>\n",
       "</table>\n",
       "</div>"
      ],
      "text/plain": [
       "         video                                             upnext     selected\n",
       "0  489B7RNudAQ  [ZOZyo6YOAu4, VtYi8AR11WM, Q32BGQmVLJ0, h1BsKI...  Q32BGQmVLJ0\n",
       "1  jnXeE4TY2so  [MeH-4wEuvZs, h1BsKIP4uYM, dqbyJIKLxok, VX4n8w...  HtyVbMZegn4\n",
       "2  NQPNRwpGWXc  [2PopspP_DbI, VPrrIGxjubI, 4s2ynUAJ5ZU, dEk8Hb...  VPrrIGxjubI\n",
       "3  8tsnuvfMmtc  [4iYl9oSjffQ, mTHedRdHJgk, aeWyp2vXxqA, 6S7VkI...  aeWyp2vXxqA\n",
       "4  LcW4MCa5YCQ  [-TgFz3qmE9U, 9scfWN6aXaU, O7VaXlMvAvk, h1BsKI...  z0Xpye7Ltlo"
      ]
     },
     "execution_count": 8,
     "metadata": {},
     "output_type": "execute_result"
    }
   ],
   "source": [
    "# Single Step Data (only access to this video)\n",
    "ss_session = []\n",
    "for session in tqdm(sessions):\n",
    "    for video, next_video, in zip(session[:-1], session[1:]):\n",
    "        video['selected'] = next_video['url']\n",
    "        ss_session.append(video)\n",
    "\n",
    "\n",
    "data = pd.DataFrame(ss_session)\n",
    "data['url'] = data['url'].apply(get_id)\n",
    "data['selected'] = data['selected'].apply(get_id)\n",
    "data['upnext_content'] = data['upnext_content'].apply(decode_upnext)\n",
    "data = data[['url', 'upnext_content', 'selected']]\n",
    "data.columns = ['video', 'upnext', 'selected']\n",
    "data.head()"
   ]
  },
  {
   "cell_type": "code",
   "execution_count": 9,
   "metadata": {},
   "outputs": [
    {
     "data": {
      "application/vnd.jupyter.widget-view+json": {
       "model_id": "31bec7c730554675a86026d647893262",
       "version_major": 2,
       "version_minor": 0
      },
      "text/plain": [
       "  0%|          | 0/8563 [00:00<?, ?it/s]"
      ]
     },
     "metadata": {},
     "output_type": "display_data"
    }
   ],
   "source": [
    "video_sessions = []\n",
    "ss_sessions = data.to_dict('records')\n",
    "\n",
    "for session in tqdm(ss_sessions):\n",
    "    video_session = {}\n",
    "    v = Video(session['video'])\n",
    "    video_session['video'] = Video(session['video'])\n",
    "    video_session['upnext'] = []\n",
    "    for upnext in session['upnext']:\n",
    "        video_session['upnext'].append(Video(upnext))\n",
    "    video_session['selected'] = Video(session['selected'])\n",
    "    video_sessions.append(video_session)"
   ]
  },
  {
   "cell_type": "code",
   "execution_count": 6,
   "metadata": {},
   "outputs": [],
   "source": [
    "def trims(X, Y, l=15):\n",
    "    X = np.array(X)\n",
    "    Y = np.array(Y)\n",
    "    indices = np.where(Y == 0)[0]\n",
    "    np.random.shuffle(indices)\n",
    "\n",
    "    indices = indices[:len(Y) - l]\n",
    "    X = np.delete(X, indices, axis=0)\n",
    "    Y = np.delete(Y, indices, axis=0)\n",
    "    return X, Y"
   ]
  },
  {
   "cell_type": "code",
   "execution_count": 11,
   "metadata": {},
   "outputs": [],
   "source": [
    "pkl.dump(video_sessions, open('video_sessions.pkl', 'wb'))"
   ]
  },
  {
   "cell_type": "code",
   "execution_count": 4,
   "metadata": {},
   "outputs": [],
   "source": [
    "video_sessions = pkl.load(open('video_sessions.pkl', 'rb'))"
   ]
  },
  {
   "cell_type": "code",
   "execution_count": 42,
   "metadata": {},
   "outputs": [
    {
     "data": {
      "text/plain": [
       "(array([5, 1, 2, 4, 3]), array([0, 4, 3, 1, 2]))"
      ]
     },
     "execution_count": 42,
     "metadata": {},
     "output_type": "execute_result"
    }
   ],
   "source": [
    "def shuffle(l1, l2):\n",
    "    indices = np.arange(len(l1))\n",
    "    np.random.shuffle(indices)\n",
    "    l1 = np.array(l1)[indices]\n",
    "    l2 = np.array(l2)[indices]\n",
    "    return l1, l2\n",
    "\n",
    "shuffle([1, 2, 3, 4, 5], [4, 3, 2, 1, 0])"
   ]
  },
  {
   "cell_type": "code",
   "execution_count": 83,
   "metadata": {},
   "outputs": [],
   "source": [
    "# multi label output\n",
    "X = []\n",
    "Y = []\n",
    "ss = []\n",
    "for session in video_sessions:\n",
    "    x = []\n",
    "    y = []\n",
    "    if session['selected'].title == None:\n",
    "        continue\n",
    "\n",
    "    if len(session['upnext']) >= 15:\n",
    "        xx = session['video'].title_emb\n",
    "\n",
    "        ss.append(session)\n",
    "        selected = session['selected'].title\n",
    "        upnext = session['upnext']\n",
    "        for video in session['upnext']:\n",
    "            if video.title == selected:\n",
    "                y.append(1)\n",
    "            else:\n",
    "                y.append(0)\n",
    "\n",
    "            x.append(video.title_emb)\n",
    "\n",
    "        x, y = shuffle(x, y)       \n",
    "        x = [xx] + list(x)\n",
    "        x, y = trims(x, y)\n",
    "        X.append(x)\n",
    "        Y.append(y)\n",
    "\n",
    "X = np.array(X)\n",
    "Y = np.array(Y)"
   ]
  },
  {
   "cell_type": "code",
   "execution_count": 84,
   "metadata": {},
   "outputs": [],
   "source": [
    "from sklearn.model_selection import train_test_split\n",
    "\n",
    "X_train, X_test, y_train, y_test = train_test_split(X, Y, test_size=0.2, random_state=42)\n",
    "X_train = np.array(X_train)\n",
    "X_test = np.array(X_test)\n",
    "y_train = np.array(y_train)\n",
    "y_test = np.array(y_test)"
   ]
  },
  {
   "cell_type": "code",
   "execution_count": 80,
   "metadata": {},
   "outputs": [],
   "source": [
    "# pkl.dump([X, Y], open('XY.pkl', 'wb'))"
   ]
  },
  {
   "cell_type": "code",
   "execution_count": 92,
   "metadata": {},
   "outputs": [
    {
     "ename": "TypeError",
     "evalue": "matmul: axis can only be used with a single shared core dimension, not with the 3 distinct ones implied by signature (n?,k),(k,m?)->(n?,m?).",
     "output_type": "error",
     "traceback": [
      "\u001b[0;31m---------------------------------------------------------------------------\u001b[0m",
      "\u001b[0;31mTypeError\u001b[0m                                 Traceback (most recent call last)",
      "\u001b[1;32m/home/data/hussam/sparta/youtube-sim/VIdeo Model copy.ipynb Cell 13\u001b[0m in \u001b[0;36m<cell line: 4>\u001b[0;34m()\u001b[0m\n\u001b[1;32m      <a href='vscode-notebook-cell://ssh-remote%2Btoutatis.cs.uiowa.edu/home/data/hussam/sparta/youtube-sim/VIdeo%20Model%20copy.ipynb#X51sdnNjb2RlLXJlbW90ZQ%3D%3D?line=0'>1</a>\u001b[0m i \u001b[39m=\u001b[39m x[\u001b[39m0\u001b[39m]\n\u001b[1;32m      <a href='vscode-notebook-cell://ssh-remote%2Btoutatis.cs.uiowa.edu/home/data/hussam/sparta/youtube-sim/VIdeo%20Model%20copy.ipynb#X51sdnNjb2RlLXJlbW90ZQ%3D%3D?line=1'>2</a>\u001b[0m j \u001b[39m=\u001b[39m x[\u001b[39m1\u001b[39m]\n\u001b[0;32m----> <a href='vscode-notebook-cell://ssh-remote%2Btoutatis.cs.uiowa.edu/home/data/hussam/sparta/youtube-sim/VIdeo%20Model%20copy.ipynb#X51sdnNjb2RlLXJlbW90ZQ%3D%3D?line=3'>4</a>\u001b[0m np\u001b[39m.\u001b[39;49mmatmul(i, j, axis\u001b[39m=\u001b[39;49m(\u001b[39m1\u001b[39;49m, \u001b[39m2\u001b[39;49m))\n",
      "\u001b[0;31mTypeError\u001b[0m: matmul: axis can only be used with a single shared core dimension, not with the 3 distinct ones implied by signature (n?,k),(k,m?)->(n?,m?)."
     ]
    }
   ],
   "source": [
    "i = x[0]\n",
    "j = x[1]\n",
    "\n",
    "np.matmul(i, j, axis=(1, 2))"
   ]
  },
  {
   "cell_type": "code",
   "execution_count": 97,
   "metadata": {},
   "outputs": [
    {
     "data": {
      "text/plain": [
       "(768,)"
      ]
     },
     "execution_count": 97,
     "metadata": {},
     "output_type": "execute_result"
    }
   ],
   "source": [
    "(i*j).shape"
   ]
  },
  {
   "cell_type": "code",
   "execution_count": 98,
   "metadata": {},
   "outputs": [],
   "source": [
    "# X_train = X_train.reshape(-1, 16, 768)\n",
    "\n",
    "pX = []\n",
    "rX = []\n",
    "\n",
    "for x in X_train:\n",
    "  xx = x[0]\n",
    "  pX.append(x[0])\n",
    "  rxx = []\n",
    "  for rx in x[1:]:\n",
    "    rxx.append(rx*xx)\n",
    "  rX.append(rxx)\n",
    "\n",
    "pX = np.array(pX)\n",
    "rX = np.array(rX)"
   ]
  },
  {
   "cell_type": "code",
   "execution_count": 99,
   "metadata": {},
   "outputs": [
    {
     "data": {
      "text/plain": [
       "((7108, 16, 768), (7108, 15))"
      ]
     },
     "execution_count": 99,
     "metadata": {},
     "output_type": "execute_result"
    }
   ],
   "source": [
    "X.shape, Y.shape"
   ]
  },
  {
   "cell_type": "code",
   "execution_count": 35,
   "metadata": {},
   "outputs": [
    {
     "name": "stderr",
     "output_type": "stream",
     "text": [
      "/home/data/hussam/miniconda3/envs/jup/lib/python3.10/site-packages/keras/optimizer_v2/gradient_descent.py:102: UserWarning: The `lr` argument is deprecated, use `learning_rate` instead.\n",
      "  super(SGD, self).__init__(name, **kwargs)\n"
     ]
    },
    {
     "ename": "NameError",
     "evalue": "name 'keras' is not defined",
     "output_type": "error",
     "traceback": [
      "\u001b[0;31m---------------------------------------------------------------------------\u001b[0m",
      "\u001b[0;31mNameError\u001b[0m                                 Traceback (most recent call last)",
      "\u001b[1;32m/home/data/hussam/sparta/youtube-sim/VIdeo Model copy.ipynb Cell 13\u001b[0m in \u001b[0;36m<cell line: 19>\u001b[0;34m()\u001b[0m\n\u001b[1;32m     <a href='vscode-notebook-cell://ssh-remote%2Btoutatis.cs.uiowa.edu/home/data/hussam/sparta/youtube-sim/VIdeo%20Model%20copy.ipynb#X13sdnNjb2RlLXJlbW90ZQ%3D%3D?line=12'>13</a>\u001b[0m model\u001b[39m.\u001b[39madd(Dense(\u001b[39m15\u001b[39m, activation\u001b[39m=\u001b[39m\u001b[39m'\u001b[39m\u001b[39msoftmax\u001b[39m\u001b[39m'\u001b[39m))\n\u001b[1;32m     <a href='vscode-notebook-cell://ssh-remote%2Btoutatis.cs.uiowa.edu/home/data/hussam/sparta/youtube-sim/VIdeo%20Model%20copy.ipynb#X13sdnNjb2RlLXJlbW90ZQ%3D%3D?line=14'>15</a>\u001b[0m sgd \u001b[39m=\u001b[39m SGD(lr\u001b[39m=\u001b[39m\u001b[39m0.01\u001b[39m, decay\u001b[39m=\u001b[39m\u001b[39m1e-6\u001b[39m, momentum\u001b[39m=\u001b[39m\u001b[39m0.9\u001b[39m)\n\u001b[0;32m---> <a href='vscode-notebook-cell://ssh-remote%2Btoutatis.cs.uiowa.edu/home/data/hussam/sparta/youtube-sim/VIdeo%20Model%20copy.ipynb#X13sdnNjb2RlLXJlbW90ZQ%3D%3D?line=18'>19</a>\u001b[0m METRICS \u001b[39m=\u001b[39m [keras\u001b[39m.\u001b[39mmetrics\u001b[39m.\u001b[39mTruePositives(name\u001b[39m=\u001b[39m\u001b[39m'\u001b[39m\u001b[39mtp\u001b[39m\u001b[39m'\u001b[39m),\n\u001b[1;32m     <a href='vscode-notebook-cell://ssh-remote%2Btoutatis.cs.uiowa.edu/home/data/hussam/sparta/youtube-sim/VIdeo%20Model%20copy.ipynb#X13sdnNjb2RlLXJlbW90ZQ%3D%3D?line=19'>20</a>\u001b[0m             keras\u001b[39m.\u001b[39mmetrics\u001b[39m.\u001b[39mFalsePositives(name\u001b[39m=\u001b[39m\u001b[39m'\u001b[39m\u001b[39mfp\u001b[39m\u001b[39m'\u001b[39m), \n\u001b[1;32m     <a href='vscode-notebook-cell://ssh-remote%2Btoutatis.cs.uiowa.edu/home/data/hussam/sparta/youtube-sim/VIdeo%20Model%20copy.ipynb#X13sdnNjb2RlLXJlbW90ZQ%3D%3D?line=20'>21</a>\u001b[0m             keras\u001b[39m.\u001b[39mmetrics\u001b[39m.\u001b[39mTrueNegatives(name\u001b[39m=\u001b[39m\u001b[39m'\u001b[39m\u001b[39mtn\u001b[39m\u001b[39m'\u001b[39m),\n\u001b[1;32m     <a href='vscode-notebook-cell://ssh-remote%2Btoutatis.cs.uiowa.edu/home/data/hussam/sparta/youtube-sim/VIdeo%20Model%20copy.ipynb#X13sdnNjb2RlLXJlbW90ZQ%3D%3D?line=21'>22</a>\u001b[0m             keras\u001b[39m.\u001b[39mmetrics\u001b[39m.\u001b[39mFalseNegatives(name\u001b[39m=\u001b[39m\u001b[39m'\u001b[39m\u001b[39mfn\u001b[39m\u001b[39m'\u001b[39m),\n\u001b[1;32m     <a href='vscode-notebook-cell://ssh-remote%2Btoutatis.cs.uiowa.edu/home/data/hussam/sparta/youtube-sim/VIdeo%20Model%20copy.ipynb#X13sdnNjb2RlLXJlbW90ZQ%3D%3D?line=22'>23</a>\u001b[0m             keras\u001b[39m.\u001b[39mmetrics\u001b[39m.\u001b[39mBinaryAccuracy(name\u001b[39m=\u001b[39m\u001b[39m'\u001b[39m\u001b[39maccuracy\u001b[39m\u001b[39m'\u001b[39m),\n\u001b[1;32m     <a href='vscode-notebook-cell://ssh-remote%2Btoutatis.cs.uiowa.edu/home/data/hussam/sparta/youtube-sim/VIdeo%20Model%20copy.ipynb#X13sdnNjb2RlLXJlbW90ZQ%3D%3D?line=23'>24</a>\u001b[0m             keras\u001b[39m.\u001b[39mmetrics\u001b[39m.\u001b[39mPrecision(name\u001b[39m=\u001b[39m\u001b[39m'\u001b[39m\u001b[39mprecision\u001b[39m\u001b[39m'\u001b[39m),\n\u001b[1;32m     <a href='vscode-notebook-cell://ssh-remote%2Btoutatis.cs.uiowa.edu/home/data/hussam/sparta/youtube-sim/VIdeo%20Model%20copy.ipynb#X13sdnNjb2RlLXJlbW90ZQ%3D%3D?line=24'>25</a>\u001b[0m             keras\u001b[39m.\u001b[39mmetrics\u001b[39m.\u001b[39mRecall(name\u001b[39m=\u001b[39m\u001b[39m'\u001b[39m\u001b[39mrecall\u001b[39m\u001b[39m'\u001b[39m),\n\u001b[1;32m     <a href='vscode-notebook-cell://ssh-remote%2Btoutatis.cs.uiowa.edu/home/data/hussam/sparta/youtube-sim/VIdeo%20Model%20copy.ipynb#X13sdnNjb2RlLXJlbW90ZQ%3D%3D?line=25'>26</a>\u001b[0m             keras\u001b[39m.\u001b[39mmetrics\u001b[39m.\u001b[39mAUC(name\u001b[39m=\u001b[39m\u001b[39m'\u001b[39m\u001b[39mauc\u001b[39m\u001b[39m'\u001b[39m),       \n\u001b[1;32m     <a href='vscode-notebook-cell://ssh-remote%2Btoutatis.cs.uiowa.edu/home/data/hussam/sparta/youtube-sim/VIdeo%20Model%20copy.ipynb#X13sdnNjb2RlLXJlbW90ZQ%3D%3D?line=26'>27</a>\u001b[0m             keras\u001b[39m.\u001b[39mmetrics\u001b[39m.\u001b[39mAUC(name\u001b[39m=\u001b[39m\u001b[39m'\u001b[39m\u001b[39mprc\u001b[39m\u001b[39m'\u001b[39m, curve\u001b[39m=\u001b[39m\u001b[39m'\u001b[39m\u001b[39mPR\u001b[39m\u001b[39m'\u001b[39m)]\n\u001b[1;32m     <a href='vscode-notebook-cell://ssh-remote%2Btoutatis.cs.uiowa.edu/home/data/hussam/sparta/youtube-sim/VIdeo%20Model%20copy.ipynb#X13sdnNjb2RlLXJlbW90ZQ%3D%3D?line=27'>28</a>\u001b[0m \u001b[39m# import sgd\u001b[39;00m\n\u001b[1;32m     <a href='vscode-notebook-cell://ssh-remote%2Btoutatis.cs.uiowa.edu/home/data/hussam/sparta/youtube-sim/VIdeo%20Model%20copy.ipynb#X13sdnNjb2RlLXJlbW90ZQ%3D%3D?line=30'>31</a>\u001b[0m model\u001b[39m.\u001b[39mcompile(optimizer\u001b[39m=\u001b[39m\u001b[39m'\u001b[39m\u001b[39msgd\u001b[39m\u001b[39m'\u001b[39m, loss\u001b[39m=\u001b[39m\u001b[39m'\u001b[39m\u001b[39mcategorical_crossentropy\u001b[39m\u001b[39m'\u001b[39m, metrics\u001b[39m=\u001b[39m[METRICS])\n",
      "\u001b[0;31mNameError\u001b[0m: name 'keras' is not defined"
     ]
    }
   ],
   "source": [
    "# train cnn model\n",
    "\n",
    "from keras.models import Sequential\n",
    "from tensorflow.keras.optimizers import SGD\n",
    "from keras.layers import Dense, Conv2D, Flatten, MaxPooling2D, Dropout\n",
    "\n",
    "model = Sequential()\n",
    "model.add(Conv2D(128, kernel_size=(8, 8), activation='relu', input_shape=(16, 768, 1)))\n",
    "model.add(Conv2D(64, kernel_size=3, activation='relu'))\n",
    "model.add(Flatten())\n",
    "model.add(Dense(32, activation='relu'))\n",
    "model.add(Dropout(0.4))\n",
    "model.add(Dense(15, activation='softmax'))\n",
    "\n",
    "sgd = SGD(lr=0.01, decay=1e-6, momentum=0.9)\n",
    "\n",
    "\n",
    "\n",
    "METRICS = [keras.metrics.TruePositives(name='tp'),\n",
    "            keras.metrics.FalsePositives(name='fp'), \n",
    "            keras.metrics.TrueNegatives(name='tn'),\n",
    "            keras.metrics.FalseNegatives(name='fn'),\n",
    "            keras.metrics.BinaryAccuracy(name='accuracy'),\n",
    "            keras.metrics.Precision(name='precision'),\n",
    "            keras.metrics.Recall(name='recall'),\n",
    "            keras.metrics.AUC(name='auc'),       \n",
    "            keras.metrics.AUC(name='prc', curve='PR')]\n",
    "# import sgd\n",
    "\n",
    "\n",
    "model.compile(optimizer='sgd', loss='categorical_crossentropy', metrics=[METRICS])\n",
    "model.fit(X_train, y_train, validation_data=(X_test, y_test), epochs=50)"
   ]
  },
  {
   "cell_type": "code",
   "execution_count": 15,
   "metadata": {},
   "outputs": [
    {
     "name": "stdout",
     "output_type": "stream",
     "text": [
      "12/12 [==============================] - 2s 141ms/step - loss: 3.9115 - accuracy: 0.1681\n"
     ]
    },
    {
     "data": {
      "text/plain": [
       "[3.911512613296509, 0.1680731326341629]"
      ]
     },
     "execution_count": 15,
     "metadata": {},
     "output_type": "execute_result"
    }
   ],
   "source": [
    "model.evaluate(X_test, y_test, batch_size=128)"
   ]
  },
  {
   "cell_type": "code",
   "execution_count": 100,
   "metadata": {},
   "outputs": [
    {
     "data": {
      "text/plain": [
       "((5686, 16, 768), (5686, 15))"
      ]
     },
     "execution_count": 100,
     "metadata": {},
     "output_type": "execute_result"
    }
   ],
   "source": [
    "X_train.shape, y_train.shape"
   ]
  },
  {
   "cell_type": "code",
   "execution_count": 50,
   "metadata": {},
   "outputs": [],
   "source": [
    "# save data\n",
    "pkl.dump([X_train, X_test, y_train, y_test], open('data.pkl', 'wb'))"
   ]
  },
  {
   "cell_type": "code",
   "execution_count": 49,
   "metadata": {},
   "outputs": [
    {
     "name": "stderr",
     "output_type": "stream",
     "text": [
      "/home/data/hussam/miniconda3/envs/jup/lib/python3.10/site-packages/keras/optimizer_v2/gradient_descent.py:102: UserWarning: The `lr` argument is deprecated, use `learning_rate` instead.\n",
      "  super(SGD, self).__init__(name, **kwargs)\n"
     ]
    },
    {
     "name": "stdout",
     "output_type": "stream",
     "text": [
      "Epoch 1/100\n",
      "356/356 [==============================] - 49s 135ms/step - loss: 2.8645 - accuracy: 0.0667\n",
      "Epoch 2/100\n",
      "356/356 [==============================] - 48s 135ms/step - loss: 2.7873 - accuracy: 0.0714\n",
      "Epoch 3/100\n",
      "356/356 [==============================] - 48s 135ms/step - loss: 2.7873 - accuracy: 0.0733\n",
      "Epoch 4/100\n",
      "356/356 [==============================] - 48s 136ms/step - loss: 2.7890 - accuracy: 0.0758\n",
      "Epoch 5/100\n",
      "356/356 [==============================] - 48s 136ms/step - loss: 2.8010 - accuracy: 0.0693\n",
      "Epoch 6/100\n",
      "356/356 [==============================] - 48s 136ms/step - loss: 2.8488 - accuracy: 0.0665\n",
      "Epoch 7/100\n",
      "103/356 [=======>......................] - ETA: 34s - loss: 2.8063 - accuracy: 0.0601"
     ]
    },
    {
     "ename": "KeyboardInterrupt",
     "evalue": "",
     "output_type": "error",
     "traceback": [
      "\u001b[0;31m---------------------------------------------------------------------------\u001b[0m",
      "\u001b[0;31mKeyboardInterrupt\u001b[0m                         Traceback (most recent call last)",
      "\u001b[1;32m/home/data/hussam/sparta/youtube-sim/VIdeo Model copy.ipynb Cell 16\u001b[0m in \u001b[0;36m<cell line: 30>\u001b[0;34m()\u001b[0m\n\u001b[1;32m     <a href='vscode-notebook-cell://ssh-remote%2Btoutatis.cs.uiowa.edu/home/data/hussam/sparta/youtube-sim/VIdeo%20Model%20copy.ipynb#X15sdnNjb2RlLXJlbW90ZQ%3D%3D?line=24'>25</a>\u001b[0m sgd \u001b[39m=\u001b[39m SGD(lr\u001b[39m=\u001b[39m\u001b[39m0.01\u001b[39m, decay\u001b[39m=\u001b[39m\u001b[39m1e-6\u001b[39m, momentum\u001b[39m=\u001b[39m\u001b[39m0.9\u001b[39m)\n\u001b[1;32m     <a href='vscode-notebook-cell://ssh-remote%2Btoutatis.cs.uiowa.edu/home/data/hussam/sparta/youtube-sim/VIdeo%20Model%20copy.ipynb#X15sdnNjb2RlLXJlbW90ZQ%3D%3D?line=25'>26</a>\u001b[0m model\u001b[39m.\u001b[39mcompile(loss\u001b[39m=\u001b[39m\u001b[39m'\u001b[39m\u001b[39mcategorical_crossentropy\u001b[39m\u001b[39m'\u001b[39m,\n\u001b[1;32m     <a href='vscode-notebook-cell://ssh-remote%2Btoutatis.cs.uiowa.edu/home/data/hussam/sparta/youtube-sim/VIdeo%20Model%20copy.ipynb#X15sdnNjb2RlLXJlbW90ZQ%3D%3D?line=26'>27</a>\u001b[0m                 optimizer\u001b[39m=\u001b[39msgd,\n\u001b[1;32m     <a href='vscode-notebook-cell://ssh-remote%2Btoutatis.cs.uiowa.edu/home/data/hussam/sparta/youtube-sim/VIdeo%20Model%20copy.ipynb#X15sdnNjb2RlLXJlbW90ZQ%3D%3D?line=27'>28</a>\u001b[0m                 metrics\u001b[39m=\u001b[39m[\u001b[39m'\u001b[39m\u001b[39maccuracy\u001b[39m\u001b[39m'\u001b[39m])\n\u001b[0;32m---> <a href='vscode-notebook-cell://ssh-remote%2Btoutatis.cs.uiowa.edu/home/data/hussam/sparta/youtube-sim/VIdeo%20Model%20copy.ipynb#X15sdnNjb2RlLXJlbW90ZQ%3D%3D?line=29'>30</a>\u001b[0m model\u001b[39m.\u001b[39;49mfit(X_train, y_train,\n\u001b[1;32m     <a href='vscode-notebook-cell://ssh-remote%2Btoutatis.cs.uiowa.edu/home/data/hussam/sparta/youtube-sim/VIdeo%20Model%20copy.ipynb#X15sdnNjb2RlLXJlbW90ZQ%3D%3D?line=30'>31</a>\u001b[0m             epochs\u001b[39m=\u001b[39;49m\u001b[39m100\u001b[39;49m,\n\u001b[1;32m     <a href='vscode-notebook-cell://ssh-remote%2Btoutatis.cs.uiowa.edu/home/data/hussam/sparta/youtube-sim/VIdeo%20Model%20copy.ipynb#X15sdnNjb2RlLXJlbW90ZQ%3D%3D?line=31'>32</a>\u001b[0m             batch_size\u001b[39m=\u001b[39;49m\u001b[39m16\u001b[39;49m)\n",
      "File \u001b[0;32m/home/data/hussam/miniconda3/envs/jup/lib/python3.10/site-packages/keras/utils/traceback_utils.py:64\u001b[0m, in \u001b[0;36mfilter_traceback.<locals>.error_handler\u001b[0;34m(*args, **kwargs)\u001b[0m\n\u001b[1;32m     62\u001b[0m filtered_tb \u001b[39m=\u001b[39m \u001b[39mNone\u001b[39;00m\n\u001b[1;32m     63\u001b[0m \u001b[39mtry\u001b[39;00m:\n\u001b[0;32m---> 64\u001b[0m   \u001b[39mreturn\u001b[39;00m fn(\u001b[39m*\u001b[39;49margs, \u001b[39m*\u001b[39;49m\u001b[39m*\u001b[39;49mkwargs)\n\u001b[1;32m     65\u001b[0m \u001b[39mexcept\u001b[39;00m \u001b[39mException\u001b[39;00m \u001b[39mas\u001b[39;00m e:  \u001b[39m# pylint: disable=broad-except\u001b[39;00m\n\u001b[1;32m     66\u001b[0m   filtered_tb \u001b[39m=\u001b[39m _process_traceback_frames(e\u001b[39m.\u001b[39m__traceback__)\n",
      "File \u001b[0;32m/home/data/hussam/miniconda3/envs/jup/lib/python3.10/site-packages/keras/engine/training.py:1384\u001b[0m, in \u001b[0;36mModel.fit\u001b[0;34m(self, x, y, batch_size, epochs, verbose, callbacks, validation_split, validation_data, shuffle, class_weight, sample_weight, initial_epoch, steps_per_epoch, validation_steps, validation_batch_size, validation_freq, max_queue_size, workers, use_multiprocessing)\u001b[0m\n\u001b[1;32m   1377\u001b[0m \u001b[39mwith\u001b[39;00m tf\u001b[39m.\u001b[39mprofiler\u001b[39m.\u001b[39mexperimental\u001b[39m.\u001b[39mTrace(\n\u001b[1;32m   1378\u001b[0m     \u001b[39m'\u001b[39m\u001b[39mtrain\u001b[39m\u001b[39m'\u001b[39m,\n\u001b[1;32m   1379\u001b[0m     epoch_num\u001b[39m=\u001b[39mepoch,\n\u001b[1;32m   1380\u001b[0m     step_num\u001b[39m=\u001b[39mstep,\n\u001b[1;32m   1381\u001b[0m     batch_size\u001b[39m=\u001b[39mbatch_size,\n\u001b[1;32m   1382\u001b[0m     _r\u001b[39m=\u001b[39m\u001b[39m1\u001b[39m):\n\u001b[1;32m   1383\u001b[0m   callbacks\u001b[39m.\u001b[39mon_train_batch_begin(step)\n\u001b[0;32m-> 1384\u001b[0m   tmp_logs \u001b[39m=\u001b[39m \u001b[39mself\u001b[39;49m\u001b[39m.\u001b[39;49mtrain_function(iterator)\n\u001b[1;32m   1385\u001b[0m   \u001b[39mif\u001b[39;00m data_handler\u001b[39m.\u001b[39mshould_sync:\n\u001b[1;32m   1386\u001b[0m     context\u001b[39m.\u001b[39masync_wait()\n",
      "File \u001b[0;32m/home/data/hussam/miniconda3/envs/jup/lib/python3.10/site-packages/tensorflow/python/util/traceback_utils.py:150\u001b[0m, in \u001b[0;36mfilter_traceback.<locals>.error_handler\u001b[0;34m(*args, **kwargs)\u001b[0m\n\u001b[1;32m    148\u001b[0m filtered_tb \u001b[39m=\u001b[39m \u001b[39mNone\u001b[39;00m\n\u001b[1;32m    149\u001b[0m \u001b[39mtry\u001b[39;00m:\n\u001b[0;32m--> 150\u001b[0m   \u001b[39mreturn\u001b[39;00m fn(\u001b[39m*\u001b[39;49margs, \u001b[39m*\u001b[39;49m\u001b[39m*\u001b[39;49mkwargs)\n\u001b[1;32m    151\u001b[0m \u001b[39mexcept\u001b[39;00m \u001b[39mException\u001b[39;00m \u001b[39mas\u001b[39;00m e:\n\u001b[1;32m    152\u001b[0m   filtered_tb \u001b[39m=\u001b[39m _process_traceback_frames(e\u001b[39m.\u001b[39m__traceback__)\n",
      "File \u001b[0;32m/home/data/hussam/miniconda3/envs/jup/lib/python3.10/site-packages/tensorflow/python/eager/def_function.py:915\u001b[0m, in \u001b[0;36mFunction.__call__\u001b[0;34m(self, *args, **kwds)\u001b[0m\n\u001b[1;32m    912\u001b[0m compiler \u001b[39m=\u001b[39m \u001b[39m\"\u001b[39m\u001b[39mxla\u001b[39m\u001b[39m\"\u001b[39m \u001b[39mif\u001b[39;00m \u001b[39mself\u001b[39m\u001b[39m.\u001b[39m_jit_compile \u001b[39melse\u001b[39;00m \u001b[39m\"\u001b[39m\u001b[39mnonXla\u001b[39m\u001b[39m\"\u001b[39m\n\u001b[1;32m    914\u001b[0m \u001b[39mwith\u001b[39;00m OptionalXlaContext(\u001b[39mself\u001b[39m\u001b[39m.\u001b[39m_jit_compile):\n\u001b[0;32m--> 915\u001b[0m   result \u001b[39m=\u001b[39m \u001b[39mself\u001b[39;49m\u001b[39m.\u001b[39;49m_call(\u001b[39m*\u001b[39;49margs, \u001b[39m*\u001b[39;49m\u001b[39m*\u001b[39;49mkwds)\n\u001b[1;32m    917\u001b[0m new_tracing_count \u001b[39m=\u001b[39m \u001b[39mself\u001b[39m\u001b[39m.\u001b[39mexperimental_get_tracing_count()\n\u001b[1;32m    918\u001b[0m without_tracing \u001b[39m=\u001b[39m (tracing_count \u001b[39m==\u001b[39m new_tracing_count)\n",
      "File \u001b[0;32m/home/data/hussam/miniconda3/envs/jup/lib/python3.10/site-packages/tensorflow/python/eager/def_function.py:947\u001b[0m, in \u001b[0;36mFunction._call\u001b[0;34m(self, *args, **kwds)\u001b[0m\n\u001b[1;32m    944\u001b[0m   \u001b[39mself\u001b[39m\u001b[39m.\u001b[39m_lock\u001b[39m.\u001b[39mrelease()\n\u001b[1;32m    945\u001b[0m   \u001b[39m# In this case we have created variables on the first call, so we run the\u001b[39;00m\n\u001b[1;32m    946\u001b[0m   \u001b[39m# defunned version which is guaranteed to never create variables.\u001b[39;00m\n\u001b[0;32m--> 947\u001b[0m   \u001b[39mreturn\u001b[39;00m \u001b[39mself\u001b[39;49m\u001b[39m.\u001b[39;49m_stateless_fn(\u001b[39m*\u001b[39;49margs, \u001b[39m*\u001b[39;49m\u001b[39m*\u001b[39;49mkwds)  \u001b[39m# pylint: disable=not-callable\u001b[39;00m\n\u001b[1;32m    948\u001b[0m \u001b[39melif\u001b[39;00m \u001b[39mself\u001b[39m\u001b[39m.\u001b[39m_stateful_fn \u001b[39mis\u001b[39;00m \u001b[39mnot\u001b[39;00m \u001b[39mNone\u001b[39;00m:\n\u001b[1;32m    949\u001b[0m   \u001b[39m# Release the lock early so that multiple threads can perform the call\u001b[39;00m\n\u001b[1;32m    950\u001b[0m   \u001b[39m# in parallel.\u001b[39;00m\n\u001b[1;32m    951\u001b[0m   \u001b[39mself\u001b[39m\u001b[39m.\u001b[39m_lock\u001b[39m.\u001b[39mrelease()\n",
      "File \u001b[0;32m/home/data/hussam/miniconda3/envs/jup/lib/python3.10/site-packages/tensorflow/python/eager/function.py:2956\u001b[0m, in \u001b[0;36mFunction.__call__\u001b[0;34m(self, *args, **kwargs)\u001b[0m\n\u001b[1;32m   2953\u001b[0m \u001b[39mwith\u001b[39;00m \u001b[39mself\u001b[39m\u001b[39m.\u001b[39m_lock:\n\u001b[1;32m   2954\u001b[0m   (graph_function,\n\u001b[1;32m   2955\u001b[0m    filtered_flat_args) \u001b[39m=\u001b[39m \u001b[39mself\u001b[39m\u001b[39m.\u001b[39m_maybe_define_function(args, kwargs)\n\u001b[0;32m-> 2956\u001b[0m \u001b[39mreturn\u001b[39;00m graph_function\u001b[39m.\u001b[39;49m_call_flat(\n\u001b[1;32m   2957\u001b[0m     filtered_flat_args, captured_inputs\u001b[39m=\u001b[39;49mgraph_function\u001b[39m.\u001b[39;49mcaptured_inputs)\n",
      "File \u001b[0;32m/home/data/hussam/miniconda3/envs/jup/lib/python3.10/site-packages/tensorflow/python/eager/function.py:1853\u001b[0m, in \u001b[0;36mConcreteFunction._call_flat\u001b[0;34m(self, args, captured_inputs, cancellation_manager)\u001b[0m\n\u001b[1;32m   1849\u001b[0m possible_gradient_type \u001b[39m=\u001b[39m gradients_util\u001b[39m.\u001b[39mPossibleTapeGradientTypes(args)\n\u001b[1;32m   1850\u001b[0m \u001b[39mif\u001b[39;00m (possible_gradient_type \u001b[39m==\u001b[39m gradients_util\u001b[39m.\u001b[39mPOSSIBLE_GRADIENT_TYPES_NONE\n\u001b[1;32m   1851\u001b[0m     \u001b[39mand\u001b[39;00m executing_eagerly):\n\u001b[1;32m   1852\u001b[0m   \u001b[39m# No tape is watching; skip to running the function.\u001b[39;00m\n\u001b[0;32m-> 1853\u001b[0m   \u001b[39mreturn\u001b[39;00m \u001b[39mself\u001b[39m\u001b[39m.\u001b[39m_build_call_outputs(\u001b[39mself\u001b[39;49m\u001b[39m.\u001b[39;49m_inference_function\u001b[39m.\u001b[39;49mcall(\n\u001b[1;32m   1854\u001b[0m       ctx, args, cancellation_manager\u001b[39m=\u001b[39;49mcancellation_manager))\n\u001b[1;32m   1855\u001b[0m forward_backward \u001b[39m=\u001b[39m \u001b[39mself\u001b[39m\u001b[39m.\u001b[39m_select_forward_and_backward_functions(\n\u001b[1;32m   1856\u001b[0m     args,\n\u001b[1;32m   1857\u001b[0m     possible_gradient_type,\n\u001b[1;32m   1858\u001b[0m     executing_eagerly)\n\u001b[1;32m   1859\u001b[0m forward_function, args_with_tangents \u001b[39m=\u001b[39m forward_backward\u001b[39m.\u001b[39mforward()\n",
      "File \u001b[0;32m/home/data/hussam/miniconda3/envs/jup/lib/python3.10/site-packages/tensorflow/python/eager/function.py:499\u001b[0m, in \u001b[0;36m_EagerDefinedFunction.call\u001b[0;34m(self, ctx, args, cancellation_manager)\u001b[0m\n\u001b[1;32m    497\u001b[0m \u001b[39mwith\u001b[39;00m _InterpolateFunctionError(\u001b[39mself\u001b[39m):\n\u001b[1;32m    498\u001b[0m   \u001b[39mif\u001b[39;00m cancellation_manager \u001b[39mis\u001b[39;00m \u001b[39mNone\u001b[39;00m:\n\u001b[0;32m--> 499\u001b[0m     outputs \u001b[39m=\u001b[39m execute\u001b[39m.\u001b[39;49mexecute(\n\u001b[1;32m    500\u001b[0m         \u001b[39mstr\u001b[39;49m(\u001b[39mself\u001b[39;49m\u001b[39m.\u001b[39;49msignature\u001b[39m.\u001b[39;49mname),\n\u001b[1;32m    501\u001b[0m         num_outputs\u001b[39m=\u001b[39;49m\u001b[39mself\u001b[39;49m\u001b[39m.\u001b[39;49m_num_outputs,\n\u001b[1;32m    502\u001b[0m         inputs\u001b[39m=\u001b[39;49margs,\n\u001b[1;32m    503\u001b[0m         attrs\u001b[39m=\u001b[39;49mattrs,\n\u001b[1;32m    504\u001b[0m         ctx\u001b[39m=\u001b[39;49mctx)\n\u001b[1;32m    505\u001b[0m   \u001b[39melse\u001b[39;00m:\n\u001b[1;32m    506\u001b[0m     outputs \u001b[39m=\u001b[39m execute\u001b[39m.\u001b[39mexecute_with_cancellation(\n\u001b[1;32m    507\u001b[0m         \u001b[39mstr\u001b[39m(\u001b[39mself\u001b[39m\u001b[39m.\u001b[39msignature\u001b[39m.\u001b[39mname),\n\u001b[1;32m    508\u001b[0m         num_outputs\u001b[39m=\u001b[39m\u001b[39mself\u001b[39m\u001b[39m.\u001b[39m_num_outputs,\n\u001b[0;32m   (...)\u001b[0m\n\u001b[1;32m    511\u001b[0m         ctx\u001b[39m=\u001b[39mctx,\n\u001b[1;32m    512\u001b[0m         cancellation_manager\u001b[39m=\u001b[39mcancellation_manager)\n",
      "File \u001b[0;32m/home/data/hussam/miniconda3/envs/jup/lib/python3.10/site-packages/tensorflow/python/eager/execute.py:54\u001b[0m, in \u001b[0;36mquick_execute\u001b[0;34m(op_name, num_outputs, inputs, attrs, ctx, name)\u001b[0m\n\u001b[1;32m     52\u001b[0m \u001b[39mtry\u001b[39;00m:\n\u001b[1;32m     53\u001b[0m   ctx\u001b[39m.\u001b[39mensure_initialized()\n\u001b[0;32m---> 54\u001b[0m   tensors \u001b[39m=\u001b[39m pywrap_tfe\u001b[39m.\u001b[39;49mTFE_Py_Execute(ctx\u001b[39m.\u001b[39;49m_handle, device_name, op_name,\n\u001b[1;32m     55\u001b[0m                                       inputs, attrs, num_outputs)\n\u001b[1;32m     56\u001b[0m \u001b[39mexcept\u001b[39;00m core\u001b[39m.\u001b[39m_NotOkStatusException \u001b[39mas\u001b[39;00m e:\n\u001b[1;32m     57\u001b[0m   \u001b[39mif\u001b[39;00m name \u001b[39mis\u001b[39;00m \u001b[39mnot\u001b[39;00m \u001b[39mNone\u001b[39;00m:\n",
      "\u001b[0;31mKeyboardInterrupt\u001b[0m: "
     ]
    }
   ],
   "source": [
    "# train neural network\n",
    "\n",
    "from keras.models import Sequential\n",
    "from keras.layers import Dense, Dropout\n",
    "from tensorflow.keras.optimizers import SGD\n",
    "\n",
    "\n",
    "X_train = X_train.reshape(X_train.shape[0], 12288)\n",
    "\n",
    "\n",
    "model = Sequential()\n",
    "model.add(Dense(6400, activation='relu', input_dim=12288))\n",
    "model.add(Dropout(0.4))\n",
    "model.add(Dense(3200, activation='relu'))\n",
    "model.add(Dropout(0.4))\n",
    "model.add(Dense(1600, activation='relu'))\n",
    "model.add(Dropout(0.4))\n",
    "model.add(Dense(800, activation='relu'))\n",
    "model.add(Dropout(0.4))\n",
    "model.add(Dense(400, activation='relu'))\n",
    "model.add(Dropout(0.4))\n",
    "model.add(Dense(200, activation='relu'))\n",
    "model.add(Dense(15, activation='softmax'))\n",
    "\n",
    "sgd = SGD(lr=0.01, decay=1e-6, momentum=0.9)\n",
    "\n",
    "# add early stopping\n",
    "\n",
    "from keras.callbacks import EarlyStopping\n",
    "\n",
    "\n",
    "model.compile(loss='categorical_crossentropy',\n",
    "                optimizer=sgd,\n",
    "                metrics=['accuracy'], \n",
    "                callbacks=[EarlyStopping(monitor='accuracy', patience=3)]\n",
    "                )\n",
    "\n",
    "model.fit(X_train, y_train,\n",
    "            epochs=100,\n",
    "            batch_size=16)"
   ]
  },
  {
   "cell_type": "code",
   "execution_count": 43,
   "metadata": {},
   "outputs": [
    {
     "name": "stdout",
     "output_type": "stream",
     "text": [
      "12/12 [==============================] - 1s 100ms/step - loss: 2.9539 - accuracy: 0.0556\n"
     ]
    },
    {
     "data": {
      "text/plain": [
       "[2.9538886547088623, 0.0555555559694767]"
      ]
     },
     "execution_count": 43,
     "metadata": {},
     "output_type": "execute_result"
    }
   ],
   "source": [
    "X_test = X_test.reshape(X_test.shape[0], 12288)\n",
    "model.evaluate(X_test, y_test, batch_size=128)"
   ]
  },
  {
   "cell_type": "code",
   "execution_count": 46,
   "metadata": {},
   "outputs": [],
   "source": [
    "y_pred = model.predict(X_test)"
   ]
  },
  {
   "cell_type": "code",
   "execution_count": 64,
   "metadata": {},
   "outputs": [
    {
     "name": "stdout",
     "output_type": "stream",
     "text": [
      "yes\n"
     ]
    }
   ],
   "source": [
    "# get the top 3 argmax from y_pred\n",
    "y_pred = [1, 1, 1, 5, 4, 1, 1, 2]\n",
    "y_pred = np.argsort(y_pred)\n",
    "# y_pred = np.flip(y_pred)\n",
    "y_pred[-3:]\n",
    "# y_pred[3]\n",
    "if np.argmax(y_pred) in y_pred:\n",
    "    print('yes')"
   ]
  },
  {
   "cell_type": "code",
   "execution_count": 75,
   "metadata": {},
   "outputs": [
    {
     "data": {
      "text/plain": [
       "0.10375364869832993"
      ]
     },
     "execution_count": 75,
     "metadata": {},
     "output_type": "execute_result"
    }
   ],
   "source": [
    "ii=np.argmax(Y[0])\n",
    "X[0][ii+1][0]"
   ]
  },
  {
   "cell_type": "code",
   "execution_count": 69,
   "metadata": {},
   "outputs": [
    {
     "name": "stdout",
     "output_type": "stream",
     "text": [
      "0.23706816136837006\n",
      "0.6322957277297974\n",
      "-0.24124228954315186\n",
      "0.21707817912101746\n",
      "0.021563613787293434\n",
      "-0.22810393571853638\n",
      "0.35623249411582947\n",
      "0.2359631061553955\n",
      "-0.31525903940200806\n",
      "0.10375364869832993\n",
      "-0.2930575907230377\n",
      "-0.2260609120130539\n",
      "-0.3247607350349426\n",
      "-0.10608091205358505\n",
      "-0.09520483762025833\n",
      "0.9140424728393555\n"
     ]
    }
   ],
   "source": [
    "for i in X[0]:\n",
    "    print(i[0])"
   ]
  },
  {
   "cell_type": "code",
   "execution_count": 71,
   "metadata": {},
   "outputs": [
    {
     "data": {
      "text/plain": [
       "0.23706816"
      ]
     },
     "execution_count": 71,
     "metadata": {},
     "output_type": "execute_result"
    }
   ],
   "source": [
    "video_sessions[0]['video'].title_emb[0]"
   ]
  },
  {
   "cell_type": "code",
   "execution_count": 76,
   "metadata": {},
   "outputs": [
    {
     "data": {
      "text/plain": [
       "0.10375365"
      ]
     },
     "execution_count": 76,
     "metadata": {},
     "output_type": "execute_result"
    }
   ],
   "source": [
    "video_sessions[0]['selected'].title_emb[0]"
   ]
  },
  {
   "cell_type": "code",
   "execution_count": 59,
   "metadata": {},
   "outputs": [
    {
     "data": {
      "text/plain": [
       "array([0, 1, 2, 5, 6, 7, 4, 3])"
      ]
     },
     "execution_count": 59,
     "metadata": {},
     "output_type": "execute_result"
    }
   ],
   "source": [
    "correct = 0\n",
    "total = 0\n",
    "\n",
    "for yp, yt in zip(y_pred, y_test):\n",
    "    yp = np.argsort(yp)[-3:]\n",
    "    if np.argmax(yt) in yp:\n",
    "        correct += 1\n",
    "    \n",
    "    total += 1\n",
    "\n",
    "correct / total"
   ]
  },
  {
   "cell_type": "code",
   "execution_count": 53,
   "metadata": {},
   "outputs": [
    {
     "data": {
      "text/plain": [
       "array([[13,  6,  3],\n",
       "       [13,  6,  3],\n",
       "       [13,  6,  3],\n",
       "       ...,\n",
       "       [13,  6,  3],\n",
       "       [13,  6,  3],\n",
       "       [13,  6,  3]])"
      ]
     },
     "execution_count": 53,
     "metadata": {},
     "output_type": "execute_result"
    }
   ],
   "source": [
    "y_pred"
   ]
  },
  {
   "cell_type": "code",
   "execution_count": 274,
   "metadata": {},
   "outputs": [
    {
     "name": "stdout",
     "output_type": "stream",
     "text": [
      "12/12 [==============================] - 2s 139ms/step - loss: 2.2189 - Accuracy: 0.3615\n"
     ]
    },
    {
     "data": {
      "text/plain": [
       "[2.2189486026763916, 0.3614627420902252]"
      ]
     },
     "execution_count": 274,
     "metadata": {},
     "output_type": "execute_result"
    }
   ],
   "source": [
    "model.evaluate(X_test, y_test, batch_size=128)"
   ]
  },
  {
   "cell_type": "code",
   "execution_count": 255,
   "metadata": {},
   "outputs": [],
   "source": [
    "y_test_max = np.argmax(y_test, axis=1)\n",
    "y_pred = model.predict(X_test)\n",
    "y_pred_max = np.argmax(y_pred, axis=1)"
   ]
  },
  {
   "cell_type": "code",
   "execution_count": 266,
   "metadata": {},
   "outputs": [
    {
     "name": "stdout",
     "output_type": "stream",
     "text": [
      "0.29043600562587907\n"
     ]
    }
   ],
   "source": [
    "from sklearn.metrics import f1_score\n",
    "print(f1_score(y_test_max, y_pred_max, average='micro'))\n",
    "\n",
    "# # recall and precision\n",
    "# from sklearn.metrics import recall_score, precision_score\n",
    "\n",
    "# print(recall_score(y_test, y_pred))\n",
    "# print(precision_score(y_test, y_pred))"
   ]
  },
  {
   "cell_type": "code",
   "execution_count": 247,
   "metadata": {},
   "outputs": [
    {
     "ename": "ValueError",
     "evalue": "multilabel-indicator format is not supported",
     "output_type": "error",
     "traceback": [
      "\u001b[0;31m---------------------------------------------------------------------------\u001b[0m",
      "\u001b[0;31mValueError\u001b[0m                                Traceback (most recent call last)",
      "\u001b[1;32m/home/data/hussam/sparta/youtube-sim/VIdeo Model copy.ipynb Cell 43\u001b[0m in \u001b[0;36m<cell line: 5>\u001b[0;34m()\u001b[0m\n\u001b[1;32m      <a href='vscode-notebook-cell://ssh-remote%2Btoutatis.cs.uiowa.edu/home/data/hussam/sparta/youtube-sim/VIdeo%20Model%20copy.ipynb#X54sdnNjb2RlLXJlbW90ZQ%3D%3D?line=0'>1</a>\u001b[0m y_pred \u001b[39m=\u001b[39m model\u001b[39m.\u001b[39mpredict(X_test)\n\u001b[1;32m      <a href='vscode-notebook-cell://ssh-remote%2Btoutatis.cs.uiowa.edu/home/data/hussam/sparta/youtube-sim/VIdeo%20Model%20copy.ipynb#X54sdnNjb2RlLXJlbW90ZQ%3D%3D?line=2'>3</a>\u001b[0m \u001b[39mfrom\u001b[39;00m \u001b[39msklearn\u001b[39;00m\u001b[39m.\u001b[39;00m\u001b[39mmetrics\u001b[39;00m \u001b[39mimport\u001b[39;00m roc_curve, auc\n\u001b[0;32m----> <a href='vscode-notebook-cell://ssh-remote%2Btoutatis.cs.uiowa.edu/home/data/hussam/sparta/youtube-sim/VIdeo%20Model%20copy.ipynb#X54sdnNjb2RlLXJlbW90ZQ%3D%3D?line=4'>5</a>\u001b[0m fpr, tpr, thresholds \u001b[39m=\u001b[39m roc_curve(y_test, y_pred)\n\u001b[1;32m      <a href='vscode-notebook-cell://ssh-remote%2Btoutatis.cs.uiowa.edu/home/data/hussam/sparta/youtube-sim/VIdeo%20Model%20copy.ipynb#X54sdnNjb2RlLXJlbW90ZQ%3D%3D?line=5'>6</a>\u001b[0m roc_auc \u001b[39m=\u001b[39m auc(fpr, tpr)\n\u001b[1;32m      <a href='vscode-notebook-cell://ssh-remote%2Btoutatis.cs.uiowa.edu/home/data/hussam/sparta/youtube-sim/VIdeo%20Model%20copy.ipynb#X54sdnNjb2RlLXJlbW90ZQ%3D%3D?line=7'>8</a>\u001b[0m plt\u001b[39m.\u001b[39mfigure(figsize\u001b[39m=\u001b[39m(\u001b[39m10\u001b[39m, \u001b[39m5\u001b[39m))\n",
      "File \u001b[0;32m/home/data/hussam/miniconda3/envs/jup/lib/python3.10/site-packages/sklearn/metrics/_ranking.py:992\u001b[0m, in \u001b[0;36mroc_curve\u001b[0;34m(y_true, y_score, pos_label, sample_weight, drop_intermediate)\u001b[0m\n\u001b[1;32m    904\u001b[0m \u001b[39mdef\u001b[39;00m \u001b[39mroc_curve\u001b[39m(\n\u001b[1;32m    905\u001b[0m     y_true, y_score, \u001b[39m*\u001b[39m, pos_label\u001b[39m=\u001b[39m\u001b[39mNone\u001b[39;00m, sample_weight\u001b[39m=\u001b[39m\u001b[39mNone\u001b[39;00m, drop_intermediate\u001b[39m=\u001b[39m\u001b[39mTrue\u001b[39;00m\n\u001b[1;32m    906\u001b[0m ):\n\u001b[1;32m    907\u001b[0m     \u001b[39m\"\"\"Compute Receiver operating characteristic (ROC).\u001b[39;00m\n\u001b[1;32m    908\u001b[0m \n\u001b[1;32m    909\u001b[0m \u001b[39m    Note: this implementation is restricted to the binary classification task.\u001b[39;00m\n\u001b[0;32m   (...)\u001b[0m\n\u001b[1;32m    990\u001b[0m \u001b[39m    array([1.8 , 0.8 , 0.4 , 0.35, 0.1 ])\u001b[39;00m\n\u001b[1;32m    991\u001b[0m \u001b[39m    \"\"\"\u001b[39;00m\n\u001b[0;32m--> 992\u001b[0m     fps, tps, thresholds \u001b[39m=\u001b[39m _binary_clf_curve(\n\u001b[1;32m    993\u001b[0m         y_true, y_score, pos_label\u001b[39m=\u001b[39;49mpos_label, sample_weight\u001b[39m=\u001b[39;49msample_weight\n\u001b[1;32m    994\u001b[0m     )\n\u001b[1;32m    996\u001b[0m     \u001b[39m# Attempt to drop thresholds corresponding to points in between and\u001b[39;00m\n\u001b[1;32m    997\u001b[0m     \u001b[39m# collinear with other points. These are always suboptimal and do not\u001b[39;00m\n\u001b[1;32m    998\u001b[0m     \u001b[39m# appear on a plotted ROC curve (and thus do not affect the AUC).\u001b[39;00m\n\u001b[0;32m   (...)\u001b[0m\n\u001b[1;32m   1003\u001b[0m     \u001b[39m# but does not drop more complicated cases like fps = [1, 3, 7],\u001b[39;00m\n\u001b[1;32m   1004\u001b[0m     \u001b[39m# tps = [1, 2, 4]; there is no harm in keeping too many thresholds.\u001b[39;00m\n\u001b[1;32m   1005\u001b[0m     \u001b[39mif\u001b[39;00m drop_intermediate \u001b[39mand\u001b[39;00m \u001b[39mlen\u001b[39m(fps) \u001b[39m>\u001b[39m \u001b[39m2\u001b[39m:\n",
      "File \u001b[0;32m/home/data/hussam/miniconda3/envs/jup/lib/python3.10/site-packages/sklearn/metrics/_ranking.py:749\u001b[0m, in \u001b[0;36m_binary_clf_curve\u001b[0;34m(y_true, y_score, pos_label, sample_weight)\u001b[0m\n\u001b[1;32m    747\u001b[0m y_type \u001b[39m=\u001b[39m type_of_target(y_true, input_name\u001b[39m=\u001b[39m\u001b[39m\"\u001b[39m\u001b[39my_true\u001b[39m\u001b[39m\"\u001b[39m)\n\u001b[1;32m    748\u001b[0m \u001b[39mif\u001b[39;00m \u001b[39mnot\u001b[39;00m (y_type \u001b[39m==\u001b[39m \u001b[39m\"\u001b[39m\u001b[39mbinary\u001b[39m\u001b[39m\"\u001b[39m \u001b[39mor\u001b[39;00m (y_type \u001b[39m==\u001b[39m \u001b[39m\"\u001b[39m\u001b[39mmulticlass\u001b[39m\u001b[39m\"\u001b[39m \u001b[39mand\u001b[39;00m pos_label \u001b[39mis\u001b[39;00m \u001b[39mnot\u001b[39;00m \u001b[39mNone\u001b[39;00m)):\n\u001b[0;32m--> 749\u001b[0m     \u001b[39mraise\u001b[39;00m \u001b[39mValueError\u001b[39;00m(\u001b[39m\"\u001b[39m\u001b[39m{0}\u001b[39;00m\u001b[39m format is not supported\u001b[39m\u001b[39m\"\u001b[39m\u001b[39m.\u001b[39mformat(y_type))\n\u001b[1;32m    751\u001b[0m check_consistent_length(y_true, y_score, sample_weight)\n\u001b[1;32m    752\u001b[0m y_true \u001b[39m=\u001b[39m column_or_1d(y_true)\n",
      "\u001b[0;31mValueError\u001b[0m: multilabel-indicator format is not supported"
     ]
    }
   ],
   "source": [
    "\n",
    "y_pred = model.predict(X_test)\n",
    "\n",
    "from sklearn.metrics import roc_curve, auc\n",
    "\n",
    "fpr, tpr, thresholds = roc_curve(y_test, y_pred)\n",
    "roc_auc = auc(fpr, tpr)\n",
    "\n",
    "plt.figure(figsize=(10, 5))\n",
    "plt.plot(fpr, tpr, color='darkorange',\n",
    "        lw=2, label='ROC curve (area = %0.2f)' % roc_auc)\n",
    "plt.plot([0, 1], [0, 1], color='navy',\n",
    "        lw=2, linestyle='--')  \n",
    "plt.xlim([0.0, 1.0])\n",
    "plt.ylim([0.0, 1.05])\n",
    "plt.xlabel('False positive rate')\n",
    "plt.ylabel('True positive rate')\n",
    "plt.title('AUC')\n",
    "plt.legend(loc=\"lower right\")"
   ]
  },
  {
   "cell_type": "code",
   "execution_count": 88,
   "metadata": {},
   "outputs": [
    {
     "data": {
      "text/plain": [
       "3079"
      ]
     },
     "execution_count": 88,
     "metadata": {},
     "output_type": "execute_result"
    }
   ],
   "source": [
    "m.predict(X_test).sum()"
   ]
  },
  {
   "cell_type": "code",
   "execution_count": 86,
   "metadata": {},
   "outputs": [
    {
     "data": {
      "text/plain": [
       "0.11928269192020956"
      ]
     },
     "execution_count": 86,
     "metadata": {},
     "output_type": "execute_result"
    }
   ],
   "source": [
    "# calculate f1score\n",
    "from sklearn.metrics import f1_score\n",
    "f1_score(y_test, m.predict(X_test))"
   ]
  },
  {
   "cell_type": "code",
   "execution_count": null,
   "metadata": {},
   "outputs": [],
   "source": []
  }
 ],
 "metadata": {
  "kernelspec": {
   "display_name": "Python 3 (ipykernel)",
   "language": "python",
   "name": "python3"
  },
  "language_info": {
   "codemirror_mode": {
    "name": "ipython",
    "version": 3
   },
   "file_extension": ".py",
   "mimetype": "text/x-python",
   "name": "python",
   "nbconvert_exporter": "python",
   "pygments_lexer": "ipython3",
   "version": "3.6.9"
  }
 },
 "nbformat": 4,
 "nbformat_minor": 4
}
